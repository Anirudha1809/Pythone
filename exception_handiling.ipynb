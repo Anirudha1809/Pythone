{
 "cells": [
  {
   "cell_type": "code",
   "execution_count": 1,
   "metadata": {},
   "outputs": [],
   "source": [
    "l=[1,2,6,7,8,9,0]\n",
    "l1=[]\n",
    "def even_person(l):\n",
    "    for i in l:\n",
    "        if i%2==0:\n",
    "            l1.append(i)\n",
    "    return l1"
   ]
  },
  {
   "cell_type": "code",
   "execution_count": 2,
   "metadata": {},
   "outputs": [
    {
     "data": {
      "text/plain": [
       "[2, 6, 8, 0]"
      ]
     },
     "execution_count": 2,
     "metadata": {},
     "output_type": "execute_result"
    }
   ],
   "source": [
    "even_person(l)"
   ]
  },
  {
   "cell_type": "code",
   "execution_count": 12,
   "metadata": {},
   "outputs": [
    {
     "name": "stdout",
     "output_type": "stream",
     "text": [
      "Errorr!!!\n"
     ]
    }
   ],
   "source": [
    "try:\n",
    "    a=int(input(\"Enter a num\"))\n",
    "    b=int(input(\"Enter a num\"))\n",
    "    c=a/b\n",
    "    print(c)\n",
    "except:\n",
    "    print(\"Errorr!!!\")"
   ]
  },
  {
   "cell_type": "code",
   "execution_count": 13,
   "metadata": {},
   "outputs": [],
   "source": [
    "l=[1,2,6,7,8,9,0]\n",
    "l1=[]\n",
    "def even_person(l):\n",
    "    try:\n",
    "        for i in l:\n",
    "            if i%2==0:\n",
    "                l1.append(i)\n",
    "        return l1\n",
    "    except:\n",
    "        pass"
   ]
  },
  {
   "cell_type": "code",
   "execution_count": 15,
   "metadata": {},
   "outputs": [
    {
     "data": {
      "text/plain": [
       "[2, 6, 8, 0]"
      ]
     },
     "execution_count": 15,
     "metadata": {},
     "output_type": "execute_result"
    }
   ],
   "source": [
    "even_person(l)"
   ]
  },
  {
   "cell_type": "code",
   "execution_count": 16,
   "metadata": {},
   "outputs": [
    {
     "name": "stdout",
     "output_type": "stream",
     "text": [
      "Error division by zero\n"
     ]
    }
   ],
   "source": [
    "try:\n",
    "    c=6/0\n",
    "except Exception as e:\n",
    "    print(\"Error\",e)"
   ]
  },
  {
   "cell_type": "code",
   "execution_count": 19,
   "metadata": {},
   "outputs": [
    {
     "name": "stdout",
     "output_type": "stream",
     "text": [
      "Error invalid literal for int() with base 10: 'sydh'\n"
     ]
    }
   ],
   "source": [
    "try:\n",
    "    a=int(input())\n",
    "    b=int(input())\n",
    "    c=a/b\n",
    "except TypeError as t:\n",
    "    print(\"Error\",e)\n",
    "except ZeroDivisionError as e:\n",
    "    print(\"Error\",e)\n",
    "except ValueError as v:\n",
    "    print(\"Error\",v)"
   ]
  },
  {
   "cell_type": "code",
   "execution_count": 2,
   "metadata": {},
   "outputs": [
    {
     "name": "stdout",
     "output_type": "stream",
     "text": [
      "division by zero\n",
      "This will be executed always\n"
     ]
    }
   ],
   "source": [
    "try:\n",
    "    x=5/0\n",
    "except ZeroDivisionError as z:\n",
    "    print(z)\n",
    "else:\n",
    "    print(\"This will excecute once try will execute without and error\")\n",
    "finally:\n",
    "    print(\"This will be executed always\")"
   ]
  },
  {
   "cell_type": "code",
   "execution_count": 12,
   "metadata": {},
   "outputs": [
    {
     "name": "stdout",
     "output_type": "stream",
     "text": [
      "This is a keyerror\n"
     ]
    }
   ],
   "source": [
    "try:\n",
    "    d={\"name\":\"Ani\",\"mobile_no\":7318682738,\"email_id\":\"anirudha@gmail.com\"}\n",
    "    d[\"course\"]\n",
    "except Exception as e:\n",
    "    print(\"This is a keyerror\")\n"
   ]
  },
  {
   "cell_type": "code",
   "execution_count": 10,
   "metadata": {},
   "outputs": [
    {
     "data": {
      "text/plain": [
       "{'name': 'Ani', 'mobile_no': 7318682738, 'email_id': 'anirudha@gmail.com'}"
      ]
     },
     "execution_count": 10,
     "metadata": {},
     "output_type": "execute_result"
    }
   ],
   "source": [
    "d"
   ]
  },
  {
   "cell_type": "code",
   "execution_count": 14,
   "metadata": {},
   "outputs": [
    {
     "name": "stdout",
     "output_type": "stream",
     "text": [
      "list index out of range\n"
     ]
    }
   ],
   "source": [
    "try:\n",
    "    lst=[4,5,6,7,8,9,23]\n",
    "    lst[10]\n",
    "except Exception as e:\n",
    "    print(e)"
   ]
  },
  {
   "cell_type": "code",
   "execution_count": 15,
   "metadata": {},
   "outputs": [
    {
     "name": "stdout",
     "output_type": "stream",
     "text": [
      "invalid literal for int() with base 10: 'sudh'\n"
     ]
    }
   ],
   "source": [
    "try:\n",
    "    a=\"sudh\"\n",
    "    int(a)\n",
    "except Exception as e:\n",
    "    print(e)"
   ]
  },
  {
   "cell_type": "code",
   "execution_count": 16,
   "metadata": {},
   "outputs": [
    {
     "data": {
      "text/plain": [
       "\"Introduction\\nIn the era of big data, the fields of data science and data mining have emerged as pivotal disciplines, each playing a crucial role in extracting insights from vast amounts of data. While these terms are often used interchangeably, they represent distinct methodologies and approaches to data analysis. This report aims to provide a comprehensive comparison between data science and data mining, elucidating their definitions, methodologies, applications, and differences.\\n\\nOverview\\nData science encompasses a broad range of techniques and methodologies aimed at extracting knowledge and insights from structured and unstructured data. It incorporates various disciplines such as statistics, machine learning, data visualization, and domain knowledge to uncover patterns, trends, and correlations in data.\\n\\nOn the other hand, data mining focuses specifically on the process of discovering patterns and relationships in large datasets through computational techniques. It involves methods such as clustering, classification, regression, and association rule mining to identify hidden patterns that can be used for decision-making and predictive modeling.\\n\\nDescription\\nData Science\\nData science involves the entire lifecycle of data analysis, starting from data collection and preprocessing to analysis, interpretation, and visualization. It employs statistical techniques, machine learning algorithms, and domain expertise to extract actionable insights from data. Data scientists utilize programming languages such as Python, R, and SQL, along with various libraries and frameworks to manipulate and analyze data efficiently.\\n\\nData Mining\\nData mining focuses on the process of uncovering patterns and relationships within datasets to extract useful information. It utilizes techniques such as clustering, classification, regression, and association rule mining to identify patterns that are not readily apparent. Data mining algorithms often work with large datasets to discover hidden insights that can be used for decision support and predictive modeling.\\n\\nComparison Analysis\\nObjectives\\nData science aims to extract insights and knowledge from data to drive decision-making and solve complex problems.\\nData mining focuses on discovering patterns and relationships within data to identify actionable insights and trends.\\nMethodologies\\nData science employs a wide range of techniques, including statistical analysis, machine learning, data visualization, and domain expertise.\\nData mining primarily utilizes computational techniques such as clustering, classification, regression, and association rule mining to uncover patterns in data.\\nApplications\\nData science finds applications in various domains such as finance, healthcare, marketing, and e-commerce for tasks such as predictive modeling, customer segmentation, fraud detection, and recommendation systems.\\nData mining is commonly used in areas like market basket analysis, customer churn prediction, anomaly detection, and sentiment analysis to uncover hidden patterns and trends in data.\\nTools and Technologies\\nData science utilizes programming languages such as Python, R, and SQL, along with libraries and frameworks like TensorFlow, scikit-learn, and pandas for data analysis and machine learning.\\nData mining tools include software packages such as Weka, RapidMiner, and KNIME, which offer a range of algorithms and functionalities for data mining tasks.\\nUses\\nData science is used for tasks such as predictive modeling, classification, regression, clustering, and natural language processing to derive actionable insights from data.\\nData mining is employed for tasks such as market basket analysis, customer segmentation, anomaly detection, and pattern recognition to uncover hidden patterns and trends in data.\\nFindings\\nThrough the comparison of data science and data mining, it is evident that while they share similarities in their objective of extracting insights from data, they differ in their methodologies, techniques, and applications. Data science encompasses a broader spectrum of techniques and tools, including data mining, while data mining focuses specifically on the process of pattern discovery within datasets. Both disciplines play crucial roles in harnessing the power of data to drive informed decision-making and innovation across various industries.\\n\\nReferences\\nHan, J., Kamber, M., & Pei, J. (2011). Data mining: concepts and techniques. Elsevier.\\nProvost, F., & Fawcett, T. (2013). Data science for business: What you need to know about data mining and data-analytic thinking. O'Reilly Media, Inc.\\nVanderPlas, J. (2016). Python data science handbook: Essential tools for working with data. O'Reilly Media, Inc.\\n\""
      ]
     },
     "execution_count": 16,
     "metadata": {},
     "output_type": "execute_result"
    }
   ],
   "source": [
    "file_name=\"Introduction.txt\"\n",
    "f=open(file_name)\n",
    "f.read()"
   ]
  },
  {
   "cell_type": "code",
   "execution_count": 18,
   "metadata": {},
   "outputs": [
    {
     "name": "stdout",
     "output_type": "stream",
     "text": [
      "[Errno 2] No such file or directory: 'text.txt'\n"
     ]
    }
   ],
   "source": [
    "try:\n",
    "    file_name=\"text.txt\"\n",
    "    f=open(file_name)\n",
    "    f.read()\n",
    "except Exception as e:\n",
    "    print(e)"
   ]
  },
  {
   "cell_type": "code",
   "execution_count": 20,
   "metadata": {},
   "outputs": [
    {
     "name": "stdout",
     "output_type": "stream",
     "text": [
      " Volume in drive C is Windows\n",
      " Volume Serial Number is 602E-AE5A\n",
      "\n",
      " Directory of c:\\Users\\Anirudha Gupta\\OneDrive\\Documents\\Desktop\\python\\Pythone\n",
      "\n"
     ]
    },
    {
     "name": "stderr",
     "output_type": "stream",
     "text": [
      "File Not Found\n"
     ]
    }
   ],
   "source": [
    "ls -l"
   ]
  },
  {
   "cell_type": "code",
   "execution_count": 3,
   "metadata": {},
   "outputs": [
    {
     "data": {
      "text/plain": [
       "<_io.TextIOWrapper name='C:/Users/Anirudha Gupta/OneDrive/Documents/Desktop/python/Pythone/Introduction.txt' mode='r' encoding='cp1252'>"
      ]
     },
     "execution_count": 3,
     "metadata": {},
     "output_type": "execute_result"
    }
   ],
   "source": [
    "open(\"C:/Users/Anirudha Gupta/OneDrive/Documents/Desktop/python/Pythone/Introduction.txt\")"
   ]
  },
  {
   "cell_type": "code",
   "execution_count": 1,
   "metadata": {},
   "outputs": [
    {
     "name": "stdout",
     "output_type": "stream",
     "text": [
      "0\n",
      "1\n",
      "2\n",
      "0\n"
     ]
    }
   ],
   "source": [
    "i=0\n",
    "while i<3:\n",
    "    print(i)\n",
    "    i+=1\n",
    "else:\n",
    "    print(0)"
   ]
  },
  {
   "cell_type": "code",
   "execution_count": 16,
   "metadata": {},
   "outputs": [
    {
     "name": "stdout",
     "output_type": "stream",
     "text": [
      "A\n",
      "B\n"
     ]
    }
   ],
   "source": [
    "x = 10\n",
    "\n",
    "if x > 5:\n",
    "\n",
    "   print(\"A\")\n",
    "\n",
    "if x > 7:\n",
    "\n",
    "   print(\"B\")\n",
    "\n",
    "else:\n",
    "\n",
    "   print(\"C\")"
   ]
  },
  {
   "cell_type": "code",
   "execution_count": 1,
   "metadata": {},
   "outputs": [
    {
     "data": {
      "text/plain": [
       "['hello']"
      ]
     },
     "execution_count": 1,
     "metadata": {},
     "output_type": "execute_result"
    }
   ],
   "source": [
    "'hello'.split()"
   ]
  },
  {
   "cell_type": "code",
   "execution_count": 5,
   "metadata": {},
   "outputs": [
    {
     "name": "stdout",
     "output_type": "stream",
     "text": [
      "user has enter invalid input division by zero\n"
     ]
    }
   ],
   "source": [
    "try:\n",
    "    n=int(input(\"Enter a number: \"))\n",
    "    div=342/n\n",
    "    print(div)\n",
    "except ValueError as v:\n",
    "    print(\"user has enter invalid input\",v)\n",
    "except ZeroDivisionError as z:\n",
    "    print(\"user has enter invalid input\",z)"
   ]
  },
  {
   "cell_type": "code",
   "execution_count": 8,
   "metadata": {},
   "outputs": [
    {
     "name": "stdout",
     "output_type": "stream",
     "text": [
      "Invalid input invalid literal for int() with base 10: 'a'\n"
     ]
    }
   ],
   "source": [
    "try:\n",
    "    n=int(input(\"Enter a number\"))\n",
    "    div=342/n\n",
    "    print(div)\n",
    "except (ValueError,ZeroDivisionError)as v:\n",
    "    print(\"Invalid input\",v)"
   ]
  },
  {
   "cell_type": "code",
   "execution_count": 10,
   "metadata": {},
   "outputs": [
    {
     "name": "stdout",
     "output_type": "stream",
     "text": [
      "Invalid input\n"
     ]
    }
   ],
   "source": [
    "try:\n",
    "    try:\n",
    "        n=int(input(\"Enter a number: \"))\n",
    "        div=342/n\n",
    "        print(div)\n",
    "    except ZeroDivisionError:\n",
    "        print(\"Cannot divide by zero\")\n",
    "except ValueError:\n",
    "    print(\"Invalid input\")"
   ]
  },
  {
   "cell_type": "code",
   "execution_count": 12,
   "metadata": {},
   "outputs": [
    {
     "name": "stdout",
     "output_type": "stream",
     "text": [
      "57.0\n",
      "57.0\n"
     ]
    }
   ],
   "source": [
    "try:\n",
    "    n=int(input(\"Enter a number: \"))\n",
    "    div=342/n\n",
    "    print(div)\n",
    "except Exception:\n",
    "    print(\"Invalid input\")\n",
    "else:\n",
    "    print(div)"
   ]
  },
  {
   "cell_type": "code",
   "execution_count": 24,
   "metadata": {},
   "outputs": [
    {
     "name": "stdout",
     "output_type": "stream",
     "text": [
      "There is a some issue\n"
     ]
    }
   ],
   "source": [
    "try:\n",
    "\n",
    "    f=open(\"Introduction.txt\")\n",
    "    f.write(\"dbjhcsbkjcabdsdhsa\")\n",
    "except Exception:\n",
    "    print(\"There is a some issue\")\n",
    "finally:\n",
    "    f.close()\n",
    "    \n",
    "\n"
   ]
  },
  {
   "cell_type": "code",
   "execution_count": 31,
   "metadata": {},
   "outputs": [
    {
     "name": "stdout",
     "output_type": "stream",
     "text": [
      "Introduction\n",
      "In the era of big data, the fields of data science and data mining have emerged as pivotal disciplines, each playing a crucial role in extracting insights from vast amounts of data. While these terms are often used interchangeably, they represent distinct methodologies and approaches to data analysis. This report aims to provide a comprehensive comparison between data science and data mining, elucidating their definitions, methodologies, applications, and differences.\n",
      "\n",
      "Overview\n",
      "Data science encompasses a broad range of techniques and methodologies aimed at extracting knowledge and insights from structured and unstructured data. It incorporates various disciplines such as statistics, machine learning, data visualization, and domain knowledge to uncover patterns, trends, and correlations in data.\n",
      "\n",
      "On the other hand, data mining focuses specifically on the process of discovering patterns and relationships in large datasets through computational techniques. It involves methods such as clustering, classification, regression, and association rule mining to identify hidden patterns that can be used for decision-making and predictive modeling.\n",
      "\n",
      "Description\n",
      "Data Science\n",
      "Data science involves the entire lifecycle of data analysis, starting from data collection and preprocessing to analysis, interpretation, and visualization. It employs statistical techniques, machine learning algorithms, and domain expertise to extract actionable insights from data. Data scientists utilize programming languages such as Python, R, and SQL, along with various libraries and frameworks to manipulate and analyze data efficiently.\n",
      "\n",
      "Data Mining\n",
      "Data mining focuses on the process of uncovering patterns and relationships within datasets to extract useful information. It utilizes techniques such as clustering, classification, regression, and association rule mining to identify patterns that are not readily apparent. Data mining algorithms often work with large datasets to discover hidden insights that can be used for decision support and predictive modeling.\n",
      "\n",
      "Comparison Analysis\n",
      "Objectives\n",
      "Data science aims to extract insights and knowledge from data to drive decision-making and solve complex problems.\n",
      "Data mining focuses on discovering patterns and relationships within data to identify actionable insights and trends.\n",
      "Methodologies\n",
      "Data science employs a wide range of techniques, including statistical analysis, machine learning, data visualization, and domain expertise.\n",
      "Data mining primarily utilizes computational techniques such as clustering, classification, regression, and association rule mining to uncover patterns in data.\n",
      "Applications\n",
      "Data science finds applications in various domains such as finance, healthcare, marketing, and e-commerce for tasks such as predictive modeling, customer segmentation, fraud detection, and recommendation systems.\n",
      "Data mining is commonly used in areas like market basket analysis, customer churn prediction, anomaly detection, and sentiment analysis to uncover hidden patterns and trends in data.\n",
      "Tools and Technologies\n",
      "Data science utilizes programming languages such as Python, R, and SQL, along with libraries and frameworks like TensorFlow, scikit-learn, and pandas for data analysis and machine learning.\n",
      "Data mining tools include software packages such as Weka, RapidMiner, and KNIME, which offer a range of algorithms and functionalities for data mining tasks.\n",
      "Uses\n",
      "Data science is used for tasks such as predictive modeling, classification, regression, clustering, and natural language processing to derive actionable insights from data.\n",
      "Data mining is employed for tasks such as market basket analysis, customer segmentation, anomaly detection, and pattern recognition to uncover hidden patterns and trends in data.\n",
      "Findings\n",
      "Through the comparison of data science and data mining, it is evident that while they share similarities in their objective of extracting insights from data, they differ in their methodologies, techniques, and applications. Data science encompasses a broader spectrum of techniques and tools, including data mining, while data mining focuses specifically on the process of pattern discovery within datasets. Both disciplines play crucial roles in harnessing the power of data to drive informed decision-making and innovation across various industries.\n",
      "\n",
      "References\n",
      "Han, J., Kamber, M., & Pei, J. (2011). Data mining: concepts and techniques. Elsevier.\n",
      "Provost, F., & Fawcett, T. (2013). Data science for business: What you need to know about data mining and data-analytic thinking. O'Reilly Media, Inc.\n",
      "VanderPlas, J. (2016). Python data science handbook: Essential tools for working with data. O'Reilly Media, Inc.\n",
      "\n",
      "Introduction\n",
      "In the era of big data, the fields of data science and data mining have emerged as pivotal disciplines, each playing a crucial role in extracting insights from vast amounts of data. While these terms are often used interchangeably, they represent distinct methodologies and approaches to data analysis. This report aims to provide a comprehensive comparison between data science and data mining, elucidating their definitions, methodologies, applications, and differences.\n",
      "\n",
      "Overview\n",
      "Data science encompasses a broad range of techniques and methodologies aimed at extracting knowledge and insights from structured and unstructured data. It incorporates various disciplines such as statistics, machine learning, data visualization, and domain knowledge to uncover patterns, trends, and correlations in data.\n",
      "\n",
      "On the other hand, data mining focuses specifically on the process of discovering patterns and relationships in large datasets through computational techniques. It involves methods such as clustering, classification, regression, and association rule mining to identify hidden patterns that can be used for decision-making and predictive modeling.\n",
      "\n",
      "Description\n",
      "Data Science\n",
      "Data science involves the entire lifecycle of data analysis, starting from data collection and preprocessing to analysis, interpretation, and visualization. It employs statistical techniques, machine learning algorithms, and domain expertise to extract actionable insights from data. Data scientists utilize programming languages such as Python, R, and SQL, along with various libraries and frameworks to manipulate and analyze data efficiently.\n",
      "\n",
      "Data Mining\n",
      "Data mining focuses on the process of uncovering patterns and relationships within datasets to extract useful information. It utilizes techniques such as clustering, classification, regression, and association rule mining to identify patterns that are not readily apparent. Data mining algorithms often work with large datasets to discover hidden insights that can be used for decision support and predictive modeling.\n",
      "\n",
      "Comparison Analysis\n",
      "Objectives\n",
      "Data science aims to extract insights and knowledge from data to drive decision-making and solve complex problems.\n",
      "Data mining focuses on discovering patterns and relationships within data to identify actionable insights and trends.\n",
      "Methodologies\n",
      "Data science employs a wide range of techniques, including statistical analysis, machine learning, data visualization, and domain expertise.\n",
      "Data mining primarily utilizes computational techniques such as clustering, classification, regression, and association rule mining to uncover patterns in data.\n",
      "Applications\n",
      "Data science finds applications in various domains such as finance, healthcare, marketing, and e-commerce for tasks such as predictive modeling, customer segmentation, fraud detection, and recommendation systems.\n",
      "Data mining is commonly used in areas like market basket analysis, customer churn prediction, anomaly detection, and sentiment analysis to uncover hidden patterns and trends in data.\n",
      "Tools and Technologies\n",
      "Data science utilizes programming languages such as Python, R, and SQL, along with libraries and frameworks like TensorFlow, scikit-learn, and pandas for data analysis and machine learning.\n",
      "Data mining tools include software packages such as Weka, RapidMiner, and KNIME, which offer a range of algorithms and functionalities for data mining tasks.\n",
      "Uses\n",
      "Data science is used for tasks such as predictive modeling, classification, regression, clustering, and natural language processing to derive actionable insights from data.\n",
      "Data mining is employed for tasks such as market basket analysis, customer segmentation, anomaly detection, and pattern recognition to uncover hidden patterns and trends in data.\n",
      "Findings\n",
      "Through the comparison of data science and data mining, it is evident that while they share similarities in their objective of extracting insights from data, they differ in their methodologies, techniques, and applications. Data science encompasses a broader spectrum of techniques and tools, including data mining, while data mining focuses specifically on the process of pattern discovery within datasets. Both disciplines play crucial roles in harnessing the power of data to drive informed decision-making and innovation across various industries.\n",
      "\n",
      "References\n",
      "Han, J., Kamber, M., & Pei, J. (2011). Data mining: concepts and techniques. Elsevier.\n",
      "Provost, F., & Fawcett, T. (2013). Data science for business: What you need to know about data mining and data-analytic thinking. O'Reilly Media, Inc.\n",
      "VanderPlas, J. (2016). Python data science handbook: Essential tools for working with data. O'Reilly Media, Inc.\n",
      "\n",
      "File closed\n"
     ]
    }
   ],
   "source": [
    "try:\n",
    "    f=open(\"Introduction.txt\")\n",
    "    data=f.read()\n",
    "except Exception:\n",
    "    print(\"There is a some issue\")\n",
    "else:\n",
    "    print(data)\n",
    "finally:\n",
    "    print(data)\n",
    "    f.close()\n",
    "    print(\"File closed\")"
   ]
  },
  {
   "cell_type": "code",
   "execution_count": 19,
   "metadata": {},
   "outputs": [
    {
     "data": {
      "text/plain": [
       "<_io.TextIOWrapper name='Introduction.txt' mode='r' encoding='cp1252'>"
      ]
     },
     "execution_count": 19,
     "metadata": {},
     "output_type": "execute_result"
    }
   ],
   "source": [
    "f\n"
   ]
  },
  {
   "cell_type": "code",
   "execution_count": 32,
   "metadata": {},
   "outputs": [
    {
     "name": "stdout",
     "output_type": "stream",
     "text": [
      "There is a some issue\n",
      "File closed\n"
     ]
    }
   ],
   "source": [
    "try:\n",
    "    f=open(\"Introduction.txt\")\n",
    "    data1=f.write()\n",
    "except Exception:\n",
    "    print(\"There is a some issue\")\n",
    "else:\n",
    "    print(data1)\n",
    "finally:\n",
    "    try:\n",
    "        print(data1)\n",
    "        f.close()\n",
    "        print(\"File closed\")\n",
    "    except:\n",
    "        pass\n",
    "        f.close()\n",
    "        print(\"File closed\")"
   ]
  },
  {
   "cell_type": "code",
   "execution_count": 40,
   "metadata": {},
   "outputs": [
    {
     "name": "stdout",
     "output_type": "stream",
     "text": [
      "23\n"
     ]
    }
   ],
   "source": [
    "try:\n",
    "    a=int(input(\"Enter your height\"))\n",
    "    if a<0:\n",
    "        raise ValueError(\"enter height in negative\")\n",
    "except ValueError as e:\n",
    "    print(e)\n",
    "else:\n",
    "    print(a)"
   ]
  },
  {
   "cell_type": "code",
   "execution_count": 42,
   "metadata": {},
   "outputs": [
    {
     "name": "stdout",
     "output_type": "stream",
     "text": [
      "You are an adult\n"
     ]
    }
   ],
   "source": [
    "try:\n",
    "    age=int(input(\"Enter your age\"))\n",
    "    if age<0:\n",
    "        raise ValueError(\"Age can't be negative\")\n",
    "    elif age<18:\n",
    "        raise ValueError(\"You are a minor\")\n",
    "    else:\n",
    "        print(\"You are an adult\")\n",
    "except ValueError as v:\n",
    "    print(v)\n"
   ]
  },
  {
   "cell_type": "code",
   "execution_count": 8,
   "metadata": {},
   "outputs": [],
   "source": [
    "import logging as log\n",
    "log.basicConfig(filename=\"Introduction.txt\",level=log.INFO)\n",
    "log.info(\"Welcome to store a msg\")\n",
    "log.debug(\"Welcome to\")\n",
    "log.warning(\"this is my warning\")\n",
    "log.error(\"this is my error\")\n",
    "log.critical(\"this is my critical\")"
   ]
  },
  {
   "cell_type": "code",
   "execution_count": 2,
   "metadata": {},
   "outputs": [
    {
     "name": "stdout",
     "output_type": "stream",
     "text": [
      "You are an adult\n"
     ]
    }
   ],
   "source": [
    "import logging\n",
    "logging.basicConfig(filename='trytest.log',level=logging.DEBUG,format='%(asctime)s-%(levelname)s-%(message)s')\n",
    "try:\n",
    "    logging.info('this is the startt of my prog')\n",
    "    logging.info('asking user to enter a age')\n",
    "    age=int(input(\"Enter your age\"))\n",
    "    logging.info('user has entered the age')\n",
    "    if age<0:\n",
    "        logging.info('i am checking negative condition')\n",
    "        raise ValueError(\"Age can't be negative\")\n",
    "    elif age<18:\n",
    "        logging.info('i am checking under 18 condition')\n",
    "        raise ValueError(\"You are a minor\")\n",
    "    else:\n",
    "        print(\"You are an adult\")\n",
    "except ValueError as v:\n",
    "    logging.error(v)"
   ]
  },
  {
   "cell_type": "code",
   "execution_count": null,
   "metadata": {},
   "outputs": [],
   "source": []
  }
 ],
 "metadata": {
  "kernelspec": {
   "display_name": "Python 3",
   "language": "python",
   "name": "python3"
  },
  "language_info": {
   "codemirror_mode": {
    "name": "ipython",
    "version": 3
   },
   "file_extension": ".py",
   "mimetype": "text/x-python",
   "name": "python",
   "nbconvert_exporter": "python",
   "pygments_lexer": "ipython3",
   "version": "3.12.2"
  }
 },
 "nbformat": 4,
 "nbformat_minor": 2
}
