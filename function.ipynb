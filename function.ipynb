{
 "cells": [
  {
   "cell_type": "code",
   "execution_count": 8,
   "id": "ee5ea7f8-1016-4253-b4c2-4ea41ff890f9",
   "metadata": {},
   "outputs": [
    {
     "data": {
      "text/plain": [
       "['w', 'ite Code']"
      ]
     },
     "execution_count": 8,
     "metadata": {},
     "output_type": "execute_result"
    }
   ],
   "source": [
    "taxt=\"write Code\"\n",
    "taxt.split(r)"
   ]
  },
  {
   "cell_type": "code",
   "execution_count": 12,
   "id": "40094e79-64f6-4793-9426-42d1826e2c0c",
   "metadata": {},
   "outputs": [
    {
     "name": "stdout",
     "output_type": "stream",
     "text": [
      "Enter 3 no wolcome to pwskills\n"
     ]
    }
   ],
   "source": [
    "x=input(\"Enter 3 no\")"
   ]
  },
  {
   "cell_type": "code",
   "execution_count": 15,
   "id": "a2e33426-f46f-4754-bc07-d8b707037922",
   "metadata": {},
   "outputs": [],
   "source": [
    "word1,word2,word3=x.split()"
   ]
  },
  {
   "cell_type": "code",
   "execution_count": 16,
   "id": "b9ca072e-5263-47e3-ad47-8600238ff1c3",
   "metadata": {},
   "outputs": [
    {
     "data": {
      "text/plain": [
       "'wolcome'"
      ]
     },
     "execution_count": 16,
     "metadata": {},
     "output_type": "execute_result"
    }
   ],
   "source": [
    "word1\n"
   ]
  },
  {
   "cell_type": "code",
   "execution_count": 17,
   "id": "be5f729c-ea95-4b88-bb33-c2c0f5ec2446",
   "metadata": {},
   "outputs": [
    {
     "data": {
      "text/plain": [
       "'to'"
      ]
     },
     "execution_count": 17,
     "metadata": {},
     "output_type": "execute_result"
    }
   ],
   "source": [
    "word2"
   ]
  },
  {
   "cell_type": "code",
   "execution_count": 18,
   "id": "510a67fe-60d0-45b2-889b-7adc381f968d",
   "metadata": {},
   "outputs": [
    {
     "data": {
      "text/plain": [
       "'pwskills'"
      ]
     },
     "execution_count": 18,
     "metadata": {},
     "output_type": "execute_result"
    }
   ],
   "source": [
    "word3"
   ]
  },
  {
   "cell_type": "code",
   "execution_count": 19,
   "id": "752f7895-f8eb-44e9-af30-d95f4b58962f",
   "metadata": {},
   "outputs": [
    {
     "name": "stdout",
     "output_type": "stream",
     "text": [
      "Enter 1st number 10\n",
      "Enter 2nd number 15\n"
     ]
    }
   ],
   "source": [
    "a=int(input(\"Enter 1st number\"))\n",
    "b=int(input(\"Enter 2nd number\"))"
   ]
  },
  {
   "cell_type": "code",
   "execution_count": 20,
   "id": "dbc0e3cd-d7d2-43ca-b4dc-86ed82a79f88",
   "metadata": {},
   "outputs": [
    {
     "name": "stdout",
     "output_type": "stream",
     "text": [
      "25\n"
     ]
    }
   ],
   "source": [
    "print(a+b)"
   ]
  },
  {
   "cell_type": "code",
   "execution_count": 25,
   "id": "48b9a389-13ed-4080-b261-c763cb4385c5",
   "metadata": {},
   "outputs": [
    {
     "name": "stdout",
     "output_type": "stream",
     "text": [
      "Enter two number 10 20\n"
     ]
    },
    {
     "name": "stdout",
     "output_type": "stream",
     "text": [
      "30\n"
     ]
    }
   ],
   "source": [
    "x=input(\"Enter two number\")\n",
    "sum=int(x.split()[0])+int(x.split()[1])\n",
    "print(sum)"
   ]
  },
  {
   "cell_type": "code",
   "execution_count": 26,
   "id": "45e82dc4-d2ca-4c17-8835-93a5f89694e1",
   "metadata": {},
   "outputs": [
    {
     "name": "stdout",
     "output_type": "stream",
     "text": [
      "Enter 2 no 10 20\n"
     ]
    },
    {
     "name": "stdout",
     "output_type": "stream",
     "text": [
      "30\n"
     ]
    }
   ],
   "source": [
    "a,b=input(\"Enter 2 no\").split()\n",
    "sum=int(a)+int(b)\n",
    "print(sum)"
   ]
  },
  {
   "cell_type": "code",
   "execution_count": 28,
   "id": "994865fc-992d-4e7c-932c-60222a48db13",
   "metadata": {},
   "outputs": [
    {
     "name": "stdout",
     "output_type": "stream",
     "text": [
      "Enter roll no,name,percentange ani 21 99\n"
     ]
    },
    {
     "name": "stdout",
     "output_type": "stream",
     "text": [
      "ani\n",
      "21\n",
      "99\n"
     ]
    }
   ],
   "source": [
    "s=input(\"Enter roll no,name,percentange\")\n",
    "roll,name,percentage=s.split()\n",
    "print(roll)\n",
    "print(name)\n",
    "print(percentage)"
   ]
  },
  {
   "cell_type": "code",
   "execution_count": 31,
   "id": "110c883b-6b42-4e55-8a56-0123ad04b671",
   "metadata": {},
   "outputs": [
    {
     "name": "stdout",
     "output_type": "stream",
     "text": [
      "['A', 'B', 'C', 'D', 'E', 'F']\n"
     ]
    }
   ],
   "source": [
    "s1=\"A B C D E F\"\n",
    "print(s1.split(' ',5))"
   ]
  },
  {
   "cell_type": "code",
   "execution_count": 32,
   "id": "c242bb7a-2857-4401-af7d-bf5a4a925d5b",
   "metadata": {},
   "outputs": [
    {
     "name": "stdout",
     "output_type": "stream",
     "text": [
      "['Hi', 'hi', 'hi@HI@HI@HI@']\n"
     ]
    }
   ],
   "source": [
    "s1=\"Hi@hi@hi@HI@HI@HI@\"\n",
    "print(s1.split('@',2))"
   ]
  },
  {
   "cell_type": "code",
   "execution_count": 33,
   "id": "55ee2aab-68ab-4c7f-a349-82653cc8f0a6",
   "metadata": {},
   "outputs": [
    {
     "name": "stdout",
     "output_type": "stream",
     "text": [
      "p\n",
      "w\n",
      "s\n",
      "k\n",
      "i\n",
      "l\n",
      "l\n",
      "s\n"
     ]
    }
   ],
   "source": [
    "for letters in 'pwskills':\n",
    "    print(letters)"
   ]
  },
  {
   "cell_type": "code",
   "execution_count": 35,
   "id": "d59b6ba6-ade3-4da4-8202-e6a96f166b1f",
   "metadata": {},
   "outputs": [
    {
     "name": "stdout",
     "output_type": "stream",
     "text": [
      "letters p\n",
      "letters w\n",
      "letters s\n",
      "letters k\n",
      "letters i\n"
     ]
    }
   ],
   "source": [
    "for letters in 'pwskills':\n",
    "    if letters =='l':\n",
    "        break\n",
    "    print(\"letters\",letters)"
   ]
  },
  {
   "cell_type": "code",
   "execution_count": 39,
   "id": "6b28a04d-5b93-47f2-81f2-47eae9cc94af",
   "metadata": {},
   "outputs": [
    {
     "name": "stdout",
     "output_type": "stream",
     "text": [
      "0\n",
      "1\n",
      "2\n"
     ]
    }
   ],
   "source": [
    "for i in range(5):\n",
    "    if i==3:\n",
    "        break\n",
    "    print(i)"
   ]
  },
  {
   "cell_type": "code",
   "execution_count": 40,
   "id": "98e74eea-0b9a-4991-a06b-12e0ec90a8c8",
   "metadata": {},
   "outputs": [
    {
     "data": {
      "text/plain": [
       "[0, 1, 2, 3, 4]"
      ]
     },
     "execution_count": 40,
     "metadata": {},
     "output_type": "execute_result"
    }
   ],
   "source": [
    "list(range(5))"
   ]
  },
  {
   "cell_type": "code",
   "execution_count": 3,
   "id": "b55bc509-d200-497b-8869-3da6555187a2",
   "metadata": {},
   "outputs": [
    {
     "name": "stdout",
     "output_type": "stream",
     "text": [
      "1\n",
      "2\n",
      "3\n",
      "4\n",
      "5\n"
     ]
    }
   ],
   "source": [
    "i=1\n",
    "while i<=10:\n",
    "    print(i)\n",
    "    if i>=5:\n",
    "        break\n",
    "    i=i+1"
   ]
  },
  {
   "cell_type": "code",
   "execution_count": 4,
   "id": "ae335043-1ff0-40e2-b9c5-95bb88b03b83",
   "metadata": {},
   "outputs": [
    {
     "name": "stdout",
     "output_type": "stream",
     "text": [
      "10\n",
      "20\n",
      "30\n",
      "40\n"
     ]
    }
   ],
   "source": [
    "numbers=[10,20,30,40,120,124]\n",
    "for i in numbers:\n",
    "    if i>100:\n",
    "        break\n",
    "    print(i)"
   ]
  },
  {
   "cell_type": "code",
   "execution_count": 7,
   "id": "9c730877-4aa0-4ff5-b4d4-d84fdf6e963e",
   "metadata": {},
   "outputs": [
    {
     "name": "stdout",
     "output_type": "stream",
     "text": [
      "h\n",
      "e\n",
      "l\n",
      "l\n",
      "o\n",
      ",\n"
     ]
    }
   ],
   "source": [
    "s=\"hello,world\"\n",
    "for char in s:\n",
    "    print(char)\n",
    "    if char==',':\n",
    "        break"
   ]
  },
  {
   "cell_type": "code",
   "execution_count": 8,
   "id": "0b027e47-38d0-4e71-b623-57c1f3a68ea2",
   "metadata": {},
   "outputs": [
    {
     "name": "stdout",
     "output_type": "stream",
     "text": [
      "p\n",
      "w\n",
      "s\n",
      "k\n",
      "l\n",
      "l\n",
      "s\n"
     ]
    }
   ],
   "source": [
    "for i in \"pwskills\":\n",
    "    if i == \"i\":\n",
    "        continue\n",
    "    print(i)"
   ]
  },
  {
   "cell_type": "code",
   "execution_count": 9,
   "id": "d423b6cb-6d41-4775-b05b-ee1e4b890995",
   "metadata": {},
   "outputs": [
    {
     "name": "stdout",
     "output_type": "stream",
     "text": [
      "0\n",
      "1\n",
      "2\n",
      "4\n",
      "5\n"
     ]
    }
   ],
   "source": [
    "for i in range(6):\n",
    "    if i ==3:\n",
    "        continue\n",
    "    print(i)"
   ]
  },
  {
   "cell_type": "code",
   "execution_count": 10,
   "id": "d3e38dcf-30f7-41e7-9719-49ddeae266ed",
   "metadata": {},
   "outputs": [
    {
     "name": "stdout",
     "output_type": "stream",
     "text": [
      "1\n",
      "3\n",
      "5\n",
      "7\n",
      "9\n"
     ]
    }
   ],
   "source": [
    "#write a print odd number 1 to 10\n",
    "for i in range(1,11):\n",
    "    if i%2==0:\n",
    "        continue\n",
    "    print(i)"
   ]
  },
  {
   "cell_type": "code",
   "execution_count": 11,
   "id": "1c99da0a-8da6-4989-8817-7da148e2a9fc",
   "metadata": {},
   "outputs": [
    {
     "name": "stdout",
     "output_type": "stream",
     "text": [
      "1\n",
      "3\n",
      "5\n",
      "7\n",
      "9\n"
     ]
    }
   ],
   "source": [
    "for i in range(1,11):\n",
    "    if i%2!=0:\n",
    "        print(i)\n",
    "    else:    \n",
    "        continue"
   ]
  },
  {
   "cell_type": "code",
   "execution_count": 1,
   "id": "9dae9b63-ec85-4f90-9b06-82d2a77e26b0",
   "metadata": {},
   "outputs": [
    {
     "name": "stdout",
     "output_type": "stream",
     "text": [
      "10\n"
     ]
    }
   ],
   "source": [
    "n=10\n",
    "if n> 45:\n",
    "   pass \n",
    "print(n)"
   ]
  },
  {
   "cell_type": "code",
   "execution_count": 15,
   "id": "dfe52c51-fe90-4761-9e7a-67f8970b6552",
   "metadata": {},
   "outputs": [
    {
     "name": "stdout",
     "output_type": "stream",
     "text": [
      "p\n",
      "w\n",
      "s\n",
      "k\n",
      "i\n",
      "l\n",
      "s\n",
      "s\n"
     ]
    }
   ],
   "source": [
    "for i in \"pwskilss\":\n",
    "    if i ==\"i\":\n",
    "        pass\n",
    "    print(i)"
   ]
  },
  {
   "cell_type": "code",
   "execution_count": 16,
   "id": "cb7a63f7-6431-47c3-acd5-b0a9e000c406",
   "metadata": {},
   "outputs": [],
   "source": [
    "def add_numbers(a,b):\n",
    "    return a*b"
   ]
  },
  {
   "cell_type": "code",
   "execution_count": 18,
   "id": "cd3c6fc6-b6ab-4721-a112-56bb3689b072",
   "metadata": {},
   "outputs": [
    {
     "data": {
      "text/plain": [
       "200"
      ]
     },
     "execution_count": 18,
     "metadata": {},
     "output_type": "execute_result"
    }
   ],
   "source": [
    "add_numbers(10,20)"
   ]
  },
  {
   "cell_type": "code",
   "execution_count": 2,
   "id": "06ec7871-a134-409f-accc-ee78e6ef9b79",
   "metadata": {},
   "outputs": [
    {
     "name": "stdout",
     "output_type": "stream",
     "text": [
      "Enter 1st number 10\n",
      "Enter 2nd number 20\n"
     ]
    },
    {
     "name": "stdout",
     "output_type": "stream",
     "text": [
      "30\n"
     ]
    }
   ],
   "source": [
    "def sum_of_two(a,b):\n",
    "    return a+b\n",
    "x=int(input(\"Enter 1st number\"))\n",
    "y=int(input(\"Enter 2nd number\"))\n",
    "sum=sum_of_two(x,y)\n",
    "print(sum)"
   ]
  },
  {
   "cell_type": "code",
   "execution_count": 5,
   "id": "ab23e12d-579a-49c2-8beb-7d507233e45b",
   "metadata": {},
   "outputs": [],
   "source": [
    "def add_number():\n",
    "    a=input(\"Enter a number\")\n",
    "    b=input(\"Enter a number\")\n",
    "    c=int(a)+int(b)\n",
    "    print(c)\n",
    "    "
   ]
  },
  {
   "cell_type": "code",
   "execution_count": 6,
   "id": "82c69f35-4481-4a60-8ce9-cde4807a9674",
   "metadata": {},
   "outputs": [
    {
     "name": "stdout",
     "output_type": "stream",
     "text": [
      "Enter a number 10\n",
      "Enter a number 2\n"
     ]
    },
    {
     "name": "stdout",
     "output_type": "stream",
     "text": [
      "12\n"
     ]
    }
   ],
   "source": [
    "add_number()"
   ]
  },
  {
   "cell_type": "code",
   "execution_count": 11,
   "id": "6ee44772-ef76-4a16-9f66-7ddbe780a1b0",
   "metadata": {},
   "outputs": [],
   "source": [
    "def function(a,b):\n",
    "    x=a\n",
    "    y=b\n",
    "    c=x*y\n",
    "    print(c)"
   ]
  },
  {
   "cell_type": "code",
   "execution_count": 12,
   "id": "d6a8672b-ecf8-4342-8593-0c88b242a6dc",
   "metadata": {},
   "outputs": [
    {
     "name": "stdout",
     "output_type": "stream",
     "text": [
      "200\n"
     ]
    }
   ],
   "source": [
    "function(10,20)"
   ]
  },
  {
   "cell_type": "code",
   "execution_count": 19,
   "id": "20cf4dad-69ea-41d8-afa4-8c1e8e623275",
   "metadata": {},
   "outputs": [],
   "source": [
    "def introduction(name,lastname):\n",
    "    print(\"HI\",name,lastname)"
   ]
  },
  {
   "cell_type": "code",
   "execution_count": 21,
   "id": "2cfc6ef1-10de-437e-a330-a7925968815a",
   "metadata": {},
   "outputs": [
    {
     "name": "stdout",
     "output_type": "stream",
     "text": [
      "HI Anirudha Gupta\n"
     ]
    }
   ],
   "source": [
    "introduction(\"Anirudha\",\"Gupta\")"
   ]
  },
  {
   "cell_type": "code",
   "execution_count": 22,
   "id": "c1c3e1c3-01aa-458b-86f6-6e21c8d6b38b",
   "metadata": {},
   "outputs": [
    {
     "name": "stdout",
     "output_type": "stream",
     "text": [
      "HI pw skills\n"
     ]
    }
   ],
   "source": [
    "introduction('pw','skills')"
   ]
  },
  {
   "cell_type": "code",
   "execution_count": 28,
   "id": "0989307e-5394-41de-9d17-1055f2a06ff9",
   "metadata": {},
   "outputs": [],
   "source": [
    "def absolute(n):\n",
    "    if(n>0):\n",
    "        print(n)\n",
    "    else:\n",
    "        print(-n)"
   ]
  },
  {
   "cell_type": "code",
   "execution_count": 29,
   "id": "3de4e824-e682-4424-8d8a-b60a7a8cb219",
   "metadata": {},
   "outputs": [
    {
     "name": "stdout",
     "output_type": "stream",
     "text": [
      "56\n"
     ]
    }
   ],
   "source": [
    "absolute(-56)"
   ]
  },
  {
   "cell_type": "code",
   "execution_count": 30,
   "id": "48d81a7d-1476-4a6a-814e-a0bd89e459bf",
   "metadata": {},
   "outputs": [],
   "source": [
    "def fullname(a,b):\n",
    "    c=a+b\n",
    "    print(c)"
   ]
  },
  {
   "cell_type": "code",
   "execution_count": 33,
   "id": "c07ee14c-10a6-4ceb-81ea-9734c3dfdf16",
   "metadata": {},
   "outputs": [
    {
     "name": "stdout",
     "output_type": "stream",
     "text": [
      "Anirudhagupta\n"
     ]
    }
   ],
   "source": [
    "fullname(\"Anirudha\",\"gupta\")"
   ]
  },
  {
   "cell_type": "code",
   "execution_count": 45,
   "id": "dfd072ad-7693-428b-8806-42ac8b153a9d",
   "metadata": {},
   "outputs": [
    {
     "name": "stdout",
     "output_type": "stream",
     "text": [
      "Enter 1st Number 10\n",
      "enter 2nd Number 5\n",
      "choice operator between \n",
      "1.add\n",
      "2.sub\n",
      "3.mul\n",
      "4.div add\n"
     ]
    },
    {
     "name": "stdout",
     "output_type": "stream",
     "text": [
      "15\n"
     ]
    }
   ],
   "source": [
    "def calculator(a,b):\n",
    "    if(oper==\"add\"):\n",
    "        return int(a)+int(b)\n",
    "    elif(oper==\"sub\"):\n",
    "        return int(a)-int(b)\n",
    "    elif(oper==\"Mul\"):\n",
    "        return int(a)*int(b)\n",
    "    elif(oper==\"Div\"):\n",
    "        return int(a)/int(b)\n",
    "    else:\n",
    "        print(\"Enter right operator\")\n",
    "x=input(\"Enter 1st Number\")\n",
    "y=input(\"enter 2nd Number\")\n",
    "oper=input(\"choice operator between \\n1.add\\n2.sub\\n3.mul\\n4.div\")\n",
    "print(calculator(x,y))"
   ]
  },
  {
   "cell_type": "code",
   "execution_count": 40,
   "id": "90717af9-22ea-4410-9006-bae2b07baa5f",
   "metadata": {},
   "outputs": [
    {
     "data": {
      "text/plain": [
       "16"
      ]
     },
     "execution_count": 40,
     "metadata": {},
     "output_type": "execute_result"
    }
   ],
   "source": [
    "calculator(7,9)"
   ]
  },
  {
   "cell_type": "code",
   "execution_count": 43,
   "id": "89c17012-141e-409b-85be-62e98e2698dc",
   "metadata": {},
   "outputs": [
    {
     "name": "stdout",
     "output_type": "stream",
     "text": [
      "Enter the radius of a circle 10\n"
     ]
    },
    {
     "name": "stdout",
     "output_type": "stream",
     "text": [
      "2270.0\n"
     ]
    }
   ],
   "source": [
    "#find area of a circle\n",
    "def area(r):\n",
    "    area=22.7*(r**2)\n",
    "    return area\n",
    "r=int(input(\"Enter the radius of a circle\"))\n",
    "print(area(r))"
   ]
  },
  {
   "cell_type": "code",
   "execution_count": 48,
   "id": "765048a6-e548-48df-9269-3ecd8802b16c",
   "metadata": {},
   "outputs": [
    {
     "name": "stdout",
     "output_type": "stream",
     "text": [
      "Enter length 10\n",
      "Enter breadth 20\n"
     ]
    },
    {
     "name": "stdout",
     "output_type": "stream",
     "text": [
      "200\n"
     ]
    }
   ],
   "source": [
    "#area of a rectengular\n",
    "def area_of_rectengular(l,b):\n",
    "    area=int(l)*int(b)\n",
    "    return area\n",
    "l=input(\"Enter length\")\n",
    "b=input(\"Enter breadth\")\n",
    "print(area_of_rectengular(l,b))"
   ]
  },
  {
   "cell_type": "code",
   "execution_count": 50,
   "id": "f10a6c04-a7b9-4cde-a840-7485a391c19a",
   "metadata": {},
   "outputs": [
    {
     "name": "stdout",
     "output_type": "stream",
     "text": [
      "Enter height 10\n",
      "Enter base 5\n"
     ]
    },
    {
     "name": "stdout",
     "output_type": "stream",
     "text": [
      "25.0\n"
     ]
    }
   ],
   "source": [
    "def area_triangle(h,b):\n",
    "    area=1/2*h*b\n",
    "    return area\n",
    "h=int(input(\"Enter height\"))\n",
    "b=int(input(\"Enter base\"))\n",
    "print(area_triangle(h,b))"
   ]
  },
  {
   "cell_type": "code",
   "execution_count": 8,
   "id": "e6bce448-6d4c-4174-8357-097f5a4e0c8f",
   "metadata": {},
   "outputs": [
    {
     "name": "stdout",
     "output_type": "stream",
     "text": [
      "Enter a password Anirudha122@\n"
     ]
    },
    {
     "name": "stdout",
     "output_type": "stream",
     "text": [
      "TRUE\n"
     ]
    }
   ],
   "source": [
    "password=input(\"Enter a password\")\n",
    "len=len(password)\n",
    "if 8<=len<32 and password[0].isalpha() and all(char not in password for char in [\" \" , \"/\" ,\"\\\\\",\"=\",\"'\"]):\n",
    "    print(\"TRUE\")\n",
    "else:\n",
    "    print(\"FALSE\")"
   ]
  },
  {
   "cell_type": "code",
   "execution_count": 16,
   "id": "8d307aa6-b331-49f5-81f3-b65edb1a5118",
   "metadata": {},
   "outputs": [
    {
     "ename": "NameError",
     "evalue": "name 'msg' is not defined",
     "output_type": "error",
     "traceback": [
      "\u001b[1;31m---------------------------------------------------------------------------\u001b[0m",
      "\u001b[1;31mNameError\u001b[0m                                 Traceback (most recent call last)",
      "Cell \u001b[1;32mIn[16], line 5\u001b[0m\n\u001b[0;32m      3\u001b[0m     msg\u001b[38;5;241m=\u001b[39m\u001b[38;5;124m\"\u001b[39m\u001b[38;5;124mHello\u001b[39m\u001b[38;5;124m\"\u001b[39m\n\u001b[0;32m      4\u001b[0m     \u001b[38;5;28mprint\u001b[39m(\u001b[38;5;124m\"\u001b[39m\u001b[38;5;124mLocal\u001b[39m\u001b[38;5;124m\"\u001b[39m,msg,global1)\n\u001b[1;32m----> 5\u001b[0m \u001b[38;5;28mprint\u001b[39m(\u001b[43mmsg\u001b[49m)\n\u001b[0;32m      6\u001b[0m greet\n",
      "\u001b[1;31mNameError\u001b[0m: name 'msg' is not defined"
     ]
    }
   ],
   "source": [
    "global1=\"Ani\"\n",
    "def greet():\n",
    "    msg=\"Hello\"\n",
    "    print(\"Local\",msg,global1)\n",
    "print(msg)\n",
    "greet"
   ]
  },
  {
   "cell_type": "code",
   "execution_count": 15,
   "id": "795adf90-74d4-4dd0-9310-30a5c9bb8483",
   "metadata": {},
   "outputs": [
    {
     "name": "stdout",
     "output_type": "stream",
     "text": [
      "Local Hello Ani\n"
     ]
    }
   ],
   "source": [
    "greet()"
   ]
  },
  {
   "cell_type": "code",
   "execution_count": 5,
   "id": "5ab94278-0d6a-45f2-9820-ec04b5440b6b",
   "metadata": {},
   "outputs": [
    {
     "name": "stdout",
     "output_type": "stream",
     "text": [
      "Python is Fantastic\n",
      "Awesome\n"
     ]
    }
   ],
   "source": [
    "x=\"Awesome\" #---->global scope\n",
    "def myfunc():\n",
    "    x=\"Fantastic\" #------> Local Scope\n",
    "    print(\"Python is \" + x)\n",
    "myfunc()\n",
    "print(x)"
   ]
  },
  {
   "cell_type": "code",
   "execution_count": 14,
   "id": "3e9c482c-b98f-4fce-bcb3-dbbbbdce8987",
   "metadata": {},
   "outputs": [
    {
     "name": "stdout",
     "output_type": "stream",
     "text": [
      "Local veriable Y 10\n",
      "Global variable X 20\n",
      "30\n",
      "Local variable Y 12\n",
      "Gloabl variable X 20\n",
      "8\n"
     ]
    }
   ],
   "source": [
    "x=20\n",
    "def add():\n",
    "    y=10\n",
    "    print(\"Local veriable Y\",y)\n",
    "    print(\"Global variable X\",x)\n",
    "    z=x+y\n",
    "    print(z)\n",
    "def sub():\n",
    "    y=12\n",
    "    print(\"Local variable Y\",y)\n",
    "    print(\"Gloabl variable X\",x)\n",
    "    z=x-y\n",
    "    print(z)\n",
    "add()\n",
    "sub()"
   ]
  },
  {
   "cell_type": "code",
   "execution_count": 11,
   "id": "2d6e60cf-942f-4c2a-a0b4-6772a08ee889",
   "metadata": {},
   "outputs": [
    {
     "name": "stdout",
     "output_type": "stream",
     "text": [
      "Local veriable Y 10\n",
      "Global variable X 20\n"
     ]
    }
   ],
   "source": [
    "add()\n"
   ]
  },
  {
   "cell_type": "code",
   "execution_count": 22,
   "id": "988829f1-fe98-47e1-afbd-3fd4540896fe",
   "metadata": {},
   "outputs": [
    {
     "name": "stdout",
     "output_type": "stream",
     "text": [
      "My name is  pwskills\n"
     ]
    }
   ],
   "source": [
    "def emp_name(name=\"pwskills\"):\n",
    "    print(\"My name is \",name)\n",
    "emp_name()"
   ]
  },
  {
   "cell_type": "code",
   "execution_count": 23,
   "id": "36f999a4-6360-4ed8-a3a4-d79434055ece",
   "metadata": {},
   "outputs": [],
   "source": [
    "#keyword arguments"
   ]
  },
  {
   "cell_type": "code",
   "execution_count": 24,
   "id": "8156746d-7c76-4b84-99d7-d2388e734595",
   "metadata": {},
   "outputs": [],
   "source": [
    "def display_info(first_name,Last_name):\n",
    "    print(\"First Name\",first_name)\n",
    "    print(\"Last Name\",Last_name)"
   ]
  },
  {
   "cell_type": "code",
   "execution_count": 26,
   "id": "409fd9a9-e34e-42fa-a485-674cc6f6aca2",
   "metadata": {},
   "outputs": [
    {
     "name": "stdout",
     "output_type": "stream",
     "text": [
      "First Name pw\n",
      "Last Name skills\n"
     ]
    }
   ],
   "source": [
    "display_info('pw','skills')"
   ]
  },
  {
   "cell_type": "code",
   "execution_count": 28,
   "id": "43151eb0-3d36-4d33-8199-dd47b1c0f100",
   "metadata": {},
   "outputs": [
    {
     "name": "stdout",
     "output_type": "stream",
     "text": [
      "First Name Anirudha\n",
      "Last Name Gupta\n"
     ]
    }
   ],
   "source": [
    "display_info(first_name=\"Anirudha\",Last_name=\"Gupta\")"
   ]
  },
  {
   "cell_type": "code",
   "execution_count": 31,
   "id": "53745918-b8c6-4d1d-916f-3e11ddbc30cc",
   "metadata": {},
   "outputs": [],
   "source": [
    "def add_sum(a,b):\n",
    "    sum=a+b\n",
    "    print(sum)"
   ]
  },
  {
   "cell_type": "code",
   "execution_count": 32,
   "id": "71443a76-5b05-499f-ac4c-793c5ada9e4d",
   "metadata": {},
   "outputs": [
    {
     "name": "stdout",
     "output_type": "stream",
     "text": [
      "30\n"
     ]
    }
   ],
   "source": [
    "add_sum(a=10,b=20)"
   ]
  },
  {
   "cell_type": "code",
   "execution_count": 40,
   "id": "74dbd008-8de4-426e-8d4d-de47b538252c",
   "metadata": {},
   "outputs": [],
   "source": [
    "def find_num(*numbers):\n",
    "    result=0\n",
    "\n",
    "    for num in numbers:\n",
    "        result=result+num\n",
    "    print(\"Sum\",result)"
   ]
  },
  {
   "cell_type": "code",
   "execution_count": 41,
   "id": "138a4a4b-5ac4-4f94-a812-65dadc40058c",
   "metadata": {},
   "outputs": [
    {
     "name": "stdout",
     "output_type": "stream",
     "text": [
      "Sum 7\n"
     ]
    }
   ],
   "source": [
    "find_num(1,3,3)"
   ]
  },
  {
   "cell_type": "code",
   "execution_count": 42,
   "id": "da7b121e-904f-4eba-9fea-afc7b7984ed9",
   "metadata": {},
   "outputs": [],
   "source": [
    "def add_number(a,b,c,d):\n",
    "    sum=a+b+c+d\n",
    "    print(\"Sum\",sum)"
   ]
  },
  {
   "cell_type": "code",
   "execution_count": 44,
   "id": "6efee428-a06c-4ee2-88a9-9730ff802448",
   "metadata": {},
   "outputs": [
    {
     "name": "stdout",
     "output_type": "stream",
     "text": [
      "Sum 10\n"
     ]
    }
   ],
   "source": [
    "add_number(1,2,1,6)"
   ]
  },
  {
   "cell_type": "code",
   "execution_count": 57,
   "id": "dc0723ad-a045-469b-b155-adc447ecc954",
   "metadata": {},
   "outputs": [],
   "source": [
    "def simple(*x):\n",
    "    x=[x]\n",
    "    print(x)"
   ]
  },
  {
   "cell_type": "code",
   "execution_count": 58,
   "id": "9fbd2027-6b88-4a89-bf8d-a7e8ebf765d3",
   "metadata": {},
   "outputs": [
    {
     "name": "stdout",
     "output_type": "stream",
     "text": [
      "[(1, 2, 3)]\n"
     ]
    }
   ],
   "source": [
    "simple(1,2,3)"
   ]
  },
  {
   "cell_type": "code",
   "execution_count": 59,
   "id": "6beffaf5-ddd8-49dd-9c29-a04cde557102",
   "metadata": {},
   "outputs": [
    {
     "name": "stdout",
     "output_type": "stream",
     "text": [
      "[(1, 2, 3, 4, 5, 6, 7, 7, 8, 9)]\n"
     ]
    }
   ],
   "source": [
    "simple(1,2,3,4,5,6,7,7,8,9)"
   ]
  },
  {
   "cell_type": "code",
   "execution_count": 24,
   "id": "2514781f-28fa-49f1-ba3c-0bdacc32bd72",
   "metadata": {},
   "outputs": [],
   "source": [
    "def intro(**data):\n",
    "    print(\"data type of argument\", type(data))\n",
    "\n",
    "    for key,value in data.items():\n",
    "        print(key,value)"
   ]
  },
  {
   "cell_type": "code",
   "execution_count": 2,
   "id": "0beb2afb-bc1d-4afd-b620-6ae2b02cc6ea",
   "metadata": {},
   "outputs": [],
   "source": [
    "y=lambda:print(\"hello world\")"
   ]
  },
  {
   "cell_type": "code",
   "execution_count": 19,
   "id": "5a1e0231-e632-4815-baea-615c6e304027",
   "metadata": {},
   "outputs": [
    {
     "name": "stdout",
     "output_type": "stream",
     "text": [
      "hello world\n"
     ]
    }
   ],
   "source": [
    "y()"
   ]
  },
  {
   "cell_type": "code",
   "execution_count": 25,
   "id": "bf44b427-9bc2-49f0-8c70-e9ab0bfc0a72",
   "metadata": {},
   "outputs": [
    {
     "name": "stdout",
     "output_type": "stream",
     "text": [
      "data type of argument <class 'dict'>\n",
      "x 2\n",
      "y 3\n",
      "z 4\n",
      "c 5\n",
      "d 6\n"
     ]
    }
   ],
   "source": [
    "intro(x=2,y=3,z=4,c=5,d=6)"
   ]
  },
  {
   "cell_type": "code",
   "execution_count": 26,
   "id": "3b9b8d11-bbf2-45af-b033-5db6ec2456f5",
   "metadata": {},
   "outputs": [],
   "source": [
    "def kwargs(**data):\n",
    "    print(data)"
   ]
  },
  {
   "cell_type": "code",
   "execution_count": 27,
   "id": "4b260222-e8ba-446b-9a0a-8dbb451b095b",
   "metadata": {},
   "outputs": [
    {
     "name": "stdout",
     "output_type": "stream",
     "text": [
      "{'x': 2, 'y': 3}\n"
     ]
    }
   ],
   "source": [
    "kwargs(x=2,y=3)"
   ]
  },
  {
   "cell_type": "code",
   "execution_count": 30,
   "id": "c7119ba4-615f-460e-9a9f-f51235132212",
   "metadata": {},
   "outputs": [],
   "source": [
    "add_mul=lambda a,b:a*b"
   ]
  },
  {
   "cell_type": "code",
   "execution_count": 31,
   "id": "e37e97a9-a388-44df-abe6-7c6e86025cab",
   "metadata": {},
   "outputs": [
    {
     "data": {
      "text/plain": [
       "6"
      ]
     },
     "execution_count": 31,
     "metadata": {},
     "output_type": "execute_result"
    }
   ],
   "source": [
    "add_mul(2,3)"
   ]
  },
  {
   "cell_type": "code",
   "execution_count": 37,
   "id": "dc0e9cc4-42ea-4636-b010-9f6f0126a56b",
   "metadata": {},
   "outputs": [
    {
     "name": "stdout",
     "output_type": "stream",
     "text": [
      "Enter the first number 10\n",
      "Enter the second number 2\n"
     ]
    },
    {
     "data": {
      "text/plain": [
       "(100, 4)"
      ]
     },
     "execution_count": 37,
     "metadata": {},
     "output_type": "execute_result"
    }
   ],
   "source": [
    "a=int(input(\"Enter the first number\"))\n",
    "b=int(input(\"Enter the second number\"))\n",
    "square=lambda a,b:(a**2,b**2)\n",
    "square(a,b)"
   ]
  },
  {
   "cell_type": "code",
   "execution_count": 41,
   "id": "89a66ec1-5fa3-4bad-8836-46c0960cb84a",
   "metadata": {},
   "outputs": [
    {
     "name": "stdout",
     "output_type": "stream",
     "text": [
      "Enter a number 10\n"
     ]
    }
   ],
   "source": [
    "a=int(input(\"Enter a number\"))\n",
    "even=lambda a: (\"even\" if(a%2==0) else \"odd\")"
   ]
  },
  {
   "cell_type": "code",
   "execution_count": 43,
   "id": "dd8edcfb-80b3-4644-8fa8-6157d0e5366a",
   "metadata": {},
   "outputs": [
    {
     "data": {
      "text/plain": [
       "'even'"
      ]
     },
     "execution_count": 43,
     "metadata": {},
     "output_type": "execute_result"
    }
   ],
   "source": [
    "even(a)"
   ]
  },
  {
   "cell_type": "code",
   "execution_count": 48,
   "id": "c501f050-b6b3-4847-8b8c-fb5207706396",
   "metadata": {},
   "outputs": [],
   "source": [
    "# write a lambda function that accept two arguments and returns the greater amongst them\n",
    "greater=lambda a,b:print(a) if a>b else print(b)\n"
   ]
  },
  {
   "cell_type": "code",
   "execution_count": 49,
   "id": "fdedc36d-5356-450f-9c88-2b9c7ae29924",
   "metadata": {},
   "outputs": [
    {
     "name": "stdout",
     "output_type": "stream",
     "text": [
      "3\n"
     ]
    }
   ],
   "source": [
    "greater(2,3)"
   ]
  },
  {
   "cell_type": "code",
   "execution_count": 3,
   "id": "6dfec17b-28fa-4d0f-8e36-495550b7b6da",
   "metadata": {},
   "outputs": [],
   "source": [
    "sum_of_number=lambda a,b,c:(a+b+c)"
   ]
  },
  {
   "cell_type": "code",
   "execution_count": 4,
   "id": "80699af1-31d0-41d1-aa38-4fa15c2213dd",
   "metadata": {},
   "outputs": [
    {
     "data": {
      "text/plain": [
       "25"
      ]
     },
     "execution_count": 4,
     "metadata": {},
     "output_type": "execute_result"
    }
   ],
   "source": [
    "sum_of_number(1,23,1)"
   ]
  },
  {
   "cell_type": "code",
   "execution_count": 30,
   "id": "d80b4f94-ca5b-42db-8b0a-3b01f6d71cfe",
   "metadata": {},
   "outputs": [
    {
     "name": "stdout",
     "output_type": "stream",
     "text": [
      "{'name': 'product4', 'price': 80}\n",
      "{'name': 'product2', 'price': 60}\n",
      "{'name': 'product1', 'price': 50}\n",
      "{'name': 'product3', 'price': 40}\n"
     ]
    }
   ],
   "source": [
    "product=[\n",
    "    {'name':'product1','price':50},\n",
    "    {'name':'product2','price':60},\n",
    "    {'name':'product3','price':40},\n",
    "    {'name':'product4','price':80}\n",
    "]\n",
    "\n",
    "sorted_product=sorted(product,key=lambda x:x['price'],reverse=True)\n",
    "for i in sorted_product:\n",
    "    print(i)"
   ]
  },
  {
   "cell_type": "code",
   "execution_count": 19,
   "id": "e6dbeee9-db5d-4b85-afe5-6666f6f9dadc",
   "metadata": {},
   "outputs": [
    {
     "data": {
      "text/plain": [
       "[{'50', 'name', 'price', 'product1'},\n",
       " {'60', 'name', 'price', 'product2'},\n",
       " {'40', 'name', 'price', 'product3'},\n",
       " {'80', 'name', 'price', 'product4'}]"
      ]
     },
     "execution_count": 19,
     "metadata": {},
     "output_type": "execute_result"
    }
   ],
   "source": [
    "product"
   ]
  },
  {
   "cell_type": "code",
   "execution_count": 31,
   "id": "e0221930-64be-4f06-b8b4-29d9a90d2917",
   "metadata": {},
   "outputs": [],
   "source": [
    "x={'name':'product1','price':50}"
   ]
  },
  {
   "cell_type": "code",
   "execution_count": 33,
   "id": "d356bed9-377e-496a-a3ec-7e09eab312c0",
   "metadata": {},
   "outputs": [
    {
     "data": {
      "text/plain": [
       "{'name': 'product1', 'price': 50}"
      ]
     },
     "execution_count": 33,
     "metadata": {},
     "output_type": "execute_result"
    }
   ],
   "source": [
    "x"
   ]
  },
  {
   "cell_type": "code",
   "execution_count": 36,
   "id": "b4230e0c-218f-4a7e-a3ff-340fe379c7cd",
   "metadata": {},
   "outputs": [],
   "source": [
    "keys=lambda x:x['price']"
   ]
  },
  {
   "cell_type": "code",
   "execution_count": 37,
   "id": "a9edb4bf-6c42-4fd6-b77a-e473c34cb8e5",
   "metadata": {},
   "outputs": [
    {
     "data": {
      "text/plain": [
       "<function __main__.<lambda>(x)>"
      ]
     },
     "execution_count": 37,
     "metadata": {},
     "output_type": "execute_result"
    }
   ],
   "source": [
    "keys"
   ]
  },
  {
   "cell_type": "code",
   "execution_count": 38,
   "id": "f38a6640-1d0d-410b-830e-528713b2eeb5",
   "metadata": {},
   "outputs": [
    {
     "data": {
      "text/plain": [
       "50"
      ]
     },
     "execution_count": 38,
     "metadata": {},
     "output_type": "execute_result"
    }
   ],
   "source": [
    "x['price']"
   ]
  },
  {
   "cell_type": "code",
   "execution_count": 42,
   "id": "9f5b2c1a-f202-48f7-8f42-7b15480ebca5",
   "metadata": {},
   "outputs": [],
   "source": [
    "#write a lambda expression that accept a character as argument and return true if it is a vawel otherwise false\n",
    "vowel=(\"aeiouAEIOU\")\n",
    "char=lambda a:(\"True\" if a in vowel else \"False\") "
   ]
  },
  {
   "cell_type": "code",
   "execution_count": 47,
   "id": "6b47c4b0-673a-4c04-ad83-670951950385",
   "metadata": {},
   "outputs": [
    {
     "data": {
      "text/plain": [
       "'False'"
      ]
     },
     "execution_count": 47,
     "metadata": {},
     "output_type": "execute_result"
    }
   ],
   "source": [
    "char(\"c\")"
   ]
  },
  {
   "cell_type": "code",
   "execution_count": 11,
   "id": "8aeb4fef-8992-4b65-90cb-e405e0e09f04",
   "metadata": {},
   "outputs": [],
   "source": [
    "thislist = [\"apple\", \"banana\", \"cherry\", \"apple\", \"cherry\"]"
   ]
  },
  {
   "cell_type": "code",
   "execution_count": 13,
   "id": "f0597186-40d9-497d-b4f5-949eac2b6104",
   "metadata": {},
   "outputs": [
    {
     "data": {
      "text/plain": [
       "types.GenericAlias"
      ]
     },
     "execution_count": 13,
     "metadata": {},
     "output_type": "execute_result"
    }
   ],
   "source": [
    "type(x)"
   ]
  },
  {
   "cell_type": "code",
   "execution_count": 14,
   "id": "102722e7-50cf-462d-b8c1-4958dfa18398",
   "metadata": {},
   "outputs": [],
   "source": [
    "languages=[\"c\",\"java\",\"python\"]"
   ]
  },
  {
   "cell_type": "code",
   "execution_count": 18,
   "id": "9459ca47-cf62-4e57-8ac0-182796a37e3a",
   "metadata": {},
   "outputs": [],
   "source": [
    "enumerate_prime=enumerate(languages,20)"
   ]
  },
  {
   "cell_type": "code",
   "execution_count": 19,
   "id": "448f92b8-9c50-4995-bb30-1fce9b6ac133",
   "metadata": {},
   "outputs": [
    {
     "data": {
      "text/plain": [
       "[(20, 'c'), (21, 'java'), (22, 'python')]"
      ]
     },
     "execution_count": 19,
     "metadata": {},
     "output_type": "execute_result"
    }
   ],
   "source": [
    "list(enumerate_prime)"
   ]
  },
  {
   "cell_type": "code",
   "execution_count": 20,
   "id": "ab308f7a-46ec-44ae-827c-91b891dc4d03",
   "metadata": {},
   "outputs": [],
   "source": [
    "##list comprehension"
   ]
  },
  {
   "cell_type": "code",
   "execution_count": 1,
   "id": "9677bf2b-f1f2-4aab-a609-cf613836acef",
   "metadata": {},
   "outputs": [
    {
     "name": "stdout",
     "output_type": "stream",
     "text": [
      "[1, 2, 3, 4, 5, 6, 7, 8, 9]\n"
     ]
    }
   ],
   "source": [
    "list=[1,2,3,4,5,6,7,8,9]\n",
    "a=[x for x in list]\n",
    "print(a)"
   ]
  },
  {
   "cell_type": "code",
   "execution_count": 2,
   "id": "284ea2e2-2485-4bf7-a56c-54776f5c144a",
   "metadata": {},
   "outputs": [],
   "source": [
    "list=[1,2,3,4,5,6,7,8]\n",
    "a=[x+1 for x in list]"
   ]
  },
  {
   "cell_type": "code",
   "execution_count": 3,
   "id": "4b294938-54d7-4be4-9ee5-7020f715df0c",
   "metadata": {},
   "outputs": [
    {
     "data": {
      "text/plain": [
       "[2, 3, 4, 5, 6, 7, 8, 9]"
      ]
     },
     "execution_count": 3,
     "metadata": {},
     "output_type": "execute_result"
    }
   ],
   "source": [
    "a"
   ]
  },
  {
   "cell_type": "code",
   "execution_count": 4,
   "id": "c5d3548c-23ff-4499-989d-78e3f7233baf",
   "metadata": {},
   "outputs": [],
   "source": [
    "lst=[1,2,3,4,5,6,7,8,9,10]\n",
    "a=[x*2 for x in lst]"
   ]
  },
  {
   "cell_type": "code",
   "execution_count": 5,
   "id": "133acf42-6381-4b09-9a46-110c9be24408",
   "metadata": {},
   "outputs": [
    {
     "data": {
      "text/plain": [
       "[2, 4, 6, 8, 10, 12, 14, 16, 18, 20]"
      ]
     },
     "execution_count": 5,
     "metadata": {},
     "output_type": "execute_result"
    }
   ],
   "source": [
    "a"
   ]
  },
  {
   "cell_type": "code",
   "execution_count": 6,
   "id": "130c25d2-b3ec-4965-be47-c16ceb247926",
   "metadata": {},
   "outputs": [
    {
     "name": "stdout",
     "output_type": "stream",
     "text": [
      "[3, 4, 5, 6, 7, 8]\n"
     ]
    }
   ],
   "source": [
    "list=[1,2,3,4,5,6,7,8]\n",
    "a=[x for x in list if x>2]\n",
    "print(a)"
   ]
  },
  {
   "cell_type": "code",
   "execution_count": 8,
   "id": "d0ea46c2-7ca1-4b88-aeaa-427f6f31110a",
   "metadata": {},
   "outputs": [],
   "source": [
    "a=[]\n",
    "for i in list:\n",
    "    if i>4:\n",
    "        a.append(i)"
   ]
  },
  {
   "cell_type": "code",
   "execution_count": 9,
   "id": "3bd200bb-551b-490f-a999-fc0a19b4fe76",
   "metadata": {},
   "outputs": [
    {
     "data": {
      "text/plain": [
       "[5, 6, 7, 8]"
      ]
     },
     "execution_count": 9,
     "metadata": {},
     "output_type": "execute_result"
    }
   ],
   "source": [
    "a"
   ]
  },
  {
   "cell_type": "code",
   "execution_count": 10,
   "id": "a0c80f9c-bfa2-41cf-8957-0b5eb8ca16f6",
   "metadata": {},
   "outputs": [
    {
     "data": {
      "text/plain": [
       "[6, 2, 4, 8]"
      ]
     },
     "execution_count": 10,
     "metadata": {},
     "output_type": "execute_result"
    }
   ],
   "source": [
    "list=[5,6,2,4,5,7,8]\n",
    "result=[i for i in list if i%2==0]\n",
    "result"
   ]
  },
  {
   "cell_type": "code",
   "execution_count": 11,
   "id": "0050e5bc-e60c-443d-a7c9-d09432974db8",
   "metadata": {},
   "outputs": [
    {
     "name": "stdout",
     "output_type": "stream",
     "text": [
      "[6, 8, 10]\n"
     ]
    }
   ],
   "source": [
    "lst=[1,2,3,4,5,6,7,8,9,10]\n",
    "d=[x for x in lst if x>4 if x%2==0]\n",
    "print(d)"
   ]
  },
  {
   "cell_type": "code",
   "execution_count": 13,
   "id": "1e1cdbf8-bc3d-4afb-8c5a-3bbb3b84653c",
   "metadata": {},
   "outputs": [],
   "source": [
    "f=['two' if x%2==0 else 'Three' if x%3==0 else 'not 2& 3' for x in lst]"
   ]
  },
  {
   "cell_type": "code",
   "execution_count": 14,
   "id": "f55681ea-281d-4634-9b6f-9bbe882c5a42",
   "metadata": {},
   "outputs": [
    {
     "data": {
      "text/plain": [
       "['not 2& 3',\n",
       " 'two',\n",
       " 'Three',\n",
       " 'two',\n",
       " 'not 2& 3',\n",
       " 'two',\n",
       " 'not 2& 3',\n",
       " 'two',\n",
       " 'Three',\n",
       " 'two']"
      ]
     },
     "execution_count": 14,
     "metadata": {},
     "output_type": "execute_result"
    }
   ],
   "source": [
    "f"
   ]
  },
  {
   "cell_type": "code",
   "execution_count": 1,
   "id": "083f80fd-607b-4fa8-9b95-cffce522ce67",
   "metadata": {},
   "outputs": [],
   "source": [
    "def test():\n",
    "    print(1+2)"
   ]
  },
  {
   "cell_type": "code",
   "execution_count": 2,
   "id": "03f2ba73-7c97-4a6f-9540-3b26123f149e",
   "metadata": {},
   "outputs": [
    {
     "name": "stdout",
     "output_type": "stream",
     "text": [
      "3\n"
     ]
    },
    {
     "ename": "TypeError",
     "evalue": "unsupported operand type(s) for +: 'NoneType' and 'int'",
     "output_type": "error",
     "traceback": [
      "\u001b[1;31m---------------------------------------------------------------------------\u001b[0m",
      "\u001b[1;31mTypeError\u001b[0m                                 Traceback (most recent call last)",
      "Cell \u001b[1;32mIn[2], line 1\u001b[0m\n\u001b[1;32m----> 1\u001b[0m \u001b[43mtest\u001b[49m\u001b[43m(\u001b[49m\u001b[43m)\u001b[49m\u001b[38;5;241;43m+\u001b[39;49m\u001b[38;5;241;43m10\u001b[39;49m\n",
      "\u001b[1;31mTypeError\u001b[0m: unsupported operand type(s) for +: 'NoneType' and 'int'"
     ]
    }
   ],
   "source": [
    "test()+10\n"
   ]
  },
  {
   "cell_type": "code",
   "execution_count": 3,
   "id": "10476aef-9aa9-45c5-b6c1-08948925300b",
   "metadata": {},
   "outputs": [],
   "source": [
    "def test1():\n",
    "    return 1+2"
   ]
  },
  {
   "cell_type": "code",
   "execution_count": 4,
   "id": "163557ae-dfd8-444b-8280-9fb0cc3f4ae6",
   "metadata": {},
   "outputs": [
    {
     "data": {
      "text/plain": [
       "13"
      ]
     },
     "execution_count": 4,
     "metadata": {},
     "output_type": "execute_result"
    }
   ],
   "source": [
    "test1()+10"
   ]
  },
  {
   "cell_type": "code",
   "execution_count": 7,
   "id": "25aef146-2c08-40f3-a89b-b63098679210",
   "metadata": {},
   "outputs": [
    {
     "data": {
      "text/plain": [
       "int"
      ]
     },
     "execution_count": 7,
     "metadata": {},
     "output_type": "execute_result"
    }
   ],
   "source": [
    "type(test1())"
   ]
  },
  {
   "cell_type": "code",
   "execution_count": 8,
   "id": "e790271e-e662-4021-b5cd-a06161e02aac",
   "metadata": {},
   "outputs": [],
   "source": [
    "def test2():\n",
    "    return 2,\"Ani\",True,[1,2,3,4,5]"
   ]
  },
  {
   "cell_type": "code",
   "execution_count": 10,
   "id": "af5b50e2-494f-47c3-9aee-77c618d5e156",
   "metadata": {},
   "outputs": [
    {
     "data": {
      "text/plain": [
       "(2, 'Ani', True, [1, 2, 3, 4, 5])"
      ]
     },
     "execution_count": 10,
     "metadata": {},
     "output_type": "execute_result"
    }
   ],
   "source": [
    "test2()"
   ]
  },
  {
   "cell_type": "code",
   "execution_count": 11,
   "id": "b8a5340c-57bb-4ac1-91c5-219b671f3cde",
   "metadata": {},
   "outputs": [
    {
     "data": {
      "text/plain": [
       "tuple"
      ]
     },
     "execution_count": 11,
     "metadata": {},
     "output_type": "execute_result"
    }
   ],
   "source": [
    "type(test2())"
   ]
  },
  {
   "cell_type": "code",
   "execution_count": 13,
   "id": "f51e5fb5-e091-4bb4-ac82-ffeb1e955358",
   "metadata": {},
   "outputs": [],
   "source": [
    "m,n,o,p=test2()"
   ]
  },
  {
   "cell_type": "code",
   "execution_count": 14,
   "id": "63f92493-8523-40f6-9692-4231ac0d4a3b",
   "metadata": {},
   "outputs": [
    {
     "data": {
      "text/plain": [
       "2"
      ]
     },
     "execution_count": 14,
     "metadata": {},
     "output_type": "execute_result"
    }
   ],
   "source": [
    "m\n"
   ]
  },
  {
   "cell_type": "code",
   "execution_count": 15,
   "id": "5d907930-691b-4b8b-aaea-0817917e6be6",
   "metadata": {},
   "outputs": [
    {
     "data": {
      "text/plain": [
       "'Ani'"
      ]
     },
     "execution_count": 15,
     "metadata": {},
     "output_type": "execute_result"
    }
   ],
   "source": [
    "n"
   ]
  },
  {
   "cell_type": "code",
   "execution_count": 16,
   "id": "6f1f071a-55a6-4531-ad7b-a90f09d18c51",
   "metadata": {},
   "outputs": [
    {
     "data": {
      "text/plain": [
       "True"
      ]
     },
     "execution_count": 16,
     "metadata": {},
     "output_type": "execute_result"
    }
   ],
   "source": [
    "o"
   ]
  },
  {
   "cell_type": "code",
   "execution_count": 17,
   "id": "1436fe57-9ea5-4eae-9c74-6d4b851fcb04",
   "metadata": {},
   "outputs": [
    {
     "data": {
      "text/plain": [
       "[1, 2, 3, 4, 5]"
      ]
     },
     "execution_count": 17,
     "metadata": {},
     "output_type": "execute_result"
    }
   ],
   "source": [
    "p"
   ]
  },
  {
   "cell_type": "code",
   "execution_count": 21,
   "id": "3a2840de-a889-4cc0-b3ce-e0b0cf4c9165",
   "metadata": {},
   "outputs": [],
   "source": [
    "def test3(x):\n",
    "    return x"
   ]
  },
  {
   "cell_type": "code",
   "execution_count": 23,
   "id": "9944bc44-35b6-4e2d-a718-edbeb462b939",
   "metadata": {},
   "outputs": [
    {
     "data": {
      "text/plain": [
       "5"
      ]
     },
     "execution_count": 23,
     "metadata": {},
     "output_type": "execute_result"
    }
   ],
   "source": [
    "test3(5)"
   ]
  },
  {
   "cell_type": "code",
   "execution_count": 24,
   "id": "b49a14fd-575e-4e79-abc9-8bd3234e9347",
   "metadata": {},
   "outputs": [
    {
     "data": {
      "text/plain": [
       "'ani'"
      ]
     },
     "execution_count": 24,
     "metadata": {},
     "output_type": "execute_result"
    }
   ],
   "source": [
    "test3(\"ani\")"
   ]
  },
  {
   "cell_type": "code",
   "execution_count": 29,
   "id": "a8b71786-e6d4-45a5-938d-5e63802bca8f",
   "metadata": {},
   "outputs": [],
   "source": [
    "def test4(x,y):\n",
    "    return x,y"
   ]
  },
  {
   "cell_type": "code",
   "execution_count": 30,
   "id": "c37ba243-625e-496b-a23e-2e32edb94b3d",
   "metadata": {},
   "outputs": [
    {
     "data": {
      "text/plain": [
       "('Ani', [1, 2, 3, 4, 5])"
      ]
     },
     "execution_count": 30,
     "metadata": {},
     "output_type": "execute_result"
    }
   ],
   "source": [
    "test4(\"Ani\",[1,2,3,4,5])"
   ]
  },
  {
   "cell_type": "code",
   "execution_count": 31,
   "id": "bbeb4fe7-3584-496c-8e0c-424d40fc3ea2",
   "metadata": {},
   "outputs": [],
   "source": [
    "def test5(a:int,b:int):\n",
    "    return a,b"
   ]
  },
  {
   "cell_type": "code",
   "execution_count": 34,
   "id": "570216fc-da27-43a9-a797-46fdd49f396e",
   "metadata": {},
   "outputs": [
    {
     "data": {
      "text/plain": [
       "(4, 5)"
      ]
     },
     "execution_count": 34,
     "metadata": {},
     "output_type": "execute_result"
    }
   ],
   "source": [
    "test5(4,5)"
   ]
  },
  {
   "cell_type": "code",
   "execution_count": 35,
   "id": "8c3258a5-5786-40bc-b09b-4d617d89522b",
   "metadata": {},
   "outputs": [
    {
     "data": {
      "text/plain": [
       "('sudh', [1, 2, 3, 4, 5, 6])"
      ]
     },
     "execution_count": 35,
     "metadata": {},
     "output_type": "execute_result"
    }
   ],
   "source": [
    "test5(\"sudh\",[1,2,3,4,5,6])"
   ]
  },
  {
   "cell_type": "code",
   "execution_count": 37,
   "id": "419a0d10-461f-4192-aed0-9c9edcd20305",
   "metadata": {},
   "outputs": [],
   "source": [
    "def test6(x:int,y:int):\n",
    "    return x/y"
   ]
  },
  {
   "cell_type": "code",
   "execution_count": 38,
   "id": "ca4fcf86-6d61-4684-94cc-a24dfc53ae2d",
   "metadata": {},
   "outputs": [
    {
     "data": {
      "text/plain": [
       "0.8"
      ]
     },
     "execution_count": 38,
     "metadata": {},
     "output_type": "execute_result"
    }
   ],
   "source": [
    "test6(4,5)"
   ]
  },
  {
   "cell_type": "code",
   "execution_count": 40,
   "id": "a4026808-619b-4459-96b8-f947726d7084",
   "metadata": {},
   "outputs": [
    {
     "ename": "TypeError",
     "evalue": "unsupported operand type(s) for /: 'str' and 'list'",
     "output_type": "error",
     "traceback": [
      "\u001b[1;31m---------------------------------------------------------------------------\u001b[0m",
      "\u001b[1;31mTypeError\u001b[0m                                 Traceback (most recent call last)",
      "Cell \u001b[1;32mIn[40], line 1\u001b[0m\n\u001b[1;32m----> 1\u001b[0m \u001b[43mtest6\u001b[49m\u001b[43m(\u001b[49m\u001b[38;5;124;43m\"\u001b[39;49m\u001b[38;5;124;43mAni\u001b[39;49m\u001b[38;5;124;43m\"\u001b[39;49m\u001b[43m,\u001b[49m\u001b[43m[\u001b[49m\u001b[38;5;241;43m1\u001b[39;49m\u001b[43m,\u001b[49m\u001b[38;5;241;43m2\u001b[39;49m\u001b[43m,\u001b[49m\u001b[38;5;241;43m4\u001b[39;49m\u001b[43m,\u001b[49m\u001b[38;5;241;43m5\u001b[39;49m\u001b[43m,\u001b[49m\u001b[38;5;241;43m6\u001b[39;49m\u001b[43m]\u001b[49m\u001b[43m)\u001b[49m\n",
      "Cell \u001b[1;32mIn[37], line 2\u001b[0m, in \u001b[0;36mtest6\u001b[1;34m(x, y)\u001b[0m\n\u001b[0;32m      1\u001b[0m \u001b[38;5;28;01mdef\u001b[39;00m \u001b[38;5;21mtest6\u001b[39m(x:\u001b[38;5;28mint\u001b[39m,y:\u001b[38;5;28mint\u001b[39m):\n\u001b[1;32m----> 2\u001b[0m     \u001b[38;5;28;01mreturn\u001b[39;00m \u001b[43mx\u001b[49m\u001b[38;5;241;43m/\u001b[39;49m\u001b[43my\u001b[49m\n",
      "\u001b[1;31mTypeError\u001b[0m: unsupported operand type(s) for /: 'str' and 'list'"
     ]
    }
   ],
   "source": [
    "test6(\"Ani\",[1,2,4,5,6])"
   ]
  },
  {
   "cell_type": "code",
   "execution_count": 42,
   "id": "bd1f4dca-d9f1-47eb-a588-282b6c29561c",
   "metadata": {},
   "outputs": [],
   "source": [
    "def test7(c,d):\n",
    "    \"\"\"this is my function ehich take two input and return a addition or concatination\n",
    "    \"\"\"\n",
    "    return c+d"
   ]
  },
  {
   "cell_type": "code",
   "execution_count": 43,
   "id": "82f94814-4511-47c4-854b-aa528dfb572f",
   "metadata": {},
   "outputs": [
    {
     "data": {
      "text/plain": [
       "6"
      ]
     },
     "execution_count": 43,
     "metadata": {},
     "output_type": "execute_result"
    }
   ],
   "source": [
    "test7(1,5)"
   ]
  },
  {
   "cell_type": "code",
   "execution_count": 45,
   "id": "eed31690-f494-4542-accf-14947b0aac5c",
   "metadata": {},
   "outputs": [
    {
     "data": {
      "text/plain": [
       "'Anigupta'"
      ]
     },
     "execution_count": 45,
     "metadata": {},
     "output_type": "execute_result"
    }
   ],
   "source": [
    "test7(\"Ani\",\"gupta\")"
   ]
  },
  {
   "cell_type": "code",
   "execution_count": 51,
   "id": "20cb5120-b201-411e-8df0-31af4c9bfaf6",
   "metadata": {},
   "outputs": [
    {
     "data": {
      "text/plain": [
       "str"
      ]
     },
     "execution_count": 51,
     "metadata": {},
     "output_type": "execute_result"
    }
   ],
   "source": [
    "type(test7(\"ani\",\"gupta\"))"
   ]
  },
  {
   "cell_type": "code",
   "execution_count": 52,
   "id": "44c46697-2f7f-47f5-a3fc-6d106412290f",
   "metadata": {},
   "outputs": [],
   "source": [
    "def test8(*args):\n",
    "    return args"
   ]
  },
  {
   "cell_type": "code",
   "execution_count": 53,
   "id": "3cf766d0-b6ff-4cb3-8304-2217468e3ed4",
   "metadata": {},
   "outputs": [
    {
     "data": {
      "text/plain": [
       "(2, 3, 4, 5, 6, 7)"
      ]
     },
     "execution_count": 53,
     "metadata": {},
     "output_type": "execute_result"
    }
   ],
   "source": [
    "test8(2,3,4,5,6,7)"
   ]
  },
  {
   "cell_type": "code",
   "execution_count": 54,
   "id": "8503c682-cfc3-4468-8382-128ec4e99d00",
   "metadata": {},
   "outputs": [],
   "source": [
    "def test9(*ani):\n",
    "    return ani"
   ]
  },
  {
   "cell_type": "code",
   "execution_count": 55,
   "id": "9a4cdc88-d939-4957-ac1b-0522145994fd",
   "metadata": {},
   "outputs": [
    {
     "data": {
      "text/plain": [
       "(3, 4, 5, 6)"
      ]
     },
     "execution_count": 55,
     "metadata": {},
     "output_type": "execute_result"
    }
   ],
   "source": [
    "test9(3,4,5,6)"
   ]
  },
  {
   "cell_type": "code",
   "execution_count": 56,
   "id": "57c85dbd-bf43-4e45-8533-518cbea75c6c",
   "metadata": {},
   "outputs": [],
   "source": [
    "def test10(**kwargs):\n",
    "    return kwargs"
   ]
  },
  {
   "cell_type": "code",
   "execution_count": 57,
   "id": "5c6838f5-83c1-4cc6-8f64-647747ff0df7",
   "metadata": {},
   "outputs": [
    {
     "data": {
      "text/plain": [
       "{'a': 4, 'b': 2, 'c': 3}"
      ]
     },
     "execution_count": 57,
     "metadata": {},
     "output_type": "execute_result"
    }
   ],
   "source": [
    "test10(a=4,b=2,c=3)"
   ]
  },
  {
   "cell_type": "code",
   "execution_count": 60,
   "id": "92e65680-4e23-4b7c-9c38-a7929d385b3d",
   "metadata": {},
   "outputs": [
    {
     "data": {
      "text/plain": [
       "{'n': {'a': 4, 'b': 3, 'c': 4}}"
      ]
     },
     "execution_count": 60,
     "metadata": {},
     "output_type": "execute_result"
    }
   ],
   "source": [
    "test10(n={'a':4,'b':3,'c':4})"
   ]
  },
  {
   "cell_type": "code",
   "execution_count": 2,
   "id": "ea319b85-d1e8-4e82-b8a4-7a320c89b279",
   "metadata": {},
   "outputs": [],
   "source": [
    "def test11(b,a=10,c=20):\n",
    "    return a,b,c"
   ]
  },
  {
   "cell_type": "code",
   "execution_count": 3,
   "id": "101d2967-f709-4db6-93ea-45bcded38931",
   "metadata": {},
   "outputs": [
    {
     "data": {
      "text/plain": [
       "(10, 10, 20)"
      ]
     },
     "execution_count": 3,
     "metadata": {},
     "output_type": "execute_result"
    }
   ],
   "source": [
    "test11(10)"
   ]
  },
  {
   "cell_type": "code",
   "execution_count": 4,
   "id": "46fe8e46-d02e-46be-be3d-954a0cd3e89c",
   "metadata": {},
   "outputs": [],
   "source": [
    "v=test11(10 )"
   ]
  },
  {
   "cell_type": "code",
   "execution_count": 5,
   "id": "d153a6e7",
   "metadata": {},
   "outputs": [
    {
     "data": {
      "text/plain": [
       "(10, 10, 20)"
      ]
     },
     "execution_count": 5,
     "metadata": {},
     "output_type": "execute_result"
    }
   ],
   "source": [
    "v\n",
    "\n"
   ]
  },
  {
   "cell_type": "code",
   "execution_count": 6,
   "id": "f57ed094",
   "metadata": {},
   "outputs": [],
   "source": [
    "def test12(a,b):\n",
    "    return a+b"
   ]
  },
  {
   "cell_type": "code",
   "execution_count": 7,
   "id": "249ebd53",
   "metadata": {},
   "outputs": [
    {
     "data": {
      "text/plain": [
       "9"
      ]
     },
     "execution_count": 7,
     "metadata": {},
     "output_type": "execute_result"
    }
   ],
   "source": [
    "test12(4,5)"
   ]
  },
  {
   "cell_type": "code",
   "execution_count": 13,
   "id": "c96e8dc9",
   "metadata": {},
   "outputs": [],
   "source": [
    "m=lambda a,b :a+b"
   ]
  },
  {
   "cell_type": "code",
   "execution_count": 11,
   "id": "f8e0b16a",
   "metadata": {},
   "outputs": [],
   "source": [
    "a=3\n",
    "b=7"
   ]
  },
  {
   "cell_type": "code",
   "execution_count": 14,
   "id": "71561441",
   "metadata": {},
   "outputs": [
    {
     "data": {
      "text/plain": [
       "<function __main__.<lambda>(a, b)>"
      ]
     },
     "execution_count": 14,
     "metadata": {},
     "output_type": "execute_result"
    }
   ],
   "source": [
    "m"
   ]
  },
  {
   "cell_type": "code",
   "execution_count": 15,
   "id": "fbef5656",
   "metadata": {},
   "outputs": [
    {
     "data": {
      "text/plain": [
       "7"
      ]
     },
     "execution_count": 15,
     "metadata": {},
     "output_type": "execute_result"
    }
   ],
   "source": [
    "m(2,5)"
   ]
  },
  {
   "cell_type": "code",
   "execution_count": 16,
   "id": "686f816f",
   "metadata": {},
   "outputs": [
    {
     "data": {
      "text/plain": [
       "'Given number is odd'"
      ]
     },
     "execution_count": 16,
     "metadata": {},
     "output_type": "execute_result"
    }
   ],
   "source": [
    "def check_even(n):\n",
    "    if(n%2==0):\n",
    "        return \"Given number is an even\"\n",
    "    else:\n",
    "        return \"Given number is odd\"\n",
    "check_even(3)"
   ]
  },
  {
   "cell_type": "code",
   "execution_count": 17,
   "id": "f0d808a8",
   "metadata": {},
   "outputs": [],
   "source": [
    "m=lambda a:\"even\" if(a%2==0) else \"odd\""
   ]
  },
  {
   "cell_type": "code",
   "execution_count": 18,
   "id": "414f4825",
   "metadata": {},
   "outputs": [
    {
     "data": {
      "text/plain": [
       "'odd'"
      ]
     },
     "execution_count": 18,
     "metadata": {},
     "output_type": "execute_result"
    }
   ],
   "source": [
    "m(3)"
   ]
  },
  {
   "cell_type": "code",
   "execution_count": 20,
   "id": "9ec1d531",
   "metadata": {},
   "outputs": [],
   "source": [
    "l=[3,4,5,3,5,6,4,3]\n",
    "min_list=lambda li:min(li)"
   ]
  },
  {
   "cell_type": "code",
   "execution_count": 21,
   "id": "3bbb86df",
   "metadata": {},
   "outputs": [
    {
     "data": {
      "text/plain": [
       "3"
      ]
     },
     "execution_count": 21,
     "metadata": {},
     "output_type": "execute_result"
    }
   ],
   "source": [
    "min_list(l)"
   ]
  },
  {
   "cell_type": "code",
   "execution_count": 22,
   "id": "cca5e8d1",
   "metadata": {},
   "outputs": [],
   "source": [
    "div=lambda a,b:a/b"
   ]
  },
  {
   "cell_type": "code",
   "execution_count": 23,
   "id": "b045cc56",
   "metadata": {},
   "outputs": [
    {
     "data": {
      "text/plain": [
       "0.8333333333333334"
      ]
     },
     "execution_count": 23,
     "metadata": {},
     "output_type": "execute_result"
    }
   ],
   "source": [
    "div(5,6)"
   ]
  },
  {
   "cell_type": "code",
   "execution_count": 26,
   "id": "4c960de9",
   "metadata": {},
   "outputs": [],
   "source": [
    "upper=lambda s:s.upper()"
   ]
  },
  {
   "cell_type": "code",
   "execution_count": 27,
   "id": "ca9ce4fe",
   "metadata": {},
   "outputs": [
    {
     "data": {
      "text/plain": [
       "'ANIRUDHA'"
      ]
     },
     "execution_count": 27,
     "metadata": {},
     "output_type": "execute_result"
    }
   ],
   "source": [
    "upper(\"anirudha\")"
   ]
  },
  {
   "cell_type": "code",
   "execution_count": 32,
   "id": "f5149b68",
   "metadata": {},
   "outputs": [
    {
     "data": {
      "text/plain": [
       "102"
      ]
     },
     "execution_count": 32,
     "metadata": {},
     "output_type": "execute_result"
    }
   ],
   "source": [
    "l=[3,4,5,6,7,8,9,33,45]\n",
    "def sum_odd(l):\n",
    "    l1=[]\n",
    "    for i in l:\n",
    "        if i%2!=0:\n",
    "            l1.append(i)\n",
    "    return sum(l1)\n",
    "sum_odd(l)"
   ]
  },
  {
   "cell_type": "code",
   "execution_count": 37,
   "id": "f0c6eb70",
   "metadata": {},
   "outputs": [
    {
     "data": {
      "text/plain": [
       "102"
      ]
     },
     "execution_count": 37,
     "metadata": {},
     "output_type": "execute_result"
    }
   ],
   "source": [
    "sum([i for i in l if i%2!=0])"
   ]
  },
  {
   "cell_type": "code",
   "execution_count": 40,
   "id": "045a3ac1",
   "metadata": {},
   "outputs": [],
   "source": [
    "sum_off_lambda=lambda b :sum([i for i in b if i%2!=0])"
   ]
  },
  {
   "cell_type": "code",
   "execution_count": 41,
   "id": "ee4354f2",
   "metadata": {},
   "outputs": [
    {
     "data": {
      "text/plain": [
       "102"
      ]
     },
     "execution_count": 41,
     "metadata": {},
     "output_type": "execute_result"
    }
   ],
   "source": [
    "sum_off_lambda(l)"
   ]
  },
  {
   "cell_type": "code",
   "execution_count": 48,
   "id": "ea8eb68e",
   "metadata": {},
   "outputs": [
    {
     "data": {
      "text/plain": [
       "24"
      ]
     },
     "execution_count": 48,
     "metadata": {},
     "output_type": "execute_result"
    }
   ],
   "source": [
    "def fact_number(n):\n",
    "    if n==0:\n",
    "        return 1\n",
    "    else:\n",
    "        return n*fact_number(n-1)\n",
    "fact_number(4)"
   ]
  },
  {
   "cell_type": "code",
   "execution_count": 50,
   "id": "4a0607da",
   "metadata": {},
   "outputs": [
    {
     "data": {
      "text/plain": [
       "24"
      ]
     },
     "execution_count": 50,
     "metadata": {},
     "output_type": "execute_result"
    }
   ],
   "source": [
    "def fact_num(n):\n",
    "    a=1\n",
    "    for i in range(1,n+1):\n",
    "        a=i*a\n",
    "    return(a)\n",
    "fact_num(4)"
   ]
  },
  {
   "cell_type": "code",
   "execution_count": 52,
   "id": "8b8164e1",
   "metadata": {},
   "outputs": [],
   "source": [
    "fact_num_lambda=lambda n:1 if n==0 else n*fact_num_lambda(n-1)"
   ]
  },
  {
   "cell_type": "code",
   "execution_count": 53,
   "id": "6a8dbbcb",
   "metadata": {},
   "outputs": [
    {
     "data": {
      "text/plain": [
       "24"
      ]
     },
     "execution_count": 53,
     "metadata": {},
     "output_type": "execute_result"
    }
   ],
   "source": [
    "fact_num_lambda(4)"
   ]
  },
  {
   "cell_type": "code",
   "execution_count": 54,
   "id": "8c3ea65c",
   "metadata": {},
   "outputs": [],
   "source": [
    "l=[5,6,7,8,89]\n",
    "l1=[]\n",
    "for i in l:\n",
    "    i=i+2\n",
    "    l1.append(i)"
   ]
  },
  {
   "cell_type": "code",
   "execution_count": 55,
   "id": "86f133dd",
   "metadata": {},
   "outputs": [
    {
     "data": {
      "text/plain": [
       "[7, 8, 9, 10, 91]"
      ]
     },
     "execution_count": 55,
     "metadata": {},
     "output_type": "execute_result"
    }
   ],
   "source": [
    "l1"
   ]
  },
  {
   "cell_type": "code",
   "execution_count": 57,
   "id": "62bde98d",
   "metadata": {},
   "outputs": [
    {
     "data": {
      "text/plain": [
       "[7, 8, 9, 10, 91]"
      ]
     },
     "execution_count": 57,
     "metadata": {},
     "output_type": "execute_result"
    }
   ],
   "source": [
    "def add_list(l):\n",
    "    l1=[]\n",
    "    for i in l:\n",
    "        l1.append(i+2)\n",
    "    return l1\n",
    "add_list(l)"
   ]
  },
  {
   "cell_type": "code",
   "execution_count": 64,
   "id": "d310d3e2",
   "metadata": {},
   "outputs": [
    {
     "data": {
      "text/plain": [
       "[7, 8, 9, 10, 91]"
      ]
     },
     "execution_count": 64,
     "metadata": {},
     "output_type": "execute_result"
    }
   ],
   "source": [
    "list(map(lambda a: a+2,l))"
   ]
  },
  {
   "cell_type": "code",
   "execution_count": 65,
   "id": "97ad4e46",
   "metadata": {},
   "outputs": [],
   "source": [
    "def test12(c):\n",
    "    return c+2"
   ]
  },
  {
   "cell_type": "code",
   "execution_count": 67,
   "id": "bfd8fc5a",
   "metadata": {},
   "outputs": [
    {
     "data": {
      "text/plain": [
       "[7, 8, 9, 10, 91]"
      ]
     },
     "execution_count": 67,
     "metadata": {},
     "output_type": "execute_result"
    }
   ],
   "source": [
    "list(map(test12,l))"
   ]
  },
  {
   "cell_type": "code",
   "execution_count": 68,
   "id": "8c98c290",
   "metadata": {},
   "outputs": [
    {
     "data": {
      "text/plain": [
       "7"
      ]
     },
     "execution_count": 68,
     "metadata": {},
     "output_type": "execute_result"
    }
   ],
   "source": [
    "test12(5)"
   ]
  },
  {
   "cell_type": "code",
   "execution_count": 70,
   "id": "5cc3079a",
   "metadata": {},
   "outputs": [
    {
     "data": {
      "text/plain": [
       "8"
      ]
     },
     "execution_count": 70,
     "metadata": {},
     "output_type": "execute_result"
    }
   ],
   "source": [
    "test12(6)"
   ]
  },
  {
   "cell_type": "code",
   "execution_count": 78,
   "id": "4f9fab2c",
   "metadata": {},
   "outputs": [],
   "source": [
    "l=[\"sudh\",\"kumar\",\"pwskills\"]"
   ]
  },
  {
   "cell_type": "code",
   "execution_count": 73,
   "id": "ef29f72e",
   "metadata": {},
   "outputs": [
    {
     "data": {
      "text/plain": [
       "[4, 5, 8]"
      ]
     },
     "execution_count": 73,
     "metadata": {},
     "output_type": "execute_result"
    }
   ],
   "source": [
    "list(map(len,l))"
   ]
  },
  {
   "cell_type": "code",
   "execution_count": 80,
   "id": "c938a655",
   "metadata": {},
   "outputs": [
    {
     "name": "stdout",
     "output_type": "stream",
     "text": [
      "[4, 5, 8]\n"
     ]
    }
   ],
   "source": [
    "l1=[]\n",
    "for i in l:\n",
    "    l1.append(len(i))\n",
    "print(l1)"
   ]
  },
  {
   "cell_type": "code",
   "execution_count": 81,
   "id": "5a3f44d4",
   "metadata": {},
   "outputs": [
    {
     "data": {
      "text/plain": [
       "[4, 5, 8]"
      ]
     },
     "execution_count": 81,
     "metadata": {},
     "output_type": "execute_result"
    }
   ],
   "source": [
    "def test13(l):\n",
    "    l1=[]\n",
    "    for i in l:\n",
    "        l1.append(len(i))\n",
    "    return l1\n",
    "test13(l)"
   ]
  },
  {
   "cell_type": "code",
   "execution_count": 82,
   "id": "933f70cf",
   "metadata": {},
   "outputs": [
    {
     "data": {
      "text/plain": [
       "[4, 5, 8]"
      ]
     },
     "execution_count": 82,
     "metadata": {},
     "output_type": "execute_result"
    }
   ],
   "source": [
    "list(map(lambda c:len(c),l))"
   ]
  },
  {
   "cell_type": "code",
   "execution_count": 83,
   "id": "b37067e8",
   "metadata": {},
   "outputs": [],
   "source": [
    "def test15(c):\n",
    "    return c"
   ]
  },
  {
   "cell_type": "code",
   "execution_count": 86,
   "id": "4c015919",
   "metadata": {},
   "outputs": [
    {
     "data": {
      "text/plain": [
       "[4, 5, 8]"
      ]
     },
     "execution_count": 86,
     "metadata": {},
     "output_type": "execute_result"
    }
   ],
   "source": [
    "list(test15(map(len,l)))"
   ]
  },
  {
   "cell_type": "code",
   "execution_count": 91,
   "id": "d416f43a",
   "metadata": {},
   "outputs": [
    {
     "data": {
      "text/plain": [
       "'hdus'"
      ]
     },
     "execution_count": 91,
     "metadata": {},
     "output_type": "execute_result"
    }
   ],
   "source": [
    "s=\"sudh\"\n",
    "s[::-1]"
   ]
  },
  {
   "cell_type": "code",
   "execution_count": 93,
   "id": "e381002b",
   "metadata": {},
   "outputs": [
    {
     "data": {
      "text/plain": [
       "['hdus', 'ramuk', 'sllikswp']"
      ]
     },
     "execution_count": 93,
     "metadata": {},
     "output_type": "execute_result"
    }
   ],
   "source": [
    "list(map(lambda x:x[::-1],l))"
   ]
  },
  {
   "cell_type": "code",
   "execution_count": 96,
   "id": "c9226287",
   "metadata": {},
   "outputs": [
    {
     "data": {
      "text/plain": [
       "24"
      ]
     },
     "execution_count": 96,
     "metadata": {},
     "output_type": "execute_result"
    }
   ],
   "source": [
    "l=[1,2,3,4]\n",
    "from functools import reduce\n",
    "reduce(lambda a,b:a*b,l)"
   ]
  },
  {
   "cell_type": "code",
   "execution_count": 5,
   "id": "c27aeea4",
   "metadata": {},
   "outputs": [
    {
     "data": {
      "text/plain": [
       "1"
      ]
     },
     "execution_count": 5,
     "metadata": {},
     "output_type": "execute_result"
    }
   ],
   "source": [
    "from functools import reduce\n",
    "l=[1,2,3,4,2,3,24]\n",
    "reduce(lambda a,b: a if a<b else b,l)"
   ]
  },
  {
   "cell_type": "code",
   "execution_count": 6,
   "id": "c763a56b",
   "metadata": {},
   "outputs": [
    {
     "data": {
      "text/plain": [
       "24"
      ]
     },
     "execution_count": 6,
     "metadata": {},
     "output_type": "execute_result"
    }
   ],
   "source": [
    "\n",
    "reduce(lambda a,b: a if a>b else b,l)"
   ]
  },
  {
   "cell_type": "code",
   "execution_count": 9,
   "id": "115737b1",
   "metadata": {},
   "outputs": [],
   "source": [
    "n=4\n",
    "fact=reduce(lambda x,y:x*y,range(1,n+1))"
   ]
  },
  {
   "cell_type": "code",
   "execution_count": 10,
   "id": "363f8fcf",
   "metadata": {},
   "outputs": [
    {
     "data": {
      "text/plain": [
       "24"
      ]
     },
     "execution_count": 10,
     "metadata": {},
     "output_type": "execute_result"
    }
   ],
   "source": [
    "fact"
   ]
  },
  {
   "cell_type": "code",
   "execution_count": 19,
   "id": "0bcb0852",
   "metadata": {},
   "outputs": [],
   "source": [
    "l=[2,3,2,1,4]\n",
    "l1=[]\n",
    "product=reduce(lambda a,b:a*b,[i for i in l if i%2==0])"
   ]
  },
  {
   "cell_type": "code",
   "execution_count": 20,
   "id": "54208485",
   "metadata": {},
   "outputs": [
    {
     "data": {
      "text/plain": [
       "16"
      ]
     },
     "execution_count": 20,
     "metadata": {},
     "output_type": "execute_result"
    }
   ],
   "source": [
    "product"
   ]
  },
  {
   "cell_type": "code",
   "execution_count": 22,
   "id": "4f12192e",
   "metadata": {},
   "outputs": [],
   "source": [
    "l=[3,4,5,6,7,78,8,9,0,7,5,43,4,3]\n",
    "a=list(filter(lambda a: a%2!=0,l))"
   ]
  },
  {
   "cell_type": "code",
   "execution_count": 23,
   "id": "30dfdb97",
   "metadata": {},
   "outputs": [
    {
     "data": {
      "text/plain": [
       "[3, 5, 7, 9, 7, 5, 43, 3]"
      ]
     },
     "execution_count": 23,
     "metadata": {},
     "output_type": "execute_result"
    }
   ],
   "source": [
    "a"
   ]
  },
  {
   "cell_type": "code",
   "execution_count": 28,
   "id": "b471ba6d",
   "metadata": {},
   "outputs": [
    {
     "data": {
      "text/plain": [
       "['w', 'k', 'i', 'l', 'l', 's']"
      ]
     },
     "execution_count": 28,
     "metadata": {},
     "output_type": "execute_result"
    }
   ],
   "source": [
    "s=\"Pw Skills\"\n",
    "list(filter(lambda a:a.islower(),s))"
   ]
  },
  {
   "cell_type": "code",
   "execution_count": 29,
   "id": "95d546ad",
   "metadata": {},
   "outputs": [
    {
     "data": {
      "text/plain": [
       "['pw', 'Ani']"
      ]
     },
     "execution_count": 29,
     "metadata": {},
     "output_type": "execute_result"
    }
   ],
   "source": [
    "l=[\"pw\",\"pwskills\",\"Ani\",\"Krish\"]\n",
    "list(filter(lambda a:len(a)<=4,l))"
   ]
  },
  {
   "cell_type": "code",
   "execution_count": 32,
   "id": "f2010cd2",
   "metadata": {},
   "outputs": [
    {
     "data": {
      "text/plain": [
       "['pw', 'pwskills']"
      ]
     },
     "execution_count": 32,
     "metadata": {},
     "output_type": "execute_result"
    }
   ],
   "source": [
    "list(filter(lambda a:a.startswith('p'),l))"
   ]
  },
  {
   "cell_type": "code",
   "execution_count": 33,
   "id": "32de3f27",
   "metadata": {},
   "outputs": [
    {
     "data": {
      "text/plain": [
       "['pw', 'pwskills']"
      ]
     },
     "execution_count": 33,
     "metadata": {},
     "output_type": "execute_result"
    }
   ],
   "source": [
    "list(filter(lambda a:a[0]==('p'),l))"
   ]
  },
  {
   "cell_type": "code",
   "execution_count": 37,
   "id": "102ef0a6",
   "metadata": {},
   "outputs": [
    {
     "data": {
      "text/plain": [
       "13"
      ]
     },
     "execution_count": 37,
     "metadata": {},
     "output_type": "execute_result"
    }
   ],
   "source": [
    "def gen_fib(n):\n",
    "    if n<=1:\n",
    "        return n\n",
    "    else:\n",
    "        return gen_fib(n-1)+gen_fib(n-2)\n",
    "gen_fib(7)"
   ]
  },
  {
   "cell_type": "code",
   "execution_count": 40,
   "id": "a45b6996",
   "metadata": {},
   "outputs": [],
   "source": [
    "def sum_till_n(n):\n",
    "    if n==1:\n",
    "        return 1\n",
    "    else:\n",
    "        return n+sum_till_n(n-1)"
   ]
  },
  {
   "cell_type": "code",
   "execution_count": 41,
   "id": "8462801b",
   "metadata": {},
   "outputs": [
    {
     "data": {
      "text/plain": [
       "15"
      ]
     },
     "execution_count": 41,
     "metadata": {},
     "output_type": "execute_result"
    }
   ],
   "source": [
    "sum_till_n(5)"
   ]
  },
  {
   "cell_type": "code",
   "execution_count": null,
   "id": "ffd81dd4",
   "metadata": {},
   "outputs": [],
   "source": []
  }
 ],
 "metadata": {
  "kernelspec": {
   "display_name": "Python 3 (ipykernel)",
   "language": "python",
   "name": "python3"
  },
  "language_info": {
   "codemirror_mode": {
    "name": "ipython",
    "version": 3
   },
   "file_extension": ".py",
   "mimetype": "text/x-python",
   "name": "python",
   "nbconvert_exporter": "python",
   "pygments_lexer": "ipython3",
   "version": "3.12.2"
  },
  "widgets": {
   "application/vnd.jupyter.widget-state+json": {
    "state": {},
    "version_major": 2,
    "version_minor": 0
   }
  }
 },
 "nbformat": 4,
 "nbformat_minor": 5
}
