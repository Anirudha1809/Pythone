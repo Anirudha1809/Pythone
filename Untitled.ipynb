{
 "cells": [
  {
   "cell_type": "code",
   "execution_count": 12,
   "id": "7337aa2c-f780-40f6-9745-5692923c42c1",
   "metadata": {},
   "outputs": [
    {
     "name": "stdout",
     "output_type": "stream",
     "text": [
      "the peak element 5\n"
     ]
    }
   ],
   "source": [
    "#Find a peak element which is not smaller than its neighbours\n",
    "def find_index(arr,n):\n",
    "    if(n==0):\n",
    "        return 0\n",
    "    if(arr[0]>=arr[1]):\n",
    "        return 0\n",
    "    if(arr[n-1]>=arr[n-2]):\n",
    "        return n-1\n",
    "    for i in range(1,n-1):\n",
    "        if(arr[i]>=arr[i-1] and arr[i]>=arr[i+1]):\n",
    "            return i\n",
    "\n",
    "arr=[1,2,34,481,87,517]\n",
    "n=len(arr)\n",
    "print(\"the peak element\",find_index(arr,n))"
   ]
  },
  {
   "cell_type": "code",
   "execution_count": 28,
   "id": "5182a9be-a869-4d45-b3dd-7ee8fff13bfa",
   "metadata": {},
   "outputs": [
    {
     "name": "stdout",
     "output_type": "stream",
     "text": [
      "1\n",
      "12\n",
      "123\n",
      "1234\n"
     ]
    }
   ],
   "source": [
    "for i in range(1,5):\n",
    "    for j in range(1,i+1):\n",
    "        print(j,end=\"\")\n",
    "    print()"
   ]
  },
  {
   "cell_type": "code",
   "execution_count": 5,
   "id": "6a28e468-6c19-4534-b74f-43105698d8a1",
   "metadata": {},
   "outputs": [
    {
     "name": "stdout",
     "output_type": "stream",
     "text": [
      "[6, 5, 4, 3, 2, 1]\n"
     ]
    }
   ],
   "source": [
    "arr=[1,2,3,4,5,6]\n",
    "rev_arr=list(reversed(arr))\n",
    "print(rev_arr)"
   ]
  },
  {
   "cell_type": "markdown",
   "id": "e097ac15",
   "metadata": {},
   "source": []
  },
  {
   "cell_type": "code",
   "execution_count": 7,
   "id": "3df98314",
   "metadata": {},
   "outputs": [
    {
     "name": "stdout",
     "output_type": "stream",
     "text": [
      "Original Array: [1, 2, 3, 4, 5]\n",
      "Reversed Array: [5, 4, 3, 2, 1]\n"
     ]
    }
   ],
   "source": [
    "arr=[1,2,3,4,5]\n",
    "reverse_arr=arr[::-1]\n",
    "print(f\"Original Array: {arr}\")\n",
    "print(f\"Reversed Array: {reverse_arr}\")"
   ]
  },
  {
   "cell_type": "code",
   "execution_count": 10,
   "id": "266ff8b1",
   "metadata": {},
   "outputs": [
    {
     "name": "stdout",
     "output_type": "stream",
     "text": [
      "[1, 2, 3, 4, 5, 6]\n"
     ]
    }
   ],
   "source": [
    "arr=[1,2,3,4,6,5]\n",
    "arr.sort()\n",
    "print(arr)"
   ]
  },
  {
   "cell_type": "code",
   "execution_count": 15,
   "id": "fe6123e0",
   "metadata": {},
   "outputs": [
    {
     "name": "stdout",
     "output_type": "stream",
     "text": [
      "The largest element 1\n",
      "The largest element 17\n"
     ]
    }
   ],
   "source": [
    "arr=[1,3,4,5,6,17]\n",
    "arr.sort()\n",
    "print(\"The largest element\",arr[0])\n",
    "print(\"The largest element\",arr[-1])"
   ]
  },
  {
   "cell_type": "code",
   "execution_count": 20,
   "id": "7367eff3",
   "metadata": {},
   "outputs": [
    {
     "name": "stdout",
     "output_type": "stream",
     "text": [
      "The 2th LARGEST element in the array is: 54\n",
      "the 2 smallest element in the array is: 3\n"
     ]
    }
   ],
   "source": [
    "arr=[1,3,54,6,78,9]\n",
    "arr.sort()\n",
    "k=2\n",
    "print(f\"The {k}th LARGEST element in the array is: {arr[-k]}\")    \n",
    "print(f\"the {k} smallest element in the array is: {arr[k-1]}\")"
   ]
  },
  {
   "cell_type": "code",
   "execution_count": 24,
   "id": "e294c464",
   "metadata": {},
   "outputs": [
    {
     "name": "stdout",
     "output_type": "stream",
     "text": [
      "4\n"
     ]
    }
   ],
   "source": [
    "arr=[1,2,3,4,1,3,1,5,1,5]\n",
    "n=len(arr)\n",
    "x=1\n",
    "count=0\n",
    "for i in range(n):\n",
    "    if arr[i]==x:\n",
    "        count+=1\n",
    "print(count)\n"
   ]
  },
  {
   "cell_type": "code",
   "execution_count": 30,
   "id": "858cfdeb",
   "metadata": {},
   "outputs": [
    {
     "name": "stdout",
     "output_type": "stream",
     "text": [
      "120\n"
     ]
    }
   ],
   "source": [
    "fibo=5\n",
    "sum=1\n",
    "for i in range(1,fibo+1):\n",
    "    sum=sum*i\n",
    "print(sum)"
   ]
  },
  {
   "cell_type": "code",
   "execution_count": 3,
   "id": "8a30a0fe",
   "metadata": {},
   "outputs": [
    {
     "name": "stdout",
     "output_type": "stream",
     "text": [
      "Fibonacci series with 11 elements: [0, 1, 1, 2, 3, 5, 8, 13, 21, 34, 55]\n"
     ]
    }
   ],
   "source": [
    "def fibonacci_with_list(n):\n",
    "\tfib_series = [0, 1]\n",
    "\tfor i in range(2, n):\n",
    "\t\tfib_series.append(fib_series[-1] + fib_series[-2])\n",
    "\treturn fib_series\n",
    "\n",
    "# Example usage:\n",
    "n = 11\n",
    "result = fibonacci_with_list(n)\n",
    "print(f\"Fibonacci series with {n} elements:\", result)\n"
   ]
  },
  {
   "cell_type": "code",
   "execution_count": 15,
   "id": "869d7bb9",
   "metadata": {},
   "outputs": [
    {
     "name": "stdout",
     "output_type": "stream",
     "text": [
      "232\n"
     ]
    }
   ],
   "source": [
    "a=0\n",
    "b=1\n",
    "num=int(input(\"Enter the number\"))\n",
    "if(num<=1):\n",
    "    print(\"Enter a valid number\")\n",
    "elif(num==1):\n",
    "    print(a)\n",
    "else:\n",
    "    #print(a)\n",
    "    #print(b)\n",
    "    for i in range(2,num+1):\n",
    "        c=a+b\n",
    "        a=b\n",
    "        b=c\n",
    "print(a+b+c-1)"
   ]
  },
  {
   "cell_type": "code",
   "execution_count": 7,
   "id": "a5d1be45",
   "metadata": {},
   "outputs": [
    {
     "name": "stdout",
     "output_type": "stream",
     "text": [
      "Armstrong\n"
     ]
    }
   ],
   "source": [
    "num=153\n",
    "temp=num\n",
    "sum=0\n",
    "while temp>0:\n",
    "    digit=temp%10\n",
    "    cube=digit**3\n",
    "    sum=sum+cube\n",
    "    temp//=10\n",
    "if(num==sum):\n",
    "    print(\"Armstrong\")\n",
    "else:\n",
    "    print(\"Not a armstrong\")"
   ]
  },
  {
   "cell_type": "code",
   "execution_count": 8,
   "id": "ace26a65",
   "metadata": {},
   "outputs": [
    {
     "name": "stdout",
     "output_type": "stream",
     "text": [
      "0\n",
      "1\n",
      "1\n",
      "2\n",
      "3\n"
     ]
    }
   ],
   "source": [
    "def fibo(n):\n",
    "    if(n<=1):\n",
    "        return n\n",
    "    else:\n",
    "        return fibo(n-1)+fibo(n-2)\n",
    "n=int(input(\"Enter a number:\"))\n",
    "if(n<0):\n",
    "    print(\"Enter a positive number\")\n",
    "else:\n",
    "    for i in range(n):\n",
    "        print(fibo(i))"
   ]
  },
  {
   "cell_type": "code",
   "execution_count": 19,
   "id": "369b7a51",
   "metadata": {},
   "outputs": [
    {
     "name": "stdout",
     "output_type": "stream",
     "text": [
      "leap year\n"
     ]
    }
   ],
   "source": [
    "year=2400\n",
    "if(year%100==0) and (year%400==0):\n",
    "    print(\"leap year\")\n",
    "elif(year%4==0) and (year%100!=0):\n",
    "    print(\"Leap year\")\n",
    "else:\n",
    "    print(\"Not leapyear\")"
   ]
  },
  {
   "cell_type": "code",
   "execution_count": 20,
   "id": "2c1d412d",
   "metadata": {},
   "outputs": [
    {
     "name": "stdout",
     "output_type": "stream",
     "text": [
      "-7 -3 -1 2 4 5 6 8 9 "
     ]
    }
   ],
   "source": [
    "def move(arr): \n",
    "  arr.sort() \n",
    "  \n",
    "# driver code \n",
    "arr = [ -1, 2, -3, 4, 5, 6, -7, 8, 9 ] \n",
    "move(arr) \n",
    "for e in arr: \n",
    "    print(e , end = \" \")"
   ]
  },
  {
   "cell_type": "code",
   "execution_count": 24,
   "id": "6171f041",
   "metadata": {},
   "outputs": [
    {
     "name": "stdout",
     "output_type": "stream",
     "text": [
      "{1, 2, 3, 4, 5}\n"
     ]
    }
   ],
   "source": [
    "arr1=[1,2,3,4,5,12,32]\n",
    "arr2=[1,2,4,3,5,6,4,3]\n",
    "set1=set(arr1)\n",
    "set2=set(arr2)\n",
    "union=set1.intersection(set2)\n",
    "print(union)"
   ]
  },
  {
   "cell_type": "code",
   "execution_count": 33,
   "id": "996901f5",
   "metadata": {},
   "outputs": [
    {
     "name": "stdout",
     "output_type": "stream",
     "text": [
      "1\n",
      "2\n"
     ]
    }
   ],
   "source": [
    "arr=[1,2,34,5,6,4,3,2,1]\n",
    "n=len(arr)\n",
    "for i in range(0,n):\n",
    "    for j in range(i+1,n):\n",
    "        if(arr[i]==arr[j]):\n",
    "            print(arr[j])"
   ]
  },
  {
   "cell_type": "code",
   "execution_count": 36,
   "id": "9aacebc3",
   "metadata": {},
   "outputs": [
    {
     "name": "stdout",
     "output_type": "stream",
     "text": [
      "2432902008176640000\n"
     ]
    }
   ],
   "source": [
    "n=20\n",
    "f=1\n",
    "for i in range(2,n+1):\n",
    "    f*=i\n",
    "print(f)"
   ]
  },
  {
   "cell_type": "code",
   "execution_count": null,
   "id": "1b330da5",
   "metadata": {},
   "outputs": [],
   "source": []
  }
 ],
 "metadata": {
  "kernelspec": {
   "display_name": "Python 3 (ipykernel)",
   "language": "python",
   "name": "python3"
  },
  "language_info": {
   "codemirror_mode": {
    "name": "ipython",
    "version": 3
   },
   "file_extension": ".py",
   "mimetype": "text/x-python",
   "name": "python",
   "nbconvert_exporter": "python",
   "pygments_lexer": "ipython3",
   "version": "3.12.2"
  },
  "widgets": {
   "application/vnd.jupyter.widget-state+json": {
    "state": {},
    "version_major": 2,
    "version_minor": 0
   }
  }
 },
 "nbformat": 4,
 "nbformat_minor": 5
}
