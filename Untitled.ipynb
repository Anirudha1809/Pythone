{
 "cells": [
  {
   "cell_type": "code",
   "execution_count": 3,
   "id": "76d27bd4-6a02-4be7-acfe-41242e716e12",
   "metadata": {},
   "outputs": [
    {
     "name": "stdout",
     "output_type": "stream",
     "text": [
      "[4, 9, 8, 5, 2, 1, 0]\n"
     ]
    }
   ],
   "source": [
    "str1 = [0,1,2,5,8,9,4]\n",
    "str1.reverse()\n",
    "print(str1)"
   ]
  },
  {
   "cell_type": "code",
   "execution_count": null,
   "id": "fb1d6094-8b6e-488d-a3de-ae05ecb53998",
   "metadata": {},
   "outputs": [],
   "source": []
  }
 ],
 "metadata": {
  "kernelspec": {
   "display_name": "Python 3 (ipykernel)",
   "language": "python",
   "name": "python3"
  },
  "language_info": {
   "codemirror_mode": {
    "name": "ipython",
    "version": 3
   },
   "file_extension": ".py",
   "mimetype": "text/x-python",
   "name": "python",
   "nbconvert_exporter": "python",
   "pygments_lexer": "ipython3",
   "version": "3.12.2"
  }
 },
 "nbformat": 4,
 "nbformat_minor": 5
}
