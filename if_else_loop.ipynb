{
 "cells": [
  {
   "cell_type": "markdown",
   "id": "94fbc4d8-8c22-4764-92d4-98e33cf60a8d",
   "metadata": {},
   "source": []
  },
  {
   "cell_type": "code",
   "execution_count": 18,
   "id": "08fe2edb-32b6-4db8-99f2-f8cea3de1a8c",
   "metadata": {},
   "outputs": [
    {
     "name": "stdout",
     "output_type": "stream",
     "text": [
      "2\n",
      "[1, 2, 3, 4, 5, 10, 11, 23]\n"
     ]
    }
   ],
   "source": [
    "list=[1,4,3,5,2,10,23,11]\n",
    "list.sort()\n",
    "print(list[1])\n",
    "print(list)"
   ]
  },
  {
   "cell_type": "code",
   "execution_count": 19,
   "id": "a56b009a-dd9d-4c68-951f-e0f9da7f4b23",
   "metadata": {},
   "outputs": [
    {
     "data": {
      "text/plain": [
       "list"
      ]
     },
     "execution_count": 19,
     "metadata": {},
     "output_type": "execute_result"
    }
   ],
   "source": [
    "type(list)"
   ]
  },
  {
   "cell_type": "code",
   "execution_count": 26,
   "id": "e5f1878b-4c21-4083-b842-3a067e5ba406",
   "metadata": {},
   "outputs": [
    {
     "name": "stdout",
     "output_type": "stream",
     "text": [
      "0\n",
      "1\n",
      "2\n",
      "3\n",
      "4\n"
     ]
    }
   ],
   "source": [
    "for i in range(5):\n",
    "    print(i)"
   ]
  },
  {
   "cell_type": "code",
   "execution_count": 27,
   "id": "950816b5-a438-4bb3-a2d0-1f557ae48c9f",
   "metadata": {},
   "outputs": [
    {
     "name": "stdout",
     "output_type": "stream",
     "text": [
      "p\n",
      "w\n",
      "s\n",
      "k\n",
      "i\n",
      "l\n",
      "l\n",
      "s\n"
     ]
    }
   ],
   "source": [
    "for i in \"pwskills\":\n",
    "    print(i)"
   ]
  },
  {
   "cell_type": "code",
   "execution_count": 28,
   "id": "fbff83db-4f33-4621-962d-007e8ab263a6",
   "metadata": {},
   "outputs": [
    {
     "name": "stdout",
     "output_type": "stream",
     "text": [
      "a\n",
      "b\n",
      "c\n"
     ]
    }
   ],
   "source": [
    "for i in [\"a\",\"b\",\"c\"]:\n",
    "    print(i)"
   ]
  },
  {
   "cell_type": "code",
   "execution_count": 30,
   "id": "c9766564-3a84-49e5-97a3-49ef5ce2b324",
   "metadata": {},
   "outputs": [
    {
     "name": "stdout",
     "output_type": "stream",
     "text": [
      "Ani\n",
      "Malda\n"
     ]
    }
   ],
   "source": [
    "x={\"name\":\"Ani\",\"city\":\"Malda\"}\n",
    "for i in x.values():\n",
    "    print(i)"
   ]
  },
  {
   "cell_type": "code",
   "execution_count": 3,
   "id": "3c2b009e-72df-43a9-acc9-8bb3d9ceebd6",
   "metadata": {},
   "outputs": [
    {
     "name": "stdout",
     "output_type": "stream",
     "text": [
      "india\n",
      "uk\n",
      "usa\n"
     ]
    }
   ],
   "source": [
    "country=['india','uk','usa']\n",
    "for city in range(len(country)):\n",
    "    print(country[city])"
   ]
  },
  {
   "cell_type": "code",
   "execution_count": 10,
   "id": "48d6fd52-cd42-4b7a-84e0-6135d6d252fe",
   "metadata": {},
   "outputs": [],
   "source": [
    "dict={\"x1\":1,'x2':2,'x3':3}"
   ]
  },
  {
   "cell_type": "code",
   "execution_count": 12,
   "id": "87fe076f-add1-483c-bd01-b3831538c904",
   "metadata": {},
   "outputs": [
    {
     "data": {
      "text/plain": [
       "dict_values([1, 2, 3])"
      ]
     },
     "execution_count": 12,
     "metadata": {},
     "output_type": "execute_result"
    }
   ],
   "source": [
    "dict.values()"
   ]
  },
  {
   "cell_type": "code",
   "execution_count": 11,
   "id": "0715a14c-e133-40d2-a4ad-ab89d3ea2068",
   "metadata": {},
   "outputs": [
    {
     "data": {
      "text/plain": [
       "dict_keys(['x1', 'x2', 'x3'])"
      ]
     },
     "execution_count": 11,
     "metadata": {},
     "output_type": "execute_result"
    }
   ],
   "source": [
    "dict.keys()"
   ]
  },
  {
   "cell_type": "code",
   "execution_count": 9,
   "id": "465989aa-d090-4fee-ab21-35369ff19474",
   "metadata": {},
   "outputs": [
    {
     "name": "stdout",
     "output_type": "stream",
     "text": [
      "x1 1\n",
      "x1 2\n",
      "x1 3\n"
     ]
    }
   ],
   "source": [
    "for values in dict:\n",
    "    print(keys,dict[values])"
   ]
  },
  {
   "cell_type": "code",
   "execution_count": 15,
   "id": "8ba64bc4-183c-4306-8328-0da997cc04bd",
   "metadata": {},
   "outputs": [
    {
     "name": "stdout",
     "output_type": "stream",
     "text": [
      "1\n",
      "2\n",
      "3\n"
     ]
    }
   ],
   "source": [
    "for i in {1,2,3}:\n",
    "    print(i)"
   ]
  },
  {
   "cell_type": "code",
   "execution_count": 16,
   "id": "16ceab65-97c7-47f2-90ca-aa3ca8f6ba14",
   "metadata": {},
   "outputs": [
    {
     "name": "stdout",
     "output_type": "stream",
     "text": [
      "p\n",
      "w\n",
      "s\n",
      "k\n",
      "i\n",
      "l\n",
      "l\n",
      "s\n"
     ]
    }
   ],
   "source": [
    "x=\"pwskills\"\n",
    "for i in x:\n",
    "    print(i)"
   ]
  },
  {
   "cell_type": "code",
   "execution_count": 1,
   "id": "700887bc-9c27-4834-a80e-e8c0a99c5698",
   "metadata": {},
   "outputs": [
    {
     "name": "stdout",
     "output_type": "stream",
     "text": [
      "[0, 1, 2, 3, 4, 5, 6, 7, 8, 9]\n"
     ]
    }
   ],
   "source": [
    "print(list(range(10)))"
   ]
  },
  {
   "cell_type": "code",
   "execution_count": 5,
   "id": "699f71b1-62d0-4be9-a22d-024503e00d49",
   "metadata": {},
   "outputs": [
    {
     "name": "stdout",
     "output_type": "stream",
     "text": [
      "0\n",
      "1\n",
      "2\n",
      "3\n",
      "4\n",
      "done\n"
     ]
    }
   ],
   "source": [
    "for i in range(5):\n",
    "    print(i)\n",
    "else:\n",
    "    print('done')"
   ]
  },
  {
   "cell_type": "code",
   "execution_count": 17,
   "id": "021135e9-90c7-4238-9db0-56cb2768d49d",
   "metadata": {},
   "outputs": [
    {
     "name": "stdout",
     "output_type": "stream",
     "text": [
      "* \n",
      "* * \n",
      "* * * \n",
      "* * * * \n",
      "* * * * * \n"
     ]
    }
   ],
   "source": [
    "for i in range(5):\n",
    "    for j in range(i+1):\n",
    "        print('*',end=' ')\n",
    "    print()"
   ]
  },
  {
   "cell_type": "code",
   "execution_count": 16,
   "id": "818a8dc4-f245-427e-a1c5-34c7be2c1005",
   "metadata": {},
   "outputs": [
    {
     "name": "stdout",
     "output_type": "stream",
     "text": [
      "* * * * * \n",
      "* * * * \n",
      "* * * \n",
      "* * \n",
      "* \n"
     ]
    }
   ],
   "source": [
    "for i in range(5,0,-1):\n",
    "    for j in range(i,0,-1):\n",
    "        print('*',end=' ')\n",
    "    print()"
   ]
  },
  {
   "cell_type": "code",
   "execution_count": 18,
   "id": "02dd8362-b687-4a1b-bf67-95522f78a18d",
   "metadata": {},
   "outputs": [
    {
     "name": "stdout",
     "output_type": "stream",
     "text": [
      "* * * * * \n",
      "* * * * \n",
      "* * * \n",
      "* * \n",
      "* \n"
     ]
    }
   ],
   "source": [
    "for i in range(5):\n",
    "    for j in range(5-i):\n",
    "        print('*',end=' ')\n",
    "    print()"
   ]
  },
  {
   "cell_type": "code",
   "execution_count": 21,
   "id": "b85f526b-e35a-40a0-ba12-bee25851f0cf",
   "metadata": {},
   "outputs": [
    {
     "name": "stdout",
     "output_type": "stream",
     "text": [
      "\n",
      "1 \n",
      "1 2 \n",
      "1 2 3 \n",
      "1 2 3 4 \n"
     ]
    }
   ],
   "source": [
    "for i in range(5):\n",
    "    for j in range(1,i+1):\n",
    "        print(j,end=\" \")\n",
    "    print()"
   ]
  },
  {
   "cell_type": "code",
   "execution_count": 27,
   "id": "51d4f628-de99-4323-9586-3f08a4f43405",
   "metadata": {},
   "outputs": [
    {
     "name": "stdout",
     "output_type": "stream",
     "text": [
      "1 2 3 4 5 \n",
      "2 4 6 8 10 \n",
      "3 6 9 12 15 \n",
      "4 8 12 16 20 \n",
      "5 10 15 20 25 \n"
     ]
    }
   ],
   "source": [
    "for i in range(1,6):\n",
    "    for j in range(1,6):\n",
    "        print(i*j,end=' ')\n",
    "    print()"
   ]
  },
  {
   "cell_type": "code",
   "execution_count": 29,
   "id": "bf979613-5575-4ed9-b4cf-704efe7b5dbc",
   "metadata": {},
   "outputs": [
    {
     "name": "stdout",
     "output_type": "stream",
     "text": [
      "1\n",
      "2\n",
      "3\n",
      "4\n",
      "5\n"
     ]
    }
   ],
   "source": [
    "count=1\n",
    "while(count<=5):\n",
    "    print(count)\n",
    "    count+=1"
   ]
  },
  {
   "cell_type": "code",
   "execution_count": 2,
   "id": "670007c0-6306-4625-a808-a7d56ae881e3",
   "metadata": {},
   "outputs": [
    {
     "name": "stdout",
     "output_type": "stream",
     "text": [
      "Enter a word for guess: 12ani\n",
      "Enter a word hii\n"
     ]
    },
    {
     "name": "stdout",
     "output_type": "stream",
     "text": [
      "you enter the Wrong word: hii\n"
     ]
    },
    {
     "name": "stdout",
     "output_type": "stream",
     "text": [
      "Enter a word 12ani\n"
     ]
    },
    {
     "name": "stdout",
     "output_type": "stream",
     "text": [
      "you enter the Wrong word: 12ani\n",
      "you enter the correct word\n"
     ]
    }
   ],
   "source": [
    "x=input(\"Enter a word for guess:\")\n",
    "text=\"\"\n",
    "while(x!=text):\n",
    "    text=input(\"Enter a word\")\n",
    "    print(\"you enter the Wrong word:\",text)\n",
    "else:\n",
    "    print(\"you enter the correct word\")"
   ]
  },
  {
   "cell_type": "code",
   "execution_count": 1,
   "id": "f89bbe6b-e39b-4621-9c11-f96ad4c649cc",
   "metadata": {},
   "outputs": [],
   "source": [
    "# Conditional Statement If-Else"
   ]
  },
  {
   "cell_type": "code",
   "execution_count": 2,
   "id": "a53253fe-10f0-416b-8c6c-506492b45baa",
   "metadata": {},
   "outputs": [
    {
     "name": "stdout",
     "output_type": "stream",
     "text": [
      "***"
     ]
    }
   ],
   "source": [
    "n=4\n",
    "for i in range(1,n):\n",
    "    print(\"\",end='')\n",
    "    for j in range(i,n-1):\n",
    "        print(\"*\",end='')"
   ]
  },
  {
   "cell_type": "code",
   "execution_count": 10,
   "id": "887205bf",
   "metadata": {},
   "outputs": [
    {
     "name": "stdout",
     "output_type": "stream",
     "text": [
      "i Will Buy the Coat\n",
      "yes coat available in size\n",
      "Discount is enough\n"
     ]
    }
   ],
   "source": [
    "a=1500\n",
    "coat_price=800\n",
    "shirt_price=300\n",
    "pant_price=500\n",
    "my_size='M'\n",
    "size_store=['L','XL','XXL','S','XXXL','M']\n",
    "my_color='White'\n",
    "store_color=['Blue','Black','Orange','Red','White']\n",
    "discount=30\n",
    "if coat_price<a:\n",
    "    print(\"i Will Buy the Coat\")\n",
    "    if my_size in size_store:\n",
    "        print(\"yes coat available in size\")\n",
    "        if discount>=20:\n",
    "            print(\"Discount is enough\")\n",
    "        else:\n",
    "            print(\"Discount not enough\")\n",
    "            if my_color in store_color:\n",
    "                print(\"Yes i will buy\")\n",
    "            else:\n",
    "                print(\"I will go another store\")\n",
    "    else:\n",
    "        print(\"Size is not available in store\")\n",
    "elif pant_price<a:\n",
    "    print(\"I will Buy the Pant\")\n",
    "    if my_size in size_store:\n",
    "        print(\"i will buy the pant\")\n",
    "        if my_color in store_color:\n",
    "            print(\"Yes i will buy\")\n",
    "        else:\n",
    "            print(\"I will go another store\")\n",
    "    else:\n",
    "        print(\"Size is not available in store\")\n",
    "elif shirt_price<a:\n",
    "    print(\"I will buy the shirt\")\n",
    "    if my_size in size_store:\n",
    "        print(\"i will buy the shirt\")\n",
    "        if my_color in store_color:\n",
    "            print(\"Yes i will buy\")\n",
    "        else:\n",
    "            print(\"I will go another store\")\n",
    "    else:\n",
    "        print(\"Size is not available in store\")\n",
    "else:\n",
    "    print(\"I wont able to buy anything\")"
   ]
  },
  {
   "cell_type": "code",
   "execution_count": 14,
   "id": "2bd82416-c4b7-4f3b-8e55-6ad738e512fa",
   "metadata": {},
   "outputs": [
    {
     "name": "stdout",
     "output_type": "stream",
     "text": [
      "I will buy the course\n"
     ]
    }
   ],
   "source": [
    "course=['DSM','DSA','JAVA','BIG DATA','DA']\n",
    "price=20000\n",
    "mentor=\"sudhanshu kumar\"\n",
    "if 'DSM' in course and price<=20000 and mentor==\"sudhanshu kumar\":\n",
    "    print(\"I will buy the course\")\n",
    "else:\n",
    "    print(\"Not buy\")"
   ]
  },
  {
   "cell_type": "code",
   "execution_count": 15,
   "id": "56dd3c52-279b-4cfa-87d3-c664b8a1410e",
   "metadata": {},
   "outputs": [
    {
     "name": "stdout",
     "output_type": "stream",
     "text": [
      "I will buy the course\n"
     ]
    }
   ],
   "source": [
    "course_price=20000\n",
    "if 10000<= course_price>=15000:\n",
    "    print(\"I will buy the course\")\n",
    "else:\n",
    "    print(\"Its out of budget\")"
   ]
  },
  {
   "cell_type": "code",
   "execution_count": 3,
   "id": "a0d38f7a-8fe9-497c-bd92-af5eeef0e839",
   "metadata": {},
   "outputs": [
    {
     "name": "stdin",
     "output_type": "stream",
     "text": [
      "Enter User name anirudha1809\n",
      "Enter the password Ani@1234\n"
     ]
    },
    {
     "name": "stdout",
     "output_type": "stream",
     "text": [
      "you logging succefully\n"
     ]
    }
   ],
   "source": [
    "user_name=\"anirudha1809\"\n",
    "password=\"Ani@1234\"\n",
    "if user_name ==input(\"Enter User name\") and password ==input(\"Enter the password\"):\n",
    "    print(\"you logged succefully\")\n",
    "else:\n",
    "    print(\"Enter the correct username or password\")"
   ]
  },
  {
   "cell_type": "code",
   "execution_count": 12,
   "id": "561ca4ab-a38a-4422-b607-154a919f0aa8",
   "metadata": {},
   "outputs": [
    {
     "name": "stdout",
     "output_type": "stream",
     "text": [
      "otp 6557\n"
     ]
    }
   ],
   "source": [
    "import math,random\n",
    "def generate_otp():\n",
    "    digits=\"1234567890\"\n",
    "    otp=\"\"\n",
    "    for i in range(4):\n",
    "        otp+=digits[math.floor(random.random()*10)]\n",
    "    return otp\n",
    "\n",
    "print(\"otp\",generate_otp())"
   ]
  },
  {
   "cell_type": "code",
   "execution_count": 30,
   "id": "edded17f-0651-45b1-add5-6911ee431e8b",
   "metadata": {},
   "outputs": [
    {
     "name": "stdout",
     "output_type": "stream",
     "text": [
      "7462\n"
     ]
    },
    {
     "name": "stdin",
     "output_type": "stream",
     "text": [
      "Enter the register Mobile no: 7318682738\n"
     ]
    },
    {
     "name": "stdout",
     "output_type": "stream",
     "text": [
      "Yes you are the register user\n"
     ]
    },
    {
     "name": "stdin",
     "output_type": "stream",
     "text": [
      "Enter a otp 7462\n"
     ]
    },
    {
     "name": "stdout",
     "output_type": "stream",
     "text": [
      "You logged succesfully\n"
     ]
    }
   ],
   "source": [
    "import math,random\n",
    "def generate_otp():\n",
    "    digits=\"1234567890\"\n",
    "    otp=\"\"\n",
    "    for i in range(4):\n",
    "        otp+=digits[math.floor(random.random()*10)]\n",
    "    return otp\n",
    "if __name__==\"__main__\":\n",
    "    mobile_no=\"7318682738\"\n",
    "    otp=generate_otp()\n",
    "    print(otp)\n",
    "    if mobile_no==input(\"Enter the register Mobile no:\"):\n",
    "        print(\"Yes you are the register user\")\n",
    "        otp=input(\"Enter a otp\")\n",
    "        if otp==otp:\n",
    "            print(\"You logged succesfully\")\n",
    "        else:\n",
    "            print(\"You entered wrong otp\")\n",
    "    else:\n",
    "        print(\"You have no enter valid no\")"
   ]
  },
  {
   "cell_type": "code",
   "execution_count": 32,
   "id": "e9d06f68-a498-4083-a078-9103e33243c9",
   "metadata": {},
   "outputs": [
    {
     "name": "stdout",
     "output_type": "stream",
     "text": [
      "2632\n"
     ]
    },
    {
     "name": "stdin",
     "output_type": "stream",
     "text": [
      "Enter the register Mobile no: 123456\n"
     ]
    },
    {
     "name": "stdout",
     "output_type": "stream",
     "text": [
      "Yes you are the register user\n"
     ]
    },
    {
     "name": "stdin",
     "output_type": "stream",
     "text": [
      "Enter a otp 2632\n"
     ]
    },
    {
     "name": "stdout",
     "output_type": "stream",
     "text": [
      "You logged succesfully\n"
     ]
    }
   ],
   "source": [
    "import math\n",
    "import random as ran\n",
    "def generate_otp():\n",
    "    digits=\"1234567890\"\n",
    "    otp=\"\"\n",
    "    for i in range(4):\n",
    "        otp+=digits[math.floor(ran.random()*10)]\n",
    "    return otp\n",
    "if __name__==\"__main__\":\n",
    "    mobile_no={123456,1234789,7318768,1457965,32487852,32174752}\n",
    "    otp=generate_otp()\n",
    "    print(otp)\n",
    "    if int(input(\"Enter the register Mobile no:\")) in mobile_no:\n",
    "        print(\"Yes you are the register user\")\n",
    "        otp=input(\"Enter a otp\")\n",
    "        if otp==otp:\n",
    "            print(\"You logged succesfully\")\n",
    "        else:\n",
    "            print(\"You entered wrong otp\")\n",
    "    else:\n",
    "        print(\"You have no enter valid no\")"
   ]
  },
  {
   "cell_type": "code",
   "execution_count": null,
   "id": "5a9d5ae7-8b18-4c40-a1e9-fd06657d1fe3",
   "metadata": {},
   "outputs": [],
   "source": [
    "l=[12,3,4,5,6,7,8]\n",
    "for i in l:\n",
    "    i=i+2\n",
    "    l.append(i)\n",
    "print(l)"
   ]
  },
  {
   "cell_type": "code",
   "execution_count": 1,
   "id": "d715eafe-d5bc-44cd-82ea-4131f63da218",
   "metadata": {},
   "outputs": [
    {
     "name": "stdout",
     "output_type": "stream",
     "text": [
      "12\n",
      "2\n",
      "3\n",
      "4\n",
      "5\n",
      "6\n",
      "7\n"
     ]
    }
   ],
   "source": [
    "l=[12,2,3,4,5,6,7]\n",
    "for i in l:\n",
    "    print(i)"
   ]
  },
  {
   "cell_type": "code",
   "execution_count": 4,
   "id": "4b0518c8-3a77-4f98-99c5-dfcc20bac55c",
   "metadata": {},
   "outputs": [
    {
     "name": "stdout",
     "output_type": "stream",
     "text": [
      "yes user is register\n",
      "yes student detaiils is avalable\n",
      "Course access to this user is ['dsa', 'ds', 'python']\n"
     ]
    }
   ],
   "source": [
    "mobile_no=[21345854,12846516,14545412,478426212]\n",
    "stud_no=478426212\n",
    "stud_details={'mobile_no':478426212,'course':['dsa','ds','python']}\n",
    "for i in mobile_no:\n",
    "    if i==stud_no:\n",
    "        print(\"yes user is register\")\n",
    "        if i==stud_details['mobile_no']:\n",
    "            print(\"yes student detaiils is avalable\")\n",
    "            print(\"Course access to this user is\",stud_details['course'])"
   ]
  },
  {
   "cell_type": "code",
   "execution_count": 5,
   "id": "26132513-738e-4bf1-b024-d2feab1d5ac4",
   "metadata": {},
   "outputs": [
    {
     "name": "stdout",
     "output_type": "stream",
     "text": [
      "1\n",
      "2\n",
      "3\n",
      "4\n",
      "5\n",
      "6\n"
     ]
    }
   ],
   "source": [
    "t =(1,2,3,4,5,6)\n",
    "for i in t:\n",
    "    print(i)"
   ]
  },
  {
   "cell_type": "code",
   "execution_count": 7,
   "id": "430b5c96-a617-4e22-aeed-31f89efa3dd2",
   "metadata": {},
   "outputs": [
    {
     "name": "stdout",
     "output_type": "stream",
     "text": [
      "Anirudha\n",
      "Gupta\n"
     ]
    }
   ],
   "source": [
    "t=(1,2,3,4,5,6,\"Anirudha\",\"Gupta\")\n",
    "for i in t:\n",
    "    if type(i)==str:\n",
    "        print(i)"
   ]
  },
  {
   "cell_type": "code",
   "execution_count": 11,
   "id": "cfa9816e-42dc-4d79-9608-806d7f4adb56",
   "metadata": {},
   "outputs": [
    {
     "name": "stdout",
     "output_type": "stream",
     "text": [
      "[1, 2, 3, 4, 5, 6]\n",
      "['Anirudha']\n"
     ]
    }
   ],
   "source": [
    "t=(1,2,3,4,5,6,\"Anirudha\")\n",
    "int1=[]\n",
    "l_str=[]\n",
    "for i in t:\n",
    "    if type(i)==str:\n",
    "       l_str.append(i)\n",
    "    elif type(i)==int:\n",
    "        int1.append(i)\n",
    "print(int1)\n",
    "print(l_str)"
   ]
  },
  {
   "cell_type": "code",
   "execution_count": 12,
   "id": "9163e9ce-bbab-4b6b-b661-a415f4c41bfa",
   "metadata": {},
   "outputs": [
    {
     "data": {
      "text/plain": [
       "['Anirudha']"
      ]
     },
     "execution_count": 12,
     "metadata": {},
     "output_type": "execute_result"
    }
   ],
   "source": [
    "l_str"
   ]
  },
  {
   "cell_type": "code",
   "execution_count": 13,
   "id": "ac43e64d-3490-42a2-b8b0-7019fb65531d",
   "metadata": {},
   "outputs": [],
   "source": [
    "s={'name':\"ani\",\"class\":[\"B.tech\",\"DSA\",\"JAVA\",\"OS\"],\"mobile_no\":\"7318682735\",\"email_id\":\"Anirudha\"}"
   ]
  },
  {
   "cell_type": "code",
   "execution_count": 15,
   "id": "e4b1b0b5-3681-4d64-be54-b33f7e8bbf24",
   "metadata": {},
   "outputs": [
    {
     "data": {
      "text/plain": [
       "{'name': 'ani',\n",
       " 'class': ['B.tech', 'DSA', 'JAVA', 'OS'],\n",
       " 'mobile_no': '7318682735',\n",
       " 'email_id': 'Anirudha'}"
      ]
     },
     "execution_count": 15,
     "metadata": {},
     "output_type": "execute_result"
    }
   ],
   "source": [
    "s"
   ]
  },
  {
   "cell_type": "code",
   "execution_count": 20,
   "id": "c703c7a6-2b9d-46d4-b2a6-b38b31f8e764",
   "metadata": {},
   "outputs": [
    {
     "name": "stdout",
     "output_type": "stream",
     "text": [
      "ani\n",
      "['B.tech', 'DSA', 'JAVA', 'OS']\n",
      "7318682735\n",
      "Anirudha\n"
     ]
    }
   ],
   "source": [
    "for i in s.values():\n",
    "    print(i)"
   ]
  },
  {
   "cell_type": "code",
   "execution_count": 22,
   "id": "a8591b63-4d45-4a30-b47f-8c3a58ad3741",
   "metadata": {},
   "outputs": [
    {
     "name": "stdout",
     "output_type": "stream",
     "text": [
      "Yes available\n",
      "['B.tech', 'DSA', 'JAVA', 'OS']\n"
     ]
    }
   ],
   "source": [
    "for i in s.values():\n",
    "    if type(i)==list:\n",
    "        if \"DSA\" in i:\n",
    "            print(\"Yes available\")\n",
    "        print(i)"
   ]
  },
  {
   "cell_type": "code",
   "execution_count": null,
   "id": "70d0e190-0f79-4130-a429-7d19b11007bf",
   "metadata": {},
   "outputs": [],
   "source": []
  }
 ],
 "metadata": {
  "kernelspec": {
   "display_name": "Python 3 (ipykernel)",
   "language": "python",
   "name": "python3"
  },
  "language_info": {
   "codemirror_mode": {
    "name": "ipython",
    "version": 3
   },
   "file_extension": ".py",
   "mimetype": "text/x-python",
   "name": "python",
   "nbconvert_exporter": "python",
   "pygments_lexer": "ipython3",
   "version": "3.12.2"
  },
  "widgets": {
   "application/vnd.jupyter.widget-state+json": {
    "state": {},
    "version_major": 2,
    "version_minor": 0
   }
  }
 },
 "nbformat": 4,
 "nbformat_minor": 5
}
