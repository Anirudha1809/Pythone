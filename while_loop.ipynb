{
 "cells": [
  {
   "cell_type": "code",
   "execution_count": 3,
   "metadata": {},
   "outputs": [
    {
     "name": "stdout",
     "output_type": "stream",
     "text": [
      "100\n",
      "99\n",
      "98\n",
      "97\n",
      "96\n",
      "95\n",
      "94\n",
      "93\n",
      "92\n",
      "91\n",
      "90\n",
      "89\n",
      "88\n",
      "87\n",
      "86\n",
      "85\n",
      "84\n",
      "83\n",
      "82\n",
      "81\n",
      "80\n",
      "79\n",
      "78\n",
      "77\n",
      "76\n",
      "75\n",
      "74\n",
      "73\n",
      "72\n",
      "71\n",
      "70\n",
      "69\n",
      "68\n",
      "67\n",
      "66\n",
      "65\n",
      "64\n",
      "63\n",
      "62\n",
      "61\n",
      "60\n",
      "59\n",
      "58\n",
      "57\n",
      "56\n",
      "55\n",
      "54\n",
      "53\n",
      "52\n",
      "51\n",
      "50\n",
      "49\n",
      "48\n",
      "47\n",
      "46\n",
      "45\n",
      "44\n",
      "43\n",
      "42\n",
      "41\n",
      "40\n",
      "39\n",
      "38\n",
      "37\n",
      "36\n",
      "35\n",
      "34\n",
      "33\n",
      "32\n",
      "31\n",
      "30\n",
      "29\n",
      "28\n",
      "27\n",
      "26\n",
      "25\n",
      "24\n",
      "23\n",
      "22\n",
      "21\n",
      "20\n",
      "19\n",
      "18\n",
      "17\n",
      "16\n",
      "15\n",
      "14\n",
      "13\n",
      "12\n",
      "11\n",
      "10\n",
      "9\n",
      "8\n",
      "7\n",
      "6\n",
      "5\n",
      "4\n",
      "3\n",
      "2\n",
      "1\n"
     ]
    }
   ],
   "source": [
    "n=100\n",
    "while(n>=1):\n",
    "    print(n)\n",
    "    n-=1\n"
   ]
  },
  {
   "cell_type": "code",
   "execution_count": 2,
   "metadata": {},
   "outputs": [
    {
     "name": "stdout",
     "output_type": "stream",
     "text": [
      "55\n"
     ]
    }
   ],
   "source": [
    "s=0\n",
    "n=1\n",
    "t=10\n",
    "while n<=t:\n",
    "    s=s+n\n",
    "    n=n+1\n",
    "print(s)"
   ]
  },
  {
   "cell_type": "code",
   "execution_count": 6,
   "metadata": {},
   "outputs": [
    {
     "ename": "SyntaxError",
     "evalue": "invalid syntax (2570990703.py, line 7)",
     "output_type": "error",
     "traceback": [
      "\u001b[1;36m  Cell \u001b[1;32mIn[6], line 7\u001b[1;36m\u001b[0m\n\u001b[1;33m    print(s)/\u001b[0m\n\u001b[1;37m             ^\u001b[0m\n\u001b[1;31mSyntaxError\u001b[0m\u001b[1;31m:\u001b[0m invalid syntax\n"
     ]
    }
   ],
   "source": [
    "s=1\n",
    "n=1\n",
    "t=5\n",
    "while n<=5:\n",
    "    s=s*n\n",
    "    n+=1\n",
    "print(s)"
   ]
  },
  {
   "cell_type": "code",
   "execution_count": 8,
   "metadata": {},
   "outputs": [
    {
     "name": "stdout",
     "output_type": "stream",
     "text": [
      "0\n"
     ]
    }
   ],
   "source": [
    "for i in range(1,):\n",
    "    print(i)"
   ]
  },
  {
   "cell_type": "code",
   "execution_count": 13,
   "metadata": {},
   "outputs": [
    {
     "name": "stdout",
     "output_type": "stream",
     "text": [
      "5 * 2 -> 5\n",
      "5 * 3 -> 10\n",
      "5 * 4 -> 15\n",
      "5 * 5 -> 20\n",
      "5 * 6 -> 25\n",
      "5 * 7 -> 30\n",
      "5 * 8 -> 35\n",
      "5 * 9 -> 40\n",
      "5 * 10 -> 45\n",
      "5 * 11 -> 50\n"
     ]
    }
   ],
   "source": [
    "n=int(input(\"Enter a number for which you would like to for table\"))\n",
    "i=1\n",
    "t=10\n",
    "while i<=t:\n",
    "    product=n*i\n",
    "    i+=1\n",
    "    print(n,'*',i,\"->\",product)"
   ]
  },
  {
   "cell_type": "code",
   "execution_count": 15,
   "metadata": {},
   "outputs": [
    {
     "name": "stdout",
     "output_type": "stream",
     "text": [
      "5\n",
      "4\n",
      "3\n",
      "2\n",
      "1\n",
      "time is over\n"
     ]
    }
   ],
   "source": [
    "import time\n",
    "s=5\n",
    "while s>0:\n",
    "    print(s)\n",
    "    time.sleep(1)\n",
    "    s=s-1\n",
    "print(\"time is over\")"
   ]
  },
  {
   "cell_type": "code",
   "execution_count": 4,
   "metadata": {},
   "outputs": [
    {
     "name": "stdout",
     "output_type": "stream",
     "text": [
      "Money in hand 20\n",
      "you choose Biscuit\n",
      "Take your biscuit\n",
      "Money in hand 15\n",
      "Invalid Input! Please enter again\n"
     ]
    }
   ],
   "source": [
    "money_in_hand=20\n",
    "biscuit_price=5\n",
    "chips_price=6\n",
    "red_bull_price=10\n",
    "coke_price=10\n",
    "while money_in_hand>=0:\n",
    "    print(\"Money in hand\",money_in_hand)\n",
    "    choice = int(input(\"Enter your choice(1.biscuit\\n ,2.chips\\n,3.red bull\\n,4.coke\\n\"))\n",
    "    if choice==1:\n",
    "        print(\"you choose Biscuit\")\n",
    "        if money_in_hand>=biscuit_price:\n",
    "            print(\"Take your biscuit\")\n",
    "            money_in_hand=money_in_hand-biscuit_price\n",
    "        else:\n",
    "            print(\"You don't have enough money\")\n",
    "            break\n",
    "    elif choice ==2:\n",
    "        print(\"you choose chips\")\n",
    "        if money_in_hand>=chips_price:\n",
    "            print(\"Take your chips\")\n",
    "            money_in_hand=money_in_hand-chips_price\n",
    "        else:\n",
    "            print(\"You don't have enough for the chips.\")\n",
    "            break\n",
    "    elif choice==3:\n",
    "        print(\"you choose red bull\")\n",
    "        if money_in_hand>=red_bull_price:\n",
    "            print(\"Take your red bull\")\n",
    "            money_in_hand=money_in_hand-red_bull_price\n",
    "        else:\n",
    "            print(\"you dont have enough money to take a red bull\") \n",
    "            break\n",
    "    elif choice==4:\n",
    "        print(\"you choose coke\")\n",
    "        if money_in_hand>=coke_price:\n",
    "            print(\"take your coke\")\n",
    "            money_in_hand=money_in_hand-coke_price\n",
    "        else:\n",
    "            print(\"You dont have enough money\")\n",
    "            break\n",
    "    else:\n",
    "        print(\"Invalid Input! Please enter again\")\n",
    "        break"
   ]
  },
  {
   "cell_type": "code",
   "execution_count": 11,
   "metadata": {},
   "outputs": [
    {
     "name": "stdout",
     "output_type": "stream",
     "text": [
      "Enter S to stop timer\n",
      "Enter S to stop timer\n",
      "time is over\n"
     ]
    }
   ],
   "source": [
    "import time\n",
    "stop=False\n",
    "s=5\n",
    "while not False:\n",
    "    print(\"Enter S to stop timer\")\n",
    "    time.sleep(1)\n",
    "    press_stop=input(\"Enter S for stop\")\n",
    "    if press_stop.upper()==\"S\":\n",
    "        break\n",
    "print(\"time is over\")\n"
   ]
  },
  {
   "cell_type": "code",
   "execution_count": 13,
   "metadata": {},
   "outputs": [
    {
     "name": "stdout",
     "output_type": "stream",
     "text": [
      "enter a user_id\n",
      "enter a password\n",
      "you succesfully loggin\n",
      "enter a user_id\n",
      "enter a password\n",
      "you fail to loggin3\n",
      "enter a user_id\n",
      "enter a password\n",
      "you fail to loggin2\n",
      "enter a user_id\n",
      "enter a password\n",
      "you fail to loggin1\n",
      "enter a user_id\n",
      "enter a password\n",
      "you fail to loggin0\n"
     ]
    }
   ],
   "source": [
    "user_id=\"anirudhagupta\"\n",
    "password=\"Anirudha1809\"\n",
    "counter=3\n",
    "while counter>=0:\n",
    "    print(\"enter a user_id\")\n",
    "    user=input()\n",
    "    print(\"enter a password\")\n",
    "    pass1=input()\n",
    "    if user_id ==user and pass1 == password:\n",
    "        print(\"you succesfully loggin\")\n",
    "        break\n",
    "    else:\n",
    "        print(\"you fail to loggin\")\n",
    "        counter=counter-1\n"
   ]
  },
  {
   "cell_type": "code",
   "execution_count": 1,
   "metadata": {},
   "outputs": [
    {
     "name": "stdout",
     "output_type": "stream",
     "text": [
      "55\n"
     ]
    }
   ],
   "source": [
    "a=\"5\"\n",
    "b=\"5\"\n",
    "print(a+b)"
   ]
  },
  {
   "cell_type": "code",
   "execution_count": 2,
   "metadata": {},
   "outputs": [
    {
     "name": "stdout",
     "output_type": "stream",
     "text": [
      "Enter your user id for Account anirudha\n"
     ]
    },
    {
     "name": "stdout",
     "output_type": "stream",
     "text": [
      "Incorrect user id try again\n"
     ]
    }
   ],
   "source": [
    "user_id=\"Anirudha\"\n",
    "password=\"Anirudha1809\"\n",
    "counter=1\n",
    "user_id_check=False\n",
    "userid=input(\"Enter your user id for Account\")\n",
    "while counter<=3:\n",
    "    if userid==user_id:\n",
    "        user_id_check==True\n",
    "    else:\n",
    "        print(\"Incorrect user id try again\")\n",
    "        break\n",
    "    if user_id_check==True:\n",
    "        pswd=input(\"Enter your password for account\")\n",
    "        if pswd== password:\n",
    "            print(\"You logged succesfully\")\n",
    "            break\n",
    "        counter=counter+1\n",
    "if counter >3:\n",
    "    print(\"You have attempted maximum times and your account is locked\")"
   ]
  },
  {
   "cell_type": "code",
   "execution_count": 7,
   "metadata": {},
   "outputs": [
    {
     "name": "stdout",
     "output_type": "stream",
     "text": [
      "Thank you...\n",
      "['hdjf']\n"
     ]
    }
   ],
   "source": [
    "to_do_list=[]\n",
    "while True:\n",
    "    task=input(\"Please enter a task in to do list\")\n",
    "    to_do_list.append(task)\n",
    "    query=input(\"Are you enter any new task 1.Yes 2.No\")\n",
    "    query=query.lower()\n",
    "    if \"yes\" in query:\n",
    "        task=input(\"Please enter a task in to do list\")\n",
    "        to_do_list.append(task)\n",
    "    if \"no\" in query:\n",
    "        print(\"Thank you...\")\n",
    "\n",
    "        break\n",
    "print(to_do_list)"
   ]
  },
  {
   "cell_type": "code",
   "execution_count": 12,
   "metadata": {},
   "outputs": [
    {
     "name": "stdout",
     "output_type": "stream",
     "text": [
      "Enter Your task anndnd\n",
      "Enter n id you want to add in todo list or enter y if you dont wwant to add n\n",
      "Enter Your task hbdfj\n",
      "Enter n id you want to add in todo list or enter y if you dont wwant to add y\n"
     ]
    },
    {
     "name": "stdout",
     "output_type": "stream",
     "text": [
      "['anndnd', 'hbdfj']\n"
     ]
    }
   ],
   "source": [
    "todo_list=[]\n",
    "end_of_todo='n'\n",
    "while end_of_todo!='y':\n",
    "    todo_task=input(\"Enter Your task\")\n",
    "    todo_list.append(todo_task)\n",
    "    end_of_todo=input(\"Enter n id you want to add in todo list or enter y if you dont wwant to add\")\n",
    "print(todo_list)"
   ]
  },
  {
   "cell_type": "code",
   "execution_count": 10,
   "metadata": {},
   "outputs": [],
   "source": [
    "to_do_list.remove(\"hdjf\")"
   ]
  },
  {
   "cell_type": "code",
   "execution_count": 11,
   "metadata": {},
   "outputs": [
    {
     "data": {
      "text/plain": [
       "[]"
      ]
     },
     "execution_count": 11,
     "metadata": {},
     "output_type": "execute_result"
    }
   ],
   "source": [
    "to_do_list"
   ]
  },
  {
   "cell_type": "code",
   "execution_count": 14,
   "metadata": {},
   "outputs": [
    {
     "name": "stdout",
     "output_type": "stream",
     "text": [
      "Welcome to To Do List!\n",
      "Do you want to add or remove tasks?\n",
      "1.Yes\n",
      "2.No\n",
      "Task added: python class\n",
      "Are you wanna add new task..\n",
      "1.Yes\n",
      "2.No\n",
      "Thank you....\n",
      "here is your To do list['python class']\n"
     ]
    }
   ],
   "source": [
    "def add_to_do():\n",
    "    task=input(\"Enter a task in to d list\")\n",
    "    to_do_list.append(task)\n",
    "    print(f\"Task added: {task}\")\n",
    "    print(\"Are you wanna add new task..\\n1.Yes\\n2.No\")\n",
    "    choice = int(input())\n",
    "    if choice == 1 :\n",
    "        add_to_do()\n",
    "    else:\n",
    "        print(\"Thank you....\")\n",
    "        return\n",
    "def remove_from_todo(task):\n",
    "    to_do_list.remove(task)\n",
    "    print(f\"Task removed: {task}\")\n",
    "if __name__==\"__main__\":\n",
    "    print(\"Welcome to To Do List!\")\n",
    "    to_do_list=[]\n",
    "    print(\"Do you want to add or remove tasks?\\n1.Add task\\n2.Remove task\")\n",
    "    action = int(input())\n",
    "    if action==1:\n",
    "        add_to_do()\n",
    "    else:\n",
    "        task=input(\"Enter the task which tou wanna Remove\")\n",
    "        remove_from_todo(task)\n",
    "    print(f\"here is your To do list{to_do_list}\")"
   ]
  },
  {
   "cell_type": "code",
   "execution_count": null,
   "metadata": {},
   "outputs": [],
   "source": []
  }
 ],
 "metadata": {
  "kernelspec": {
   "display_name": "Python 3 (ipykernel)",
   "language": "python",
   "name": "python3"
  },
  "language_info": {
   "codemirror_mode": {
    "name": "ipython",
    "version": 3
   },
   "file_extension": ".py",
   "mimetype": "text/x-python",
   "name": "python",
   "nbconvert_exporter": "python",
   "pygments_lexer": "ipython3",
   "version": "3.12.2"
  },
  "widgets": {
   "application/vnd.jupyter.widget-state+json": {
    "state": {},
    "version_major": 2,
    "version_minor": 0
   }
  }
 },
 "nbformat": 4,
 "nbformat_minor": 4
}
