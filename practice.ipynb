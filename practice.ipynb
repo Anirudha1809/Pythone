{
 "cells": [
  {
   "cell_type": "code",
   "execution_count": 2,
   "id": "2ad2105b-2630-4cd2-9bff-2067b0f1ad23",
   "metadata": {},
   "outputs": [
    {
     "name": "stdout",
     "output_type": "stream",
     "text": [
      "Enter first number: 10\n",
      "Enter sceond number 20\n"
     ]
    },
    {
     "name": "stdout",
     "output_type": "stream",
     "text": [
      "Add of two number is: 30\n"
     ]
    }
   ],
   "source": [
    "#add two numbers\n",
    "\n",
    "num1=int(input(\"Enter first number:\"))\n",
    "num2=int(input(\"Enter sceond number\"))\n",
    "\n",
    "num3=num1+num2\n",
    "\n",
    "print(\"Add of two number is:\",num3)"
   ]
  },
  {
   "cell_type": "code",
   "execution_count": 3,
   "id": "661a50f5-db24-4ed7-9df9-14f5e1a4c5dd",
   "metadata": {},
   "outputs": [
    {
     "name": "stdout",
     "output_type": "stream",
     "text": [
      "Enter a number 64\n"
     ]
    },
    {
     "name": "stdout",
     "output_type": "stream",
     "text": [
      "8.0\n"
     ]
    }
   ],
   "source": [
    "#square root of a number\n",
    "\n",
    "num=float(input(\"Enter a number\"))\n",
    "sr=num**(1/2)\n",
    "print(sr)"
   ]
  },
  {
   "cell_type": "code",
   "execution_count": 4,
   "id": "0a312052-8440-44b1-9703-85c759630856",
   "metadata": {},
   "outputs": [
    {
     "name": "stdout",
     "output_type": "stream",
     "text": [
      "Enter a number: 100\n"
     ]
    },
    {
     "name": "stdout",
     "output_type": "stream",
     "text": [
      "10.0\n"
     ]
    }
   ],
   "source": [
    "#solution :-2\n",
    "import math\n",
    "num=float(input(\"Enter a number:\"))\n",
    "\n",
    "sr=math.sqrt(num)\n",
    "print(sr)"
   ]
  },
  {
   "cell_type": "code",
   "execution_count": 6,
   "id": "b3af7a3c-0361-4259-b724-9e314b2d84e5",
   "metadata": {},
   "outputs": [
    {
     "name": "stdout",
     "output_type": "stream",
     "text": [
      "Enter the height of the triangle: 12.5\n",
      "Enter the base of the triangle: 5.5\n"
     ]
    },
    {
     "name": "stdout",
     "output_type": "stream",
     "text": [
      "34.375\n"
     ]
    }
   ],
   "source": [
    "#area of a triangle\n",
    "height=float(input(\"Enter the height of the triangle:\"))\n",
    "base=float(input(\"Enter the base of the triangle:\"))\n",
    "\n",
    "area= (1/2)*height*base\n",
    "\n",
    "print(area)"
   ]
  },
  {
   "cell_type": "code",
   "execution_count": 7,
   "id": "322e23ee-28a2-4c75-a7c3-2d3d73443f7e",
   "metadata": {},
   "outputs": [
    {
     "name": "stdout",
     "output_type": "stream",
     "text": [
      "Enter a number 10\n",
      "Enter the Sceond number 20\n"
     ]
    },
    {
     "name": "stdout",
     "output_type": "stream",
     "text": [
      "20\n",
      "10\n"
     ]
    }
   ],
   "source": [
    "#swap two number\n",
    "num1=int(input(\"Enter a number\"))\n",
    "num2=int(input(\"Enter the Sceond number\"))\n",
    "temp=num1\n",
    "num1=num2\n",
    "num2=temp\n",
    "print(num1)\n",
    "print(num2)"
   ]
  },
  {
   "cell_type": "code",
   "execution_count": 10,
   "id": "c8bf2178-d58c-445e-91e0-38700d841a7f",
   "metadata": {},
   "outputs": [
    {
     "name": "stdout",
     "output_type": "stream",
     "text": [
      "enter first number 10\n",
      "Enter second number 20\n"
     ]
    },
    {
     "name": "stdout",
     "output_type": "stream",
     "text": [
      "20\n",
      "10\n"
     ]
    }
   ],
   "source": [
    "#swap number without any extra variable\n",
    "num1=int(input(\"enter first number\"))\n",
    "num2=int(input(\"Enter second number\"))\n",
    "num1=num1+num2\n",
    "num2=num1-num2\n",
    "num1=num1-num2\n",
    "print(num1)\n",
    "print(num2)"
   ]
  },
  {
   "cell_type": "code",
   "execution_count": 11,
   "id": "8296e36a-eab4-462c-ab4e-d0a20b2368aa",
   "metadata": {},
   "outputs": [
    {
     "name": "stdout",
     "output_type": "stream",
     "text": [
      "20 13\n"
     ]
    }
   ],
   "source": [
    "x=13\n",
    "y=20\n",
    "x,y=y,x\n",
    "print(x,y)"
   ]
  },
  {
   "cell_type": "code",
   "execution_count": 16,
   "id": "b70a4807-ad0c-44cc-98bf-53afca053f26",
   "metadata": {},
   "outputs": [
    {
     "name": "stdout",
     "output_type": "stream",
     "text": [
      "Enter the KM to calculate 10\n"
     ]
    },
    {
     "name": "stdout",
     "output_type": "stream",
     "text": [
      "10.0  km convert to 6.2175 Miles\n"
     ]
    }
   ],
   "source": [
    "#convert KM to miles\n",
    "\n",
    "km=float(input(\"Enter the KM to calculate\"))\n",
    "miles=km*0.62175\n",
    "print(km,\" km convert to\",miles,\"Miles\")"
   ]
  },
  {
   "cell_type": "code",
   "execution_count": 21,
   "id": "2a13f179-8d77-4629-983b-2009c36dfb5f",
   "metadata": {},
   "outputs": [
    {
     "name": "stdout",
     "output_type": "stream",
     "text": [
      "Enter a number 25\n"
     ]
    },
    {
     "name": "stdout",
     "output_type": "stream",
     "text": [
      "Number is positive\n"
     ]
    }
   ],
   "source": [
    "#check Number is positive,negative or zero\n",
    "num=float(input(\"Enter a number\"))\n",
    "if(num==0):\n",
    "    print(\"Number is zero\")\n",
    "elif(num<0):\n",
    "    print(\"Number is negative\")\n",
    "else:\n",
    "    print(\"Number is positive\")"
   ]
  },
  {
   "cell_type": "code",
   "execution_count": 23,
   "id": "4944e356-eb02-4d09-86c6-b1a44acc3b76",
   "metadata": {},
   "outputs": [
    {
     "name": "stdout",
     "output_type": "stream",
     "text": [
      "Enter a number 10\n"
     ]
    },
    {
     "name": "stdout",
     "output_type": "stream",
     "text": [
      "Number is odd\n"
     ]
    }
   ],
   "source": [
    "#even or odd\n",
    "num=int(input(\"Enter a number\"))\n",
    "if(num%2==0):\n",
    "    print(\"number is even\")\n",
    "else:\n",
    "    print(\"Number is odd\")"
   ]
  },
  {
   "cell_type": "code",
   "execution_count": 30,
   "id": "ec0f1e80-5d3d-425b-a1b6-d84f3299eeb8",
   "metadata": {},
   "outputs": [
    {
     "name": "stdout",
     "output_type": "stream",
     "text": [
      "Enter a year: 2015\n"
     ]
    },
    {
     "name": "stdout",
     "output_type": "stream",
     "text": [
      "not leap year\n"
     ]
    }
   ],
   "source": [
    "year=int(input(\"Enter a year:\"))\n",
    "if(year%4==0 and year%100!=0):\n",
    "    print(\"Leap year\")\n",
    "#elif(year%400==0 and year%100==0):\n",
    "    #print(\"leap year\")\n",
    "else:\n",
    "    print(\"not leap year\")"
   ]
  },
  {
   "cell_type": "code",
   "execution_count": 36,
   "id": "786f8811-a5bc-482d-bdf8-11c40bf536c5",
   "metadata": {},
   "outputs": [
    {
     "name": "stdout",
     "output_type": "stream",
     "text": [
      "Enter a number 30\n",
      "Enter 2nd number: 20\n",
      "Enter 3rd number: 50\n"
     ]
    },
    {
     "name": "stdout",
     "output_type": "stream",
     "text": [
      "50 is largest\n"
     ]
    }
   ],
   "source": [
    "#find largest number among three number\n",
    "num1=int(input(\"Enter a number\"))\n",
    "num2=int(input(\"Enter 2nd number:\"))\n",
    "num3=int(input(\"Enter 3rd number:\"))\n",
    "if(num1>num2) and (num1>num3):\n",
    "    print(num1,\"is largest\")\n",
    "elif(num2>num1) and (num2>num3):\n",
    "    print(num2,\"is largest\")\n",
    "else:\n",
    "    print(num3,\"is largest\")"
   ]
  },
  {
   "cell_type": "code",
   "execution_count": 7,
   "id": "67e8f4b4-5285-4681-a252-69dbf06a0f23",
   "metadata": {},
   "outputs": [
    {
     "name": "stdout",
     "output_type": "stream",
     "text": [
      "None\n"
     ]
    }
   ],
   "source": [
    "arr=[5,6,3,4,9,7]\n",
    "sort_arr=arr.sort()\n",
    "print(sort_arr)"
   ]
  },
  {
   "cell_type": "code",
   "execution_count": 5,
   "id": "6d79dca9-4357-4efc-9d43-6226e67805a8",
   "metadata": {},
   "outputs": [
    {
     "name": "stdout",
     "output_type": "stream",
     "text": [
      "5\n"
     ]
    }
   ],
   "source": [
    "arr=[23,42,5,6,78,9]\n",
    "min=arr[0]\n",
    "for i in range(1,len(arr)):\n",
    "    if(arr[i]<min):\n",
    "        min=arr[i]\n",
    "print(min)"
   ]
  },
  {
   "cell_type": "code",
   "execution_count": 19,
   "id": "def4d3e6-c703-47a8-a046-d5f58f5bdaf6",
   "metadata": {},
   "outputs": [
    {
     "name": "stdout",
     "output_type": "stream",
     "text": [
      "      *\n",
      "     **\n",
      "    ***\n",
      "   ****\n",
      "  *****\n",
      " ******\n"
     ]
    }
   ],
   "source": [
    "n=6\n",
    "for i in range(n):\n",
    "    for j in range(i,n):\n",
    "        print('',end=' ')\n",
    "    for j in range(i+1):\n",
    "        print('*',end='')\n",
    "    print()"
   ]
  },
  {
   "cell_type": "code",
   "execution_count": 20,
   "id": "b4a983cf-9584-479f-847e-c1aa9b7306ef",
   "metadata": {},
   "outputs": [
    {
     "name": "stdout",
     "output_type": "stream",
     "text": [
      "******\n",
      "*****\n",
      "****\n",
      "***\n",
      "**\n",
      "*\n"
     ]
    }
   ],
   "source": [
    "n=6\n",
    "for i in range(n):\n",
    "    for j in range(i+1):\n",
    "        print('',end='')\n",
    "    for j in range(i,n):\n",
    "        print('*',end='')\n",
    "    print()"
   ]
  },
  {
   "cell_type": "code",
   "execution_count": 34,
   "id": "3f1a33e0-f19b-4ed8-81a6-e0f5aa8cee86",
   "metadata": {},
   "outputs": [
    {
     "name": "stdout",
     "output_type": "stream",
     "text": [
      "*********\n",
      " *******\n",
      "  *****\n",
      "   ***\n",
      "    *\n"
     ]
    }
   ],
   "source": [
    "n=5\n",
    "for i in range(n):\n",
    "    for j in range(i):\n",
    "        print(' ',end='')\n",
    "    for j in range(i,n-1):\n",
    "        print('*',end='')\n",
    "    for j in range(i,n):\n",
    "        print('*',end='')\n",
    "    print()"
   ]
  },
  {
   "cell_type": "code",
   "execution_count": 49,
   "id": "e4efb9b6-f9fc-4780-9a80-09faab21d54a",
   "metadata": {},
   "outputs": [
    {
     "name": "stdout",
     "output_type": "stream",
     "text": [
      "***********\n",
      "*********\n",
      "*******\n",
      "*****\n",
      "***\n"
     ]
    }
   ],
   "source": [
    "n=5\n",
    "for i in range(n):\n",
    "    for j in range(i,n):\n",
    "        print('*',end='')\n",
    "    for j in range(i,n):\n",
    "        print('',end='')\n",
    "    for j in range(i,n+1):\n",
    "        print('*',end='')\n",
    "    print()"
   ]
  },
  {
   "cell_type": "code",
   "execution_count": 1,
   "id": "7f4db183-3a16-4e3e-892e-b8d4cad4c50f",
   "metadata": {},
   "outputs": [
    {
     "name": "stdout",
     "output_type": "stream",
     "text": [
      "1\n",
      "2\n",
      "3\n",
      "4\n",
      "5\n",
      "6\n",
      "7\n",
      "8\n",
      "9\n",
      "10\n"
     ]
    }
   ],
   "source": [
    "for i in range(1,11):\n",
    "    print(i)"
   ]
  },
  {
   "cell_type": "code",
   "execution_count": 17,
   "id": "c3ab4f91-8c05-4857-be35-42856752e141",
   "metadata": {},
   "outputs": [
    {
     "name": "stdout",
     "output_type": "stream",
     "text": [
      "45\n"
     ]
    }
   ],
   "source": [
    "list=[1,2,3,4,5,6,7,8,9]\n",
    "sum=0\n",
    "for i in list:\n",
    "    sum=sum+i\n",
    "    i+=1\n",
    "print(sum)"
   ]
  },
  {
   "cell_type": "code",
   "execution_count": 10,
   "id": "f68d6263-97b8-4683-bd6d-28877662fb38",
   "metadata": {},
   "outputs": [
    {
     "name": "stdout",
     "output_type": "stream",
     "text": [
      "a t p u G   h d u r i n A "
     ]
    }
   ],
   "source": [
    "string=\"Anirudh Gupta\"\n",
    "for i in string[::-1]:\n",
    "    print(i,end=' ')"
   ]
  },
  {
   "cell_type": "code",
   "execution_count": 16,
   "id": "caebffaf-7779-4027-a22a-114136342e98",
   "metadata": {},
   "outputs": [
    {
     "name": "stdout",
     "output_type": "stream",
     "text": [
      "Enter a number 5\n"
     ]
    },
    {
     "name": "stdout",
     "output_type": "stream",
     "text": [
      "120\n"
     ]
    }
   ],
   "source": [
    "n=int(input(\"Enter a number\"))\n",
    "fact=1\n",
    "for i in range(1,n+1):\n",
    "    fact=fact*i\n",
    "    i+=1\n",
    "print(fact)"
   ]
  },
  {
   "cell_type": "code",
   "execution_count": 20,
   "id": "659dbe2a-a22a-48bf-acfa-16746500e3d3",
   "metadata": {},
   "outputs": [
    {
     "name": "stdout",
     "output_type": "stream",
     "text": [
      "enter the number 5\n"
     ]
    },
    {
     "name": "stdout",
     "output_type": "stream",
     "text": [
      "5\n",
      "10\n",
      "15\n",
      "20\n",
      "25\n",
      "30\n",
      "35\n",
      "40\n",
      "45\n",
      "50\n"
     ]
    }
   ],
   "source": [
    "n=int(input(\"enter the number\"))\n",
    "mul=1\n",
    "for i in range(1,11):\n",
    "    mul=n*i\n",
    "    print(mul)"
   ]
  },
  {
   "cell_type": "code",
   "execution_count": 25,
   "id": "01e8d73f-ace8-4f9e-803c-c3153ea8dcdd",
   "metadata": {},
   "outputs": [
    {
     "name": "stdout",
     "output_type": "stream",
     "text": [
      "Enter a number 09\n"
     ]
    },
    {
     "name": "stdout",
     "output_type": "stream",
     "text": [
      "9 :number is odd\n"
     ]
    }
   ],
   "source": [
    "number=int(input(\"Enter a number\"))\n",
    "if(number%2==0):\n",
    "    print(number,\": is even\")\n",
    "else:\n",
    "    print(number,\":number is odd\")"
   ]
  },
  {
   "cell_type": "code",
   "execution_count": 27,
   "id": "8ee9e0f9-24b6-4a4f-abe3-2210e12d91b0",
   "metadata": {},
   "outputs": [
    {
     "name": "stdout",
     "output_type": "stream",
     "text": [
      "1\n",
      "4\n",
      "9\n",
      "16\n",
      "25\n"
     ]
    }
   ],
   "source": [
    "for i in range(1,6):\n",
    "    i=i**2\n",
    "    print(i)"
   ]
  },
  {
   "cell_type": "code",
   "execution_count": 32,
   "id": "fb0065d7-e8df-4207-98de-2a1d7ee35918",
   "metadata": {},
   "outputs": [
    {
     "name": "stdout",
     "output_type": "stream",
     "text": [
      "8\n"
     ]
    }
   ],
   "source": [
    "string=\"Anirudha\"\n",
    "count=0\n",
    "for i in string:\n",
    "    count+=1\n",
    "print(count)"
   ]
  },
  {
   "cell_type": "code",
   "execution_count": 33,
   "id": "b69b5bd8-186d-4495-a8a9-bab4f9c3ac0e",
   "metadata": {},
   "outputs": [
    {
     "name": "stdout",
     "output_type": "stream",
     "text": [
      "51.0\n"
     ]
    }
   ],
   "source": [
    "list=[90,32,45,67,21]\n",
    "count=0\n",
    "sum=0\n",
    "avg=0.0\n",
    "for i in list:\n",
    "    count+=1\n",
    "    sum=sum+i\n",
    "    avg=sum/count\n",
    "print(avg)"
   ]
  },
  {
   "cell_type": "code",
   "execution_count": 42,
   "id": "98bc2647-8729-465b-9f73-4e65c6d0afc3",
   "metadata": {},
   "outputs": [
    {
     "name": "stdout",
     "output_type": "stream",
     "text": [
      "[0, 1, 1, 2, 3]\n"
     ]
    }
   ],
   "source": [
    "n=5\n",
    "fibo=[0,1]\n",
    "if(n==0):\n",
    "    print(0)\n",
    "elif(n==1):\n",
    "    print(1)\n",
    "else:\n",
    "    for i in range(2,n):\n",
    "        fibo.append(fibo[-1]+fibo[-2])\n",
    "print(fibo)"
   ]
  },
  {
   "cell_type": "code",
   "execution_count": 5,
   "id": "1f4454bc-90e1-4505-a6e7-914da4244fef",
   "metadata": {},
   "outputs": [
    {
     "name": "stdout",
     "output_type": "stream",
     "text": [
      "Anirudha\n"
     ]
    }
   ],
   "source": [
    "string=\"Ani rudha \"\n",
    "s=string.replace(\" \",\"\")\n",
    "print(s)"
   ]
  },
  {
   "cell_type": "code",
   "execution_count": 7,
   "id": "9da19702-790b-4901-b590-36db4d00fa7f",
   "metadata": {},
   "outputs": [
    {
     "name": "stdout",
     "output_type": "stream",
     "text": [
      "Enter a string: iammai\n"
     ]
    },
    {
     "name": "stdout",
     "output_type": "stream",
     "text": [
      "Parimdrom\n"
     ]
    }
   ],
   "source": [
    "string=input(\"Enter a string:\")\n",
    "rev_string=string[::-1]\n",
    "if(rev_string==string):\n",
    "    print(\"Parimdrom\")\n",
    "else:\n",
    "    print(\"Palimdrom not\")"
   ]
  },
  {
   "cell_type": "code",
   "execution_count": 9,
   "id": "b157bb24-1622-4b50-8ab5-cf281dd33374",
   "metadata": {},
   "outputs": [
    {
     "name": "stdout",
     "output_type": "stream",
     "text": [
      "duplicate\n"
     ]
    }
   ],
   "source": [
    "list=[1,2,3,4,5,5,3,2,5]\n",
    "my_list=set(list)\n",
    "if(len(list)!=len(my_list)):\n",
    "    print(\"duplicate\")\n",
    "else:\n",
    "    print(\"Not Duplicate\")"
   ]
  },
  {
   "cell_type": "code",
   "execution_count": 15,
   "id": "91d74f2e-2a28-4282-93c5-91721602e3d5",
   "metadata": {},
   "outputs": [
    {
     "name": "stdout",
     "output_type": "stream",
     "text": [
      "Duplicate\n"
     ]
    }
   ],
   "source": [
    "list=[1,2,3,2,1,5,6,7]\n",
    "duplicate=[]\n",
    "unduplicate=[]\n",
    "for i in list:\n",
    "    if i not in duplicate:\n",
    "        duplicate.append(i)\n",
    "    elif i not in unduplicate:\n",
    "        unduplicate.append(i)\n",
    "if(duplicate==unduplicate):\n",
    "    print(\"Not Duplicate\")\n",
    "else:\n",
    "    print(\"Duplicate\")"
   ]
  },
  {
   "cell_type": "code",
   "execution_count": 27,
   "id": "7a7892a0-e141-4e2f-9daf-d2934069b253",
   "metadata": {},
   "outputs": [
    {
     "name": "stdout",
     "output_type": "stream",
     "text": [
      "Enter a range: 9\n"
     ]
    },
    {
     "name": "stdout",
     "output_type": "stream",
     "text": [
      "2\n",
      "3\n",
      "5\n",
      "7\n"
     ]
    }
   ],
   "source": [
    "u=int(input(\"Enter a range:\"))\n",
    "for n in range(1,u+1):\n",
    "    if n>1:\n",
    "        for i in range(2,n):\n",
    "            if(n%i==0):\n",
    "                break\n",
    "        else:\n",
    "            print(n)"
   ]
  },
  {
   "cell_type": "code",
   "execution_count": 28,
   "id": "8fec5849-3dc0-4e06-8d93-d8d51e33d96d",
   "metadata": {},
   "outputs": [
    {
     "name": "stdout",
     "output_type": "stream",
     "text": [
      "6\n"
     ]
    }
   ],
   "source": [
    "string=\"AnirudhaGupta\"\n",
    "vowel=\"aeiouAEIOU\"\n",
    "count=sum(string.count(vowel) for vowel in vowel)\n",
    "print(count)"
   ]
  },
  {
   "cell_type": "code",
   "execution_count": 33,
   "id": "596fc1a9-7acf-4430-9470-9102e16875b2",
   "metadata": {},
   "outputs": [
    {
     "name": "stdout",
     "output_type": "stream",
     "text": [
      "6\n"
     ]
    }
   ],
   "source": [
    "string=\"AnirudhaGupta\"\n",
    "vowel=set(\"aeiouAEIOU\")\n",
    "count=0\n",
    "for alphabet in string:\n",
    "    if alphabet in vowel:\n",
    "        count+=1\n",
    "print(count)"
   ]
  },
  {
   "cell_type": "code",
   "execution_count": 39,
   "id": "71845a02-1697-4a9c-8a8b-6c47e54dbdd5",
   "metadata": {},
   "outputs": [
    {
     "name": "stdout",
     "output_type": "stream",
     "text": [
      "Enter a year 1780\n"
     ]
    },
    {
     "name": "stdout",
     "output_type": "stream",
     "text": [
      "leap year\n"
     ]
    }
   ],
   "source": [
    "year=int(input(\"Enter a year\"))\n",
    "if(year%100==0 and year%400==0):\n",
    "    print(\"leap year\")\n",
    "elif(year%100!=0 and year%4==0):\n",
    "    print(\"leap year\")\n",
    "else:\n",
    "    print(\"Not leap year\")"
   ]
  },
  {
   "cell_type": "code",
   "execution_count": 8,
   "id": "a5fc31dc-df96-416b-b371-061403e1446d",
   "metadata": {},
   "outputs": [
    {
     "name": "stdout",
     "output_type": "stream",
     "text": [
      "palimdrom\n"
     ]
    }
   ],
   "source": [
    "string=\"AniinA\"\n",
    "rev_string=[]\n",
    "for i in string[::-1]:\n",
    "    rev_string.append(i)\n",
    "str=''.join(rev_string)\n",
    "if(string!=str):\n",
    "    print(\"Not parimdrom\")\n",
    "else:\n",
    "    print(\"palimdrom\")"
   ]
  },
  {
   "cell_type": "code",
   "execution_count": 9,
   "id": "33634465-2208-4bab-bfe9-e5398f773e40",
   "metadata": {},
   "outputs": [
    {
     "name": "stdout",
     "output_type": "stream",
     "text": [
      "['A', 'n', 'i', 'r', 'u', 'd', 'h', 'a']\n"
     ]
    }
   ],
   "source": [
    "string=\"Anirudha\"\n",
    "x=list(string)\n",
    "print(x)"
   ]
  },
  {
   "cell_type": "code",
   "execution_count": 18,
   "id": "748a8311",
   "metadata": {},
   "outputs": [
    {
     "name": "stdout",
     "output_type": "stream",
     "text": [
      "[10, 20, 20, 20]\n",
      "Duplicate element is: 20 Count of Duplicates are: 1\n"
     ]
    }
   ],
   "source": [
    "arr=[10,20,20,5,10,8,20,20]\n",
    "duplicate_arr=[]\n",
    "n=len(arr)\n",
    "for i in range(n):\n",
    "    for j in range(i+1,n-1):\n",
    "        if (arr[i]==arr[j]):\n",
    "            duplicate_arr.append(arr[i])\n",
    "print(duplicate_arr)\n",
    "m=len(duplicate_arr)\n",
    "for i in range(m):\n",
    "    count=0\n",
    "    for j in range(i+1,m-1):\n",
    "        if(duplicate_arr[i]==duplicate_arr[j]):\n",
    "            count=count+1\n",
    "        if(count>=1):\n",
    "            print(\"Duplicate element is:\",duplicate_arr[j],\"Count of Duplicates are:\",count)"
   ]
  },
  {
   "cell_type": "code",
   "execution_count": null,
   "id": "7b9bf86b",
   "metadata": {},
   "outputs": [],
   "source": []
  },
  {
   "cell_type": "code",
   "execution_count": null,
   "id": "6fdb76ff",
   "metadata": {},
   "outputs": [],
   "source": []
  }
 ],
 "metadata": {
  "kernelspec": {
   "display_name": "Python 3 (ipykernel)",
   "language": "python",
   "name": "python3"
  },
  "language_info": {
   "codemirror_mode": {
    "name": "ipython",
    "version": 3
   },
   "file_extension": ".py",
   "mimetype": "text/x-python",
   "name": "python",
   "nbconvert_exporter": "python",
   "pygments_lexer": "ipython3",
   "version": "3.12.2"
  },
  "widgets": {
   "application/vnd.jupyter.widget-state+json": {
    "state": {},
    "version_major": 2,
    "version_minor": 0
   }
  }
 },
 "nbformat": 4,
 "nbformat_minor": 5
}
