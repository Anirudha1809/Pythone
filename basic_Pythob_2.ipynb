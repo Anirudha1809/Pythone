{
 "cells": [
  {
   "cell_type": "code",
   "execution_count": 1,
   "id": "7b877605-af30-40d3-a315-8ee0cf02e8e1",
   "metadata": {},
   "outputs": [
    {
     "name": "stdout",
     "output_type": "stream",
     "text": [
      "('Spain', 'Italy', 'Finland', 'Germany', 'Russia')\n"
     ]
    }
   ],
   "source": [
    "countries = (\"Spain\", \"Italy\", \"India\", \"England\", \"Germany\")\n",
    "temp = list(countries)\n",
    "temp.append(\"Russia\")       #add item \n",
    "temp.pop(3)                 #remove item\n",
    "temp[2] = \"Finland\"         #change item\n",
    "countries = tuple(temp)\n",
    "print(countries)"
   ]
  },
  {
   "cell_type": "code",
   "execution_count": 2,
   "id": "9e6d3b5f-ce38-4577-8928-4653d85af636",
   "metadata": {},
   "outputs": [
    {
     "name": "stdout",
     "output_type": "stream",
     "text": [
      "('Spain', 'Italy', 'India', 'England', 'Germany')\n"
     ]
    }
   ],
   "source": [
    "countries = (\"Spain\", \"Italy\", \"India\", \"England\", \"Germany\")\n",
    "temp = list(countries)\n",
    "temp.append(\"Russia\")       #add item \n",
    "print(countries)"
   ]
  },
  {
   "cell_type": "code",
   "execution_count": 3,
   "id": "75c1f756-a797-446f-9f75-ad242400bef7",
   "metadata": {},
   "outputs": [
    {
     "name": "stdout",
     "output_type": "stream",
     "text": [
      "('Spain', 'Italy', 'India', 'England', 'Germany', 'Russia')\n"
     ]
    }
   ],
   "source": [
    "countries = (\"Spain\", \"Italy\", \"India\", \"England\", \"Germany\")\n",
    "temp = list(countries)\n",
    "temp.append(\"Russia\")         #change item\n",
    "countries = tuple(temp)\n",
    "print(countries)"
   ]
  },
  {
   "cell_type": "code",
   "execution_count": 4,
   "id": "8ee9b9c9-4273-4280-8c40-ac4f13628e16",
   "metadata": {},
   "outputs": [
    {
     "name": "stdout",
     "output_type": "stream",
     "text": [
      "('Spain', 'Italy', 'India', 'Germany', 'Russia')\n"
     ]
    }
   ],
   "source": [
    "countries = (\"Spain\", \"Italy\", \"India\", \"England\", \"Germany\")\n",
    "temp = list(countries)\n",
    "temp.append(\"Russia\")       #add item \n",
    "temp.pop(3)                 #remove item\n",
    "#temp[2] = \"Finland\"         #change item\n",
    "countries = tuple(temp)\n",
    "print(countries)"
   ]
  },
  {
   "cell_type": "code",
   "execution_count": 5,
   "id": "4c966074-3189-454e-8f67-4648c7d42933",
   "metadata": {},
   "outputs": [
    {
     "name": "stdout",
     "output_type": "stream",
     "text": [
      "('Spain', 'Italy', 'Finland', 'Germany', 'Russia')\n"
     ]
    }
   ],
   "source": [
    "countries = (\"Spain\", \"Italy\", \"India\", \"England\", \"Germany\")\n",
    "temp = list(countries)\n",
    "temp.append(\"Russia\")       #add item \n",
    "temp.pop(3)                 #remove item\n",
    "temp[2] = \"Finland\"         #change item\n",
    "countries = tuple(temp)\n",
    "print(countries)"
   ]
  },
  {
   "cell_type": "code",
   "execution_count": 6,
   "id": "ebef173b-4d58-4705-b1af-1c58d9300d04",
   "metadata": {},
   "outputs": [],
   "source": [
    "l=[]"
   ]
  },
  {
   "cell_type": "code",
   "execution_count": 7,
   "id": "d893e424-bee1-4599-8769-26969938faf6",
   "metadata": {},
   "outputs": [
    {
     "data": {
      "text/plain": [
       "list"
      ]
     },
     "execution_count": 7,
     "metadata": {},
     "output_type": "execute_result"
    }
   ],
   "source": [
    "type(l)"
   ]
  },
  {
   "cell_type": "code",
   "execution_count": 10,
   "id": "98e45559-594b-458d-8be7-1c52f9e9c051",
   "metadata": {},
   "outputs": [],
   "source": [
    "l1 =[1,2,3,4,5,'Anirudha',6+9j,3365.365,True,[1,2,3,4]]"
   ]
  },
  {
   "cell_type": "code",
   "execution_count": 11,
   "id": "71c4644b-5e24-45ef-8dc4-3eaec8e21691",
   "metadata": {},
   "outputs": [
    {
     "data": {
      "text/plain": [
       "[1, 2, 3, 4, 5, 'Anirudha', (6+9j), 3365.365, True, [1, 2, 3, 4]]"
      ]
     },
     "execution_count": 11,
     "metadata": {},
     "output_type": "execute_result"
    }
   ],
   "source": [
    "l1\n"
   ]
  },
  {
   "cell_type": "code",
   "execution_count": 12,
   "id": "c5968e61-9606-4b7c-92ac-1bd9e4e6f423",
   "metadata": {},
   "outputs": [
    {
     "data": {
      "text/plain": [
       "list"
      ]
     },
     "execution_count": 12,
     "metadata": {},
     "output_type": "execute_result"
    }
   ],
   "source": [
    "type(l1)"
   ]
  },
  {
   "cell_type": "code",
   "execution_count": 14,
   "id": "3e1fa0ec-a246-4fe6-b3cf-ccc5055b5575",
   "metadata": {},
   "outputs": [
    {
     "ename": "NameError",
     "evalue": "name 'pop' is not defined",
     "output_type": "error",
     "traceback": [
      "\u001b[1;31m---------------------------------------------------------------------------\u001b[0m",
      "\u001b[1;31mNameError\u001b[0m                                 Traceback (most recent call last)",
      "Cell \u001b[1;32mIn[14], line 1\u001b[0m\n\u001b[1;32m----> 1\u001b[0m \u001b[43mpop\u001b[49m\u001b[38;5;241m.\u001b[39ml1[\u001b[38;5;241m4\u001b[39m]\n",
      "\u001b[1;31mNameError\u001b[0m: name 'pop' is not defined"
     ]
    }
   ],
   "source": [
    "pop.l1[4]"
   ]
  },
  {
   "cell_type": "code",
   "execution_count": 16,
   "id": "e5a81a7c-59e1-47d6-8bc2-4455644b5737",
   "metadata": {},
   "outputs": [
    {
     "data": {
      "text/plain": [
       "'Anirudha'"
      ]
     },
     "execution_count": 16,
     "metadata": {},
     "output_type": "execute_result"
    }
   ],
   "source": [
    "l1[5]"
   ]
  },
  {
   "cell_type": "code",
   "execution_count": 18,
   "id": "6ffa77e0-6080-4477-bfc9-5c89621305ac",
   "metadata": {},
   "outputs": [
    {
     "data": {
      "text/plain": [
       "4"
      ]
     },
     "execution_count": 18,
     "metadata": {},
     "output_type": "execute_result"
    }
   ],
   "source": [
    "l1[9][3]"
   ]
  },
  {
   "cell_type": "code",
   "execution_count": 19,
   "id": "bb8c82ec-37f5-440e-90f4-73f21ee96fda",
   "metadata": {},
   "outputs": [
    {
     "data": {
      "text/plain": [
       "[1, 2, 3, 4, 5]"
      ]
     },
     "execution_count": 19,
     "metadata": {},
     "output_type": "execute_result"
    }
   ],
   "source": [
    "l1[0:5:1]"
   ]
  },
  {
   "cell_type": "code",
   "execution_count": 20,
   "id": "2b0d15c4-0b6d-4c5e-91a3-b91364436574",
   "metadata": {},
   "outputs": [
    {
     "data": {
      "text/plain": [
       "[[1, 2, 3, 4], True, 3365.365, (6+9j), 'Anirudha', 5, 4, 3, 2, 1]"
      ]
     },
     "execution_count": 20,
     "metadata": {},
     "output_type": "execute_result"
    }
   ],
   "source": [
    "l1[9::-1]"
   ]
  },
  {
   "cell_type": "code",
   "execution_count": 21,
   "id": "634311ab-6713-4544-89ad-ce71d0afb774",
   "metadata": {},
   "outputs": [],
   "source": [
    "l2=['college','SIT','Siliguri']"
   ]
  },
  {
   "cell_type": "code",
   "execution_count": 22,
   "id": "b85a00e2-2423-49d1-871d-bb5ffec78358",
   "metadata": {},
   "outputs": [
    {
     "data": {
      "text/plain": [
       "[1,\n",
       " 2,\n",
       " 3,\n",
       " 4,\n",
       " 5,\n",
       " 'Anirudha',\n",
       " (6+9j),\n",
       " 3365.365,\n",
       " True,\n",
       " [1, 2, 3, 4],\n",
       " 'college',\n",
       " 'SIT',\n",
       " 'Siliguri']"
      ]
     },
     "execution_count": 22,
     "metadata": {},
     "output_type": "execute_result"
    }
   ],
   "source": [
    "l1+l2"
   ]
  },
  {
   "cell_type": "code",
   "execution_count": 23,
   "id": "a0f43ff1-d61d-4c75-bed3-33dc51375e32",
   "metadata": {},
   "outputs": [
    {
     "data": {
      "text/plain": [
       "['college',\n",
       " 'SIT',\n",
       " 'Siliguri',\n",
       " 1,\n",
       " 2,\n",
       " 3,\n",
       " 4,\n",
       " 5,\n",
       " 'Anirudha',\n",
       " (6+9j),\n",
       " 3365.365,\n",
       " True,\n",
       " [1, 2, 3, 4]]"
      ]
     },
     "execution_count": 23,
     "metadata": {},
     "output_type": "execute_result"
    }
   ],
   "source": [
    "l2+l1"
   ]
  },
  {
   "cell_type": "code",
   "execution_count": 24,
   "id": "ff6d1873-f933-4547-80fd-ad8fac5fa406",
   "metadata": {},
   "outputs": [
    {
     "data": {
      "text/plain": [
       "['A', 'n', 'i']"
      ]
     },
     "execution_count": 24,
     "metadata": {},
     "output_type": "execute_result"
    }
   ],
   "source": [
    "list(\"Ani\")"
   ]
  },
  {
   "cell_type": "code",
   "execution_count": 25,
   "id": "a326ad72-7fc6-4f21-a843-b16a696bd452",
   "metadata": {},
   "outputs": [
    {
     "ename": "TypeError",
     "evalue": "can only concatenate list (not \"type\") to list",
     "output_type": "error",
     "traceback": [
      "\u001b[1;31m---------------------------------------------------------------------------\u001b[0m",
      "\u001b[1;31mTypeError\u001b[0m                                 Traceback (most recent call last)",
      "Cell \u001b[1;32mIn[25], line 1\u001b[0m\n\u001b[1;32m----> 1\u001b[0m \u001b[43ml1\u001b[49m\u001b[38;5;241;43m+\u001b[39;49m\u001b[38;5;28;43mlist\u001b[39;49m\n",
      "\u001b[1;31mTypeError\u001b[0m: can only concatenate list (not \"type\") to list"
     ]
    }
   ],
   "source": [
    "l1+list"
   ]
  },
  {
   "cell_type": "code",
   "execution_count": 26,
   "id": "0e70688d-9303-4100-aa83-70ae76a6761c",
   "metadata": {},
   "outputs": [
    {
     "data": {
      "text/plain": [
       "['college', 'SIT', 'Siliguri', 'college', 'SIT', 'Siliguri']"
      ]
     },
     "execution_count": 26,
     "metadata": {},
     "output_type": "execute_result"
    }
   ],
   "source": [
    "l2*2"
   ]
  },
  {
   "cell_type": "code",
   "execution_count": 27,
   "id": "d1dd01a9-79b3-4a0a-8612-878d6e4919f7",
   "metadata": {},
   "outputs": [
    {
     "ename": "TypeError",
     "evalue": "unsupported operand type(s) for /: 'list' and 'int'",
     "output_type": "error",
     "traceback": [
      "\u001b[1;31m---------------------------------------------------------------------------\u001b[0m",
      "\u001b[1;31mTypeError\u001b[0m                                 Traceback (most recent call last)",
      "Cell \u001b[1;32mIn[27], line 1\u001b[0m\n\u001b[1;32m----> 1\u001b[0m \u001b[43ml2\u001b[49m\u001b[38;5;241;43m/\u001b[39;49m\u001b[38;5;241;43m2\u001b[39;49m\n",
      "\u001b[1;31mTypeError\u001b[0m: unsupported operand type(s) for /: 'list' and 'int'"
     ]
    }
   ],
   "source": [
    "l2/2"
   ]
  },
  {
   "cell_type": "code",
   "execution_count": 28,
   "id": "b89f8bb7-d3a8-4032-af2e-e019b73913d6",
   "metadata": {},
   "outputs": [
    {
     "data": {
      "text/plain": [
       "'college'"
      ]
     },
     "execution_count": 28,
     "metadata": {},
     "output_type": "execute_result"
    }
   ],
   "source": [
    "l2[0]"
   ]
  },
  {
   "cell_type": "code",
   "execution_count": 29,
   "id": "03322d30-ef2b-498f-87ac-fe28cf3feeef",
   "metadata": {},
   "outputs": [
    {
     "ename": "TypeError",
     "evalue": "'builtin_function_or_method' object does not support item assignment",
     "output_type": "error",
     "traceback": [
      "\u001b[1;31m---------------------------------------------------------------------------\u001b[0m",
      "\u001b[1;31mTypeError\u001b[0m                                 Traceback (most recent call last)",
      "Cell \u001b[1;32mIn[29], line 1\u001b[0m\n\u001b[1;32m----> 1\u001b[0m \u001b[43ml2\u001b[49m\u001b[38;5;241;43m.\u001b[39;49m\u001b[43mappend\u001b[49m\u001b[43m[\u001b[49m\u001b[38;5;241;43m2\u001b[39;49m\u001b[43m]\u001b[49m\u001b[38;5;241m=\u001b[39m\u001b[38;5;124m'\u001b[39m\u001b[38;5;124mMalda\u001b[39m\u001b[38;5;124m'\u001b[39m\n",
      "\u001b[1;31mTypeError\u001b[0m: 'builtin_function_or_method' object does not support item assignment"
     ]
    }
   ],
   "source": [
    "l2.append[2]='Malda'"
   ]
  },
  {
   "cell_type": "code",
   "execution_count": 30,
   "id": "90c1c7dc-864d-4162-ad9a-fe0249dd1bb4",
   "metadata": {},
   "outputs": [],
   "source": [
    "l2[2]='Malda'"
   ]
  },
  {
   "cell_type": "code",
   "execution_count": 31,
   "id": "5a35805b-9779-4ea5-a97e-eb54dff555eb",
   "metadata": {},
   "outputs": [
    {
     "data": {
      "text/plain": [
       "['college', 'SIT', 'Malda']"
      ]
     },
     "execution_count": 31,
     "metadata": {},
     "output_type": "execute_result"
    }
   ],
   "source": [
    "l2"
   ]
  },
  {
   "cell_type": "code",
   "execution_count": 50,
   "id": "b263b479-afe0-4c56-b3c4-c459e8bb7dc7",
   "metadata": {},
   "outputs": [],
   "source": [
    "t0 =('anirudha',1,2,3,4,5)"
   ]
  },
  {
   "cell_type": "code",
   "execution_count": 47,
   "id": "f0f7dba5-95ea-4ede-a712-1ab7c0ddc10d",
   "metadata": {},
   "outputs": [
    {
     "data": {
      "text/plain": [
       "tuple"
      ]
     },
     "execution_count": 47,
     "metadata": {},
     "output_type": "execute_result"
    }
   ],
   "source": [
    "type(t1)"
   ]
  },
  {
   "cell_type": "code",
   "execution_count": 39,
   "id": "f20b912a-f4ee-44c1-921f-f7507c638757",
   "metadata": {},
   "outputs": [
    {
     "ename": "TypeError",
     "evalue": "'tuple' object is not callable",
     "output_type": "error",
     "traceback": [
      "\u001b[1;31m---------------------------------------------------------------------------\u001b[0m",
      "\u001b[1;31mTypeError\u001b[0m                                 Traceback (most recent call last)",
      "Cell \u001b[1;32mIn[39], line 1\u001b[0m\n\u001b[1;32m----> 1\u001b[0m \u001b[38;5;28;43mtuple\u001b[39;49m\u001b[43m(\u001b[49m\u001b[38;5;241;43m0\u001b[39;49m\u001b[43m)\u001b[49m\u001b[38;5;241m==\u001b[39m\u001b[38;5;124m\"\u001b[39m\u001b[38;5;124mAni\u001b[39m\u001b[38;5;124m\"\u001b[39m\n",
      "\u001b[1;31mTypeError\u001b[0m: 'tuple' object is not callable"
     ]
    }
   ],
   "source": [
    "tuple(0)==\"Ani\""
   ]
  },
  {
   "cell_type": "code",
   "execution_count": 48,
   "id": "5c6397a1-aec9-4ef0-8b3a-6b5f61d8e9af",
   "metadata": {},
   "outputs": [],
   "source": [
    "t1=(1,2,3,4,5,6,7,8,9)"
   ]
  },
  {
   "cell_type": "code",
   "execution_count": 51,
   "id": "0494d82e-9256-4992-886e-d2b4badda2d2",
   "metadata": {},
   "outputs": [
    {
     "data": {
      "text/plain": [
       "('anirudha', 1, 2, 3, 4, 5, 1, 2, 3, 4, 5, 6, 7, 8, 9)"
      ]
     },
     "execution_count": 51,
     "metadata": {},
     "output_type": "execute_result"
    }
   ],
   "source": [
    "t0+t1"
   ]
  },
  {
   "cell_type": "code",
   "execution_count": 52,
   "id": "0fedceeb-fa7f-440a-bb86-f68e2dcaa525",
   "metadata": {},
   "outputs": [
    {
     "data": {
      "text/plain": [
       "(1, 2, 3, 4, 5, 6, 7, 8, 9, 1, 2, 3, 4, 5, 6, 7, 8, 9)"
      ]
     },
     "execution_count": 52,
     "metadata": {},
     "output_type": "execute_result"
    }
   ],
   "source": [
    "t1*2"
   ]
  },
  {
   "cell_type": "code",
   "execution_count": 53,
   "id": "65203c5a-bed2-4328-89ed-c7a242d9861e",
   "metadata": {},
   "outputs": [
    {
     "data": {
      "text/plain": [
       "[1, 2, 3, 4, 5, 6, 7, 8, 9]"
      ]
     },
     "execution_count": 53,
     "metadata": {},
     "output_type": "execute_result"
    }
   ],
   "source": [
    "list(t1)"
   ]
  },
  {
   "cell_type": "code",
   "execution_count": 55,
   "id": "ea926f9b-532f-46a7-b70a-80aec84d0ad2",
   "metadata": {},
   "outputs": [
    {
     "data": {
      "text/plain": [
       "6"
      ]
     },
     "execution_count": 55,
     "metadata": {},
     "output_type": "execute_result"
    }
   ],
   "source": [
    "len(t0)"
   ]
  },
  {
   "cell_type": "code",
   "execution_count": 57,
   "id": "16e3b0a3-062c-484a-af01-4bf867dc7485",
   "metadata": {},
   "outputs": [
    {
     "data": {
      "text/plain": [
       "3"
      ]
     },
     "execution_count": 57,
     "metadata": {},
     "output_type": "execute_result"
    }
   ],
   "source": [
    "len(l2)"
   ]
  },
  {
   "cell_type": "code",
   "execution_count": 58,
   "id": "8fb9d24c-c70c-4852-8d58-211748e37381",
   "metadata": {},
   "outputs": [
    {
     "data": {
      "text/plain": [
       "[1, 2, 3, 4, 5, 'Anirudha', (6+9j), 3365.365, True, [1, 2, 3, 4]]"
      ]
     },
     "execution_count": 58,
     "metadata": {},
     "output_type": "execute_result"
    }
   ],
   "source": [
    "l1"
   ]
  },
  {
   "cell_type": "code",
   "execution_count": 59,
   "id": "dcb01e5b-ee69-44d1-857d-158623798aca",
   "metadata": {},
   "outputs": [
    {
     "data": {
      "text/plain": [
       "['college', 'SIT', 'Malda']"
      ]
     },
     "execution_count": 59,
     "metadata": {},
     "output_type": "execute_result"
    }
   ],
   "source": [
    "l2"
   ]
  },
  {
   "cell_type": "code",
   "execution_count": 60,
   "id": "54727431-1c1e-47ac-a7cb-da8647d8572c",
   "metadata": {},
   "outputs": [
    {
     "ename": "TypeError",
     "evalue": "'tuple' object is not callable",
     "output_type": "error",
     "traceback": [
      "\u001b[1;31m---------------------------------------------------------------------------\u001b[0m",
      "\u001b[1;31mTypeError\u001b[0m                                 Traceback (most recent call last)",
      "Cell \u001b[1;32mIn[60], line 1\u001b[0m\n\u001b[1;32m----> 1\u001b[0m \u001b[38;5;28;43mtuple\u001b[39;49m\u001b[43m(\u001b[49m\u001b[43mt0\u001b[49m\u001b[43m)\u001b[49m\n",
      "\u001b[1;31mTypeError\u001b[0m: 'tuple' object is not callable"
     ]
    }
   ],
   "source": [
    "tuple(t0)"
   ]
  },
  {
   "cell_type": "code",
   "execution_count": 62,
   "id": "2bc0d509-bc94-4d75-855e-0958b6dc1808",
   "metadata": {},
   "outputs": [
    {
     "ename": "TypeError",
     "evalue": "'tuple' object is not callable",
     "output_type": "error",
     "traceback": [
      "\u001b[1;31m---------------------------------------------------------------------------\u001b[0m",
      "\u001b[1;31mTypeError\u001b[0m                                 Traceback (most recent call last)",
      "Cell \u001b[1;32mIn[62], line 1\u001b[0m\n\u001b[1;32m----> 1\u001b[0m \u001b[38;5;28;43mtuple\u001b[39;49m\u001b[43m(\u001b[49m\u001b[43ml1\u001b[49m\u001b[43m)\u001b[49m\n",
      "\u001b[1;31mTypeError\u001b[0m: 'tuple' object is not callable"
     ]
    }
   ],
   "source": [
    "tuple(l1)"
   ]
  },
  {
   "cell_type": "code",
   "execution_count": 63,
   "id": "3cb58caa-7307-4c49-807a-6c5f249d53bc",
   "metadata": {},
   "outputs": [],
   "source": [
    "s ={}"
   ]
  },
  {
   "cell_type": "code",
   "execution_count": 64,
   "id": "ef6c7572-9398-4e38-8772-d24067cd1313",
   "metadata": {},
   "outputs": [
    {
     "data": {
      "text/plain": [
       "dict"
      ]
     },
     "execution_count": 64,
     "metadata": {},
     "output_type": "execute_result"
    }
   ],
   "source": [
    "type(s)"
   ]
  },
  {
   "cell_type": "code",
   "execution_count": 68,
   "id": "265fb6cf-b6dc-4492-9ea8-a6c91f778f40",
   "metadata": {},
   "outputs": [],
   "source": [
    "s1 = {1,2,3,4,5,5}"
   ]
  },
  {
   "cell_type": "code",
   "execution_count": 69,
   "id": "2d46ae2d-14d6-4b28-8192-915ab64caf2d",
   "metadata": {},
   "outputs": [
    {
     "data": {
      "text/plain": [
       "set"
      ]
     },
     "execution_count": 69,
     "metadata": {},
     "output_type": "execute_result"
    }
   ],
   "source": [
    "type(s1)"
   ]
  },
  {
   "cell_type": "code",
   "execution_count": 70,
   "id": "1b3ccc67-be7f-42eb-b169-ab44d52200dd",
   "metadata": {},
   "outputs": [
    {
     "data": {
      "text/plain": [
       "{1, 2, 3, 4, 5}"
      ]
     },
     "execution_count": 70,
     "metadata": {},
     "output_type": "execute_result"
    }
   ],
   "source": [
    "s1\n"
   ]
  },
  {
   "cell_type": "code",
   "execution_count": 3,
   "id": "06fb9f0c-17b1-4c64-8cd6-483590d39774",
   "metadata": {},
   "outputs": [
    {
     "ename": "NameError",
     "evalue": "name 't1' is not defined",
     "output_type": "error",
     "traceback": [
      "\u001b[1;31m---------------------------------------------------------------------------\u001b[0m",
      "\u001b[1;31mNameError\u001b[0m                                 Traceback (most recent call last)",
      "Cell \u001b[1;32mIn[3], line 1\u001b[0m\n\u001b[1;32m----> 1\u001b[0m \u001b[43mt1\u001b[49m(\u001b[38;5;241m1\u001b[39m,\u001b[38;5;241m2\u001b[39m,\u001b[38;5;241m3\u001b[39m)\n",
      "\u001b[1;31mNameError\u001b[0m: name 't1' is not defined"
     ]
    }
   ],
   "source": [
    "t1(1,2,3)"
   ]
  },
  {
   "cell_type": "code",
   "execution_count": 1,
   "id": "9b4f6306-1f67-4ed7-90c9-ed15627c6a16",
   "metadata": {},
   "outputs": [
    {
     "ename": "NameError",
     "evalue": "name 'l1' is not defined",
     "output_type": "error",
     "traceback": [
      "\u001b[1;31m---------------------------------------------------------------------------\u001b[0m",
      "\u001b[1;31mNameError\u001b[0m                                 Traceback (most recent call last)",
      "Cell \u001b[1;32mIn[1], line 1\u001b[0m\n\u001b[1;32m----> 1\u001b[0m \u001b[43ml1\u001b[49m\n",
      "\u001b[1;31mNameError\u001b[0m: name 'l1' is not defined"
     ]
    }
   ],
   "source": [
    "l1"
   ]
  },
  {
   "cell_type": "code",
   "execution_count": 3,
   "id": "1af05fa0-9c14-4b45-a8fb-7540a789528a",
   "metadata": {},
   "outputs": [],
   "source": [
    "l1=[1,2,3,4,5,6,[1,2,3,4]]"
   ]
  },
  {
   "cell_type": "code",
   "execution_count": 4,
   "id": "95ff11aa-c317-40b7-8b3f-cb8b6aaac298",
   "metadata": {},
   "outputs": [
    {
     "ename": "TypeError",
     "evalue": "unhashable type: 'list'",
     "output_type": "error",
     "traceback": [
      "\u001b[1;31m---------------------------------------------------------------------------\u001b[0m",
      "\u001b[1;31mTypeError\u001b[0m                                 Traceback (most recent call last)",
      "Cell \u001b[1;32mIn[4], line 1\u001b[0m\n\u001b[1;32m----> 1\u001b[0m \u001b[38;5;28;43mset\u001b[39;49m\u001b[43m(\u001b[49m\u001b[43ml1\u001b[49m\u001b[43m)\u001b[49m\n",
      "\u001b[1;31mTypeError\u001b[0m: unhashable type: 'list'"
     ]
    }
   ],
   "source": [
    "set(l1)"
   ]
  },
  {
   "cell_type": "code",
   "execution_count": 5,
   "id": "b85f441a-6a59-4411-adf5-4fcb73bd7b2c",
   "metadata": {},
   "outputs": [],
   "source": [
    "s1={1,2,3,'Ani','Ani',6,7,8,8}"
   ]
  },
  {
   "cell_type": "code",
   "execution_count": 6,
   "id": "b4264f8b-caab-48f6-a8db-89fd8756da40",
   "metadata": {},
   "outputs": [
    {
     "data": {
      "text/plain": [
       "{1, 2, 3, 6, 7, 8, 'Ani'}"
      ]
     },
     "execution_count": 6,
     "metadata": {},
     "output_type": "execute_result"
    }
   ],
   "source": [
    "s1"
   ]
  },
  {
   "cell_type": "code",
   "execution_count": 8,
   "id": "72a39642-2885-4144-97f8-048df10de5bc",
   "metadata": {},
   "outputs": [
    {
     "data": {
      "text/plain": [
       "(1, 2, 3, 6, 7, 8, 'Ani')"
      ]
     },
     "execution_count": 8,
     "metadata": {},
     "output_type": "execute_result"
    }
   ],
   "source": [
    "tuple(s1)"
   ]
  },
  {
   "cell_type": "code",
   "execution_count": 10,
   "id": "d0406691-9c39-4b91-8885-6ea130564fe2",
   "metadata": {},
   "outputs": [
    {
     "data": {
      "text/plain": [
       "{1, 2, 3, 6, 7, 8, 'Ani'}"
      ]
     },
     "execution_count": 10,
     "metadata": {},
     "output_type": "execute_result"
    }
   ],
   "source": [
    "s1\n"
   ]
  },
  {
   "cell_type": "markdown",
   "id": "b0b4bf84-dda7-4d36-9b55-a8f5c9dd4079",
   "metadata": {},
   "source": [
    "s1[3]"
   ]
  },
  {
   "cell_type": "code",
   "execution_count": 11,
   "id": "a06e5491-4a7f-4bd5-b80d-13818da3adee",
   "metadata": {},
   "outputs": [
    {
     "ename": "TypeError",
     "evalue": "'set' object is not subscriptable",
     "output_type": "error",
     "traceback": [
      "\u001b[1;31m---------------------------------------------------------------------------\u001b[0m",
      "\u001b[1;31mTypeError\u001b[0m                                 Traceback (most recent call last)",
      "Cell \u001b[1;32mIn[11], line 1\u001b[0m\n\u001b[1;32m----> 1\u001b[0m \u001b[43ms1\u001b[49m\u001b[43m[\u001b[49m\u001b[38;5;241;43m3\u001b[39;49m\u001b[43m]\u001b[49m\n",
      "\u001b[1;31mTypeError\u001b[0m: 'set' object is not subscriptable"
     ]
    }
   ],
   "source": [
    "s1[3]"
   ]
  },
  {
   "cell_type": "code",
   "execution_count": 16,
   "id": "06ce0f78-889e-42ce-bdd1-fc08d8bcb6f4",
   "metadata": {},
   "outputs": [
    {
     "data": {
      "text/plain": [
       "False"
      ]
     },
     "execution_count": 16,
     "metadata": {},
     "output_type": "execute_result"
    }
   ],
   "source": [
    "tuple(s1)==(1,2)"
   ]
  },
  {
   "cell_type": "code",
   "execution_count": 13,
   "id": "13ac831a-65a5-45d8-8e25-55f84fecea4d",
   "metadata": {},
   "outputs": [
    {
     "ename": "TypeError",
     "evalue": "'set' object is not subscriptable",
     "output_type": "error",
     "traceback": [
      "\u001b[1;31m---------------------------------------------------------------------------\u001b[0m",
      "\u001b[1;31mTypeError\u001b[0m                                 Traceback (most recent call last)",
      "Cell \u001b[1;32mIn[13], line 1\u001b[0m\n\u001b[1;32m----> 1\u001b[0m \u001b[43ms1\u001b[49m\u001b[43m[\u001b[49m\u001b[38;5;241;43m1\u001b[39;49m\u001b[43m]\u001b[49m\n",
      "\u001b[1;31mTypeError\u001b[0m: 'set' object is not subscriptable"
     ]
    }
   ],
   "source": [
    "s1[1]"
   ]
  },
  {
   "cell_type": "code",
   "execution_count": 14,
   "id": "fc10afc4-0e0f-4618-9d42-2e785c8a08af",
   "metadata": {},
   "outputs": [
    {
     "data": {
      "text/plain": [
       "set"
      ]
     },
     "execution_count": 14,
     "metadata": {},
     "output_type": "execute_result"
    }
   ],
   "source": [
    "type(s1)"
   ]
  },
  {
   "cell_type": "code",
   "execution_count": 17,
   "id": "f0572d7c-88be-478e-b0a3-c8dc5f7fe01c",
   "metadata": {},
   "outputs": [],
   "source": [
    "l1=[1,2,3,4,5,6,['set','tuple']]"
   ]
  },
  {
   "cell_type": "code",
   "execution_count": 18,
   "id": "60c2812c-2902-4db9-9ea3-bb667d06c09f",
   "metadata": {},
   "outputs": [
    {
     "data": {
      "text/plain": [
       "[1, 2, 3, 4, 5, 6, ['set', 'tuple']]"
      ]
     },
     "execution_count": 18,
     "metadata": {},
     "output_type": "execute_result"
    }
   ],
   "source": [
    "l1"
   ]
  },
  {
   "cell_type": "code",
   "execution_count": 19,
   "id": "4c51f76c-4031-4684-8768-f39ef06be3ec",
   "metadata": {},
   "outputs": [
    {
     "data": {
      "text/plain": [
       "(1, 2, 3, 4, 5, 6, ['set', 'tuple'])"
      ]
     },
     "execution_count": 19,
     "metadata": {},
     "output_type": "execute_result"
    }
   ],
   "source": [
    "tuple(l1)"
   ]
  },
  {
   "cell_type": "code",
   "execution_count": 20,
   "id": "9097a05a-4f14-43bf-91d0-b977295dd573",
   "metadata": {},
   "outputs": [
    {
     "ename": "TypeError",
     "evalue": "unhashable type: 'list'",
     "output_type": "error",
     "traceback": [
      "\u001b[1;31m---------------------------------------------------------------------------\u001b[0m",
      "\u001b[1;31mTypeError\u001b[0m                                 Traceback (most recent call last)",
      "Cell \u001b[1;32mIn[20], line 1\u001b[0m\n\u001b[1;32m----> 1\u001b[0m \u001b[38;5;28;43mset\u001b[39;49m\u001b[43m(\u001b[49m\u001b[43ml1\u001b[49m\u001b[43m)\u001b[49m\n",
      "\u001b[1;31mTypeError\u001b[0m: unhashable type: 'list'"
     ]
    }
   ],
   "source": [
    "set(l1)"
   ]
  },
  {
   "cell_type": "code",
   "execution_count": 21,
   "id": "8122ca69-2f10-450f-bb32-7fd1877c00e4",
   "metadata": {},
   "outputs": [],
   "source": [
    "t1=(1,2,3,4,5,6,7,8,['Ani'])\n"
   ]
  },
  {
   "cell_type": "code",
   "execution_count": 22,
   "id": "2c1b5b47-b0eb-4538-a32a-c1cdab8862bd",
   "metadata": {},
   "outputs": [
    {
     "data": {
      "text/plain": [
       "tuple"
      ]
     },
     "execution_count": 22,
     "metadata": {},
     "output_type": "execute_result"
    }
   ],
   "source": [
    "type(t1)"
   ]
  },
  {
   "cell_type": "code",
   "execution_count": 24,
   "id": "c5d4987c-5cd3-45c9-abe7-548af957bbde",
   "metadata": {},
   "outputs": [
    {
     "data": {
      "text/plain": [
       "list[1, 2, 3, 4, 5, 6, 7, 8, ['Ani']]"
      ]
     },
     "execution_count": 24,
     "metadata": {},
     "output_type": "execute_result"
    }
   ],
   "source": [
    "list[t1]"
   ]
  },
  {
   "cell_type": "code",
   "execution_count": 25,
   "id": "b5363725-15f9-4e97-bd06-5acbfd7d197d",
   "metadata": {},
   "outputs": [
    {
     "ename": "TypeError",
     "evalue": "unhashable type: 'list'",
     "output_type": "error",
     "traceback": [
      "\u001b[1;31m---------------------------------------------------------------------------\u001b[0m",
      "\u001b[1;31mTypeError\u001b[0m                                 Traceback (most recent call last)",
      "Cell \u001b[1;32mIn[25], line 1\u001b[0m\n\u001b[1;32m----> 1\u001b[0m \u001b[38;5;28;43mset\u001b[39;49m\u001b[43m(\u001b[49m\u001b[43mt1\u001b[49m\u001b[43m)\u001b[49m\n",
      "\u001b[1;31mTypeError\u001b[0m: unhashable type: 'list'"
     ]
    }
   ],
   "source": [
    "set(t1)"
   ]
  },
  {
   "cell_type": "code",
   "execution_count": 26,
   "id": "ff46accd-412c-47bf-a02e-dc75fb10de55",
   "metadata": {},
   "outputs": [
    {
     "data": {
      "text/plain": [
       "tuple"
      ]
     },
     "execution_count": 26,
     "metadata": {},
     "output_type": "execute_result"
    }
   ],
   "source": [
    "type(t1)"
   ]
  },
  {
   "cell_type": "code",
   "execution_count": 27,
   "id": "2854c9a4-49a9-4132-9c4e-967165b77ca4",
   "metadata": {},
   "outputs": [
    {
     "ename": "TypeError",
     "evalue": "can only concatenate list (not \"tuple\") to list",
     "output_type": "error",
     "traceback": [
      "\u001b[1;31m---------------------------------------------------------------------------\u001b[0m",
      "\u001b[1;31mTypeError\u001b[0m                                 Traceback (most recent call last)",
      "Cell \u001b[1;32mIn[27], line 1\u001b[0m\n\u001b[1;32m----> 1\u001b[0m \u001b[43ml1\u001b[49m\u001b[38;5;241;43m+\u001b[39;49m\u001b[43mt1\u001b[49m\n",
      "\u001b[1;31mTypeError\u001b[0m: can only concatenate list (not \"tuple\") to list"
     ]
    }
   ],
   "source": [
    "l1+t1"
   ]
  },
  {
   "cell_type": "code",
   "execution_count": 28,
   "id": "e99415c3-1aeb-467e-8316-6130016ba8fc",
   "metadata": {},
   "outputs": [],
   "source": [
    "t2=(1,2,3,4,5,36)"
   ]
  },
  {
   "cell_type": "code",
   "execution_count": 29,
   "id": "2cc074f2-9ecc-4c11-9f46-a089ed459950",
   "metadata": {},
   "outputs": [
    {
     "data": {
      "text/plain": [
       "(1, 2, 3, 4, 5, 6, 7, 8, ['Ani'], 1, 2, 3, 4, 5, 36)"
      ]
     },
     "execution_count": 29,
     "metadata": {},
     "output_type": "execute_result"
    }
   ],
   "source": [
    "t1+t2"
   ]
  },
  {
   "cell_type": "code",
   "execution_count": 39,
   "id": "827f44e1-a807-419c-9e0c-3e56a68a8432",
   "metadata": {},
   "outputs": [],
   "source": [
    "l2=list(t2)"
   ]
  },
  {
   "cell_type": "code",
   "execution_count": 40,
   "id": "cb2b8946-5d5d-47e2-8749-db97dc58975a",
   "metadata": {},
   "outputs": [
    {
     "data": {
      "text/plain": [
       "list"
      ]
     },
     "execution_count": 40,
     "metadata": {},
     "output_type": "execute_result"
    }
   ],
   "source": [
    "type(l2)"
   ]
  },
  {
   "cell_type": "code",
   "execution_count": 32,
   "id": "9965affd-1ae0-44a1-ae20-e2eed9914137",
   "metadata": {},
   "outputs": [
    {
     "data": {
      "text/plain": [
       "list[1, 2, 3, 4, 5, 36]"
      ]
     },
     "execution_count": 32,
     "metadata": {},
     "output_type": "execute_result"
    }
   ],
   "source": [
    "l2"
   ]
  },
  {
   "cell_type": "code",
   "execution_count": 41,
   "id": "c8c09c72-5045-494d-8877-439a4e15c5f5",
   "metadata": {},
   "outputs": [],
   "source": [
    "l2[2]='set'"
   ]
  },
  {
   "cell_type": "code",
   "execution_count": 42,
   "id": "997ac5af-a26b-4dae-9abc-814e4f605ec4",
   "metadata": {},
   "outputs": [],
   "source": [
    "l2[2]=6"
   ]
  },
  {
   "cell_type": "code",
   "execution_count": 43,
   "id": "f0454165-bccc-4927-94af-27cb2f300cdd",
   "metadata": {},
   "outputs": [
    {
     "data": {
      "text/plain": [
       "6"
      ]
     },
     "execution_count": 43,
     "metadata": {},
     "output_type": "execute_result"
    }
   ],
   "source": [
    "l2[2]"
   ]
  },
  {
   "cell_type": "code",
   "execution_count": 44,
   "id": "66abdfa6-0de4-4a34-a18a-db5263135adb",
   "metadata": {},
   "outputs": [
    {
     "data": {
      "text/plain": [
       "[1, 2, 6, 4, 5, 36]"
      ]
     },
     "execution_count": 44,
     "metadata": {},
     "output_type": "execute_result"
    }
   ],
   "source": [
    "l2"
   ]
  },
  {
   "cell_type": "code",
   "execution_count": 46,
   "id": "e340cc76-64ea-48ae-99dd-0fb86404b0e5",
   "metadata": {},
   "outputs": [],
   "source": [
    "l2.append('russian')"
   ]
  },
  {
   "cell_type": "code",
   "execution_count": 47,
   "id": "4578f1d9-1ad8-4bb3-a2a3-7ee23d068609",
   "metadata": {},
   "outputs": [
    {
     "data": {
      "text/plain": [
       "[1, 2, 6, 4, 5, 36, 'russian']"
      ]
     },
     "execution_count": 47,
     "metadata": {},
     "output_type": "execute_result"
    }
   ],
   "source": [
    "l2"
   ]
  },
  {
   "cell_type": "code",
   "execution_count": 49,
   "id": "90d144cb-4ff4-42d8-8c6b-e7c9285035e3",
   "metadata": {},
   "outputs": [
    {
     "data": {
      "text/plain": [
       "'russian'"
      ]
     },
     "execution_count": 49,
     "metadata": {},
     "output_type": "execute_result"
    }
   ],
   "source": [
    "l2.pop(-1)"
   ]
  },
  {
   "cell_type": "code",
   "execution_count": 50,
   "id": "3801ee68-476b-4dbe-bbe4-71dc9a31d740",
   "metadata": {},
   "outputs": [
    {
     "data": {
      "text/plain": [
       "[1, 2, 6, 4, 5, 36]"
      ]
     },
     "execution_count": 50,
     "metadata": {},
     "output_type": "execute_result"
    }
   ],
   "source": [
    "l2"
   ]
  },
  {
   "cell_type": "code",
   "execution_count": 51,
   "id": "4b11e04f-5fb1-4e09-b561-cfb24f69f35a",
   "metadata": {},
   "outputs": [],
   "source": [
    "s3={984,48,96,'anmio'}"
   ]
  },
  {
   "cell_type": "code",
   "execution_count": 52,
   "id": "4eb3f158-5009-4db2-955b-5d3ce3883d4e",
   "metadata": {},
   "outputs": [
    {
     "data": {
      "text/plain": [
       "{48, 96, 984, 'anmio'}"
      ]
     },
     "execution_count": 52,
     "metadata": {},
     "output_type": "execute_result"
    }
   ],
   "source": [
    "s3"
   ]
  },
  {
   "cell_type": "code",
   "execution_count": 53,
   "id": "12d62294-b4a7-47b2-8325-562425a974aa",
   "metadata": {},
   "outputs": [
    {
     "ename": "NameError",
     "evalue": "name 'sort' is not defined",
     "output_type": "error",
     "traceback": [
      "\u001b[1;31m---------------------------------------------------------------------------\u001b[0m",
      "\u001b[1;31mNameError\u001b[0m                                 Traceback (most recent call last)",
      "Cell \u001b[1;32mIn[53], line 1\u001b[0m\n\u001b[1;32m----> 1\u001b[0m \u001b[43msort\u001b[49m\u001b[38;5;241m.\u001b[39ms3()\n",
      "\u001b[1;31mNameError\u001b[0m: name 'sort' is not defined"
     ]
    }
   ],
   "source": [
    "sort.s3()"
   ]
  },
  {
   "cell_type": "code",
   "execution_count": 56,
   "id": "c043b27e-936a-4f81-8d77-7da5048eb993",
   "metadata": {},
   "outputs": [
    {
     "data": {
      "text/plain": [
       "{48, 96, 984, 'anmio'}"
      ]
     },
     "execution_count": 56,
     "metadata": {},
     "output_type": "execute_result"
    }
   ],
   "source": [
    "s3"
   ]
  },
  {
   "cell_type": "code",
   "execution_count": 57,
   "id": "5841a176-273e-47ea-814c-567546d12d37",
   "metadata": {},
   "outputs": [],
   "source": [
    "d = {}"
   ]
  },
  {
   "cell_type": "code",
   "execution_count": 58,
   "id": "f68d1822-83d2-4015-b04f-69dfa11463cd",
   "metadata": {},
   "outputs": [
    {
     "data": {
      "text/plain": [
       "dict"
      ]
     },
     "execution_count": 58,
     "metadata": {},
     "output_type": "execute_result"
    }
   ],
   "source": [
    "type(d)"
   ]
  },
  {
   "cell_type": "code",
   "execution_count": 68,
   "id": "257f6e10-9f50-4c41-a3f7-ce820223c7bd",
   "metadata": {},
   "outputs": [],
   "source": [
    "d1 = {'name':\" Anirudha\", 'subject' :\"computer Network,operating system,DBMS\", \"Number\": 7318682738}"
   ]
  },
  {
   "cell_type": "code",
   "execution_count": 69,
   "id": "6fb24268-035c-4d18-b748-11b6fdffb0d0",
   "metadata": {},
   "outputs": [
    {
     "data": {
      "text/plain": [
       "{'name': ' Anirudha',\n",
       " 'subject': 'computer Network,operating system,DBMS',\n",
       " 'Number': 7318682738}"
      ]
     },
     "execution_count": 69,
     "metadata": {},
     "output_type": "execute_result"
    }
   ],
   "source": [
    "d1"
   ]
  },
  {
   "cell_type": "code",
   "execution_count": 112,
   "id": "e474cd9b-6b8a-4e9a-af33-6b16ed1ce9f3",
   "metadata": {},
   "outputs": [],
   "source": [
    "d2 = {\"names\":\"Ani\",\"name\": \"PWskills\"}"
   ]
  },
  {
   "cell_type": "code",
   "execution_count": 74,
   "id": "8d0987e3-7108-4a2d-8d70-c083e83608ce",
   "metadata": {},
   "outputs": [
    {
     "data": {
      "text/plain": [
       "{'names': 'Ani', 'name': 'PWskills'}"
      ]
     },
     "execution_count": 74,
     "metadata": {},
     "output_type": "execute_result"
    }
   ],
   "source": [
    "d2"
   ]
  },
  {
   "cell_type": "code",
   "execution_count": 66,
   "id": "cfab0cad-12fc-4c82-ad59-6a2052dc128a",
   "metadata": {},
   "outputs": [
    {
     "data": {
      "text/plain": [
       "{'name': ' Anirudha',\n",
       " 'subject': 'computer Network,operating system,DBMS',\n",
       " 'Number': '7318682738'}"
      ]
     },
     "execution_count": 66,
     "metadata": {},
     "output_type": "execute_result"
    }
   ],
   "source": [
    "d1"
   ]
  },
  {
   "cell_type": "code",
   "execution_count": 67,
   "id": "d8409bb9-b746-4280-a299-f6f947f125f2",
   "metadata": {},
   "outputs": [
    {
     "ename": "TypeError",
     "evalue": "unsupported operand type(s) for +: 'dict' and 'dict'",
     "output_type": "error",
     "traceback": [
      "\u001b[1;31m---------------------------------------------------------------------------\u001b[0m",
      "\u001b[1;31mTypeError\u001b[0m                                 Traceback (most recent call last)",
      "Cell \u001b[1;32mIn[67], line 1\u001b[0m\n\u001b[1;32m----> 1\u001b[0m \u001b[43md1\u001b[49m\u001b[38;5;241;43m+\u001b[39;49m\u001b[43md2\u001b[49m\n",
      "\u001b[1;31mTypeError\u001b[0m: unsupported operand type(s) for +: 'dict' and 'dict'"
     ]
    }
   ],
   "source": [
    "d1+d2"
   ]
  },
  {
   "cell_type": "code",
   "execution_count": 75,
   "id": "c38593db-b643-428f-b51c-1adf45ee3a38",
   "metadata": {},
   "outputs": [
    {
     "ename": "TypeError",
     "evalue": "unhashable type: 'list'",
     "output_type": "error",
     "traceback": [
      "\u001b[1;31m---------------------------------------------------------------------------\u001b[0m",
      "\u001b[1;31mTypeError\u001b[0m                                 Traceback (most recent call last)",
      "Cell \u001b[1;32mIn[75], line 1\u001b[0m\n\u001b[1;32m----> 1\u001b[0m d3\u001b[38;5;241m=\u001b[39m{[\u001b[38;5;241m1\u001b[39m,\u001b[38;5;241m2\u001b[39m,\u001b[38;5;241m34\u001b[39m,\u001b[38;5;241m5\u001b[39m]:\u001b[38;5;124m\"\u001b[39m\u001b[38;5;124mSudh\u001b[39m\u001b[38;5;124m\"\u001b[39m}\n",
      "\u001b[1;31mTypeError\u001b[0m: unhashable type: 'list'"
     ]
    }
   ],
   "source": [
    "d3={[1,2,34,5]:\"Sudh\"}"
   ]
  },
  {
   "cell_type": "code",
   "execution_count": 76,
   "id": "62c6f639-399b-4e5c-9753-d1f18e3deae0",
   "metadata": {},
   "outputs": [
    {
     "ename": "TypeError",
     "evalue": "unhashable type: 'set'",
     "output_type": "error",
     "traceback": [
      "\u001b[1;31m---------------------------------------------------------------------------\u001b[0m",
      "\u001b[1;31mTypeError\u001b[0m                                 Traceback (most recent call last)",
      "Cell \u001b[1;32mIn[76], line 1\u001b[0m\n\u001b[1;32m----> 1\u001b[0m d3\u001b[38;5;241m=\u001b[39m{{\u001b[38;5;241m1\u001b[39m,\u001b[38;5;241m2\u001b[39m,\u001b[38;5;241m3\u001b[39m,\u001b[38;5;241m4\u001b[39m,\u001b[38;5;241m5\u001b[39m}:\u001b[38;5;124m\"\u001b[39m\u001b[38;5;124mAni\u001b[39m\u001b[38;5;124m\"\u001b[39m}\n",
      "\u001b[1;31mTypeError\u001b[0m: unhashable type: 'set'"
     ]
    }
   ],
   "source": [
    "d3={{1,2,3,4,5}:\"Ani\"}"
   ]
  },
  {
   "cell_type": "code",
   "execution_count": 77,
   "id": "6c2fb12c-d017-4276-8e70-00cdefd9cdb9",
   "metadata": {},
   "outputs": [],
   "source": [
    "d3 = {(1,3,12,142):\"Ani\"}"
   ]
  },
  {
   "cell_type": "code",
   "execution_count": 78,
   "id": "28fe69cf-5a87-4648-8a90-b9fbb21dc6be",
   "metadata": {},
   "outputs": [
    {
     "data": {
      "text/plain": [
       "{(1, 3, 12, 142): 'Ani'}"
      ]
     },
     "execution_count": 78,
     "metadata": {},
     "output_type": "execute_result"
    }
   ],
   "source": [
    "d3"
   ]
  },
  {
   "cell_type": "code",
   "execution_count": 105,
   "id": "13dcf69b-5a11-435b-97ca-6090df7dfcf7",
   "metadata": {},
   "outputs": [],
   "source": [
    "d4 = {\"courses\": [\" java,python,c,c++\"], \"mentor\":(\"sudh\",\"krish\",\"vishnu\"), \"price\": {1000,200,450,640}, \"duration\":1 ,\"access year\":1,\n",
    "     \"Syllabus\":{\"python\":[\"core python,oops,ml\"]}, \"m1\":[\"supervised\",\"unsupervised\",\"semi supervised\"]}"
   ]
  },
  {
   "cell_type": "code",
   "execution_count": 106,
   "id": "c312b578-3a83-4114-ab1b-eed2c28d195d",
   "metadata": {},
   "outputs": [
    {
     "data": {
      "text/plain": [
       "{'courses': [' java,python,c,c++'],\n",
       " 'mentor': ('sudh', 'krish', 'vishnu'),\n",
       " 'price': {200, 450, 640, 1000},\n",
       " 'duration': 1,\n",
       " 'access year': 1,\n",
       " 'Syllabus': {'python': ['core python,oops,ml']},\n",
       " 'm1': ['supervised', 'unsupervised', 'semi supervised']}"
      ]
     },
     "execution_count": 106,
     "metadata": {},
     "output_type": "execute_result"
    }
   ],
   "source": [
    "d4\n"
   ]
  },
  {
   "cell_type": "code",
   "execution_count": 86,
   "id": "b345fa1f-7dd7-485c-afbd-0526bcc13ecf",
   "metadata": {},
   "outputs": [
    {
     "data": {
      "text/plain": [
       "dict_keys(['courses', 'mentor', 'price', 'duration', 'access year'])"
      ]
     },
     "execution_count": 86,
     "metadata": {},
     "output_type": "execute_result"
    }
   ],
   "source": [
    "d4.keys()"
   ]
  },
  {
   "cell_type": "code",
   "execution_count": 87,
   "id": "7a4f4a94-eafa-4b09-bb09-283d1197f732",
   "metadata": {},
   "outputs": [
    {
     "data": {
      "text/plain": [
       "[' java,python,c,c++']"
      ]
     },
     "execution_count": 87,
     "metadata": {},
     "output_type": "execute_result"
    }
   ],
   "source": [
    "d4['courses']"
   ]
  },
  {
   "cell_type": "code",
   "execution_count": 88,
   "id": "effae299-c351-47f3-b29f-e315509eda85",
   "metadata": {},
   "outputs": [
    {
     "data": {
      "text/plain": [
       "('sudh', 'krish', 'vishnu')"
      ]
     },
     "execution_count": 88,
     "metadata": {},
     "output_type": "execute_result"
    }
   ],
   "source": [
    "d4['mentor']"
   ]
  },
  {
   "cell_type": "code",
   "execution_count": 90,
   "id": "cd014d07-044e-479d-8219-19e23c26d6c4",
   "metadata": {},
   "outputs": [
    {
     "data": {
      "text/plain": [
       "{200, 450, 640, 1000}"
      ]
     },
     "execution_count": 90,
     "metadata": {},
     "output_type": "execute_result"
    }
   ],
   "source": [
    "d4['price']"
   ]
  },
  {
   "cell_type": "code",
   "execution_count": 92,
   "id": "2559de5d-3ca2-4bb1-b31b-a24865c946da",
   "metadata": {},
   "outputs": [],
   "source": [
    "s1={}"
   ]
  },
  {
   "cell_type": "code",
   "execution_count": 93,
   "id": "290040c0-38c9-4f88-a43c-e1aee79c5f0d",
   "metadata": {},
   "outputs": [
    {
     "data": {
      "text/plain": [
       "dict"
      ]
     },
     "execution_count": 93,
     "metadata": {},
     "output_type": "execute_result"
    }
   ],
   "source": [
    "type(s1)"
   ]
  },
  {
   "cell_type": "code",
   "execution_count": 97,
   "id": "e43ab905-dbbd-42e9-87ae-9d347df117f0",
   "metadata": {},
   "outputs": [],
   "source": [
    "s1={\"ani\"}"
   ]
  },
  {
   "cell_type": "code",
   "execution_count": 98,
   "id": "cb653400-41cc-44ba-a74e-9f0be52909c5",
   "metadata": {},
   "outputs": [
    {
     "data": {
      "text/plain": [
       "set"
      ]
     },
     "execution_count": 98,
     "metadata": {},
     "output_type": "execute_result"
    }
   ],
   "source": [
    "type(s1)"
   ]
  },
  {
   "cell_type": "code",
   "execution_count": 102,
   "id": "209afa22-9fc1-4733-96be-e92f7eb417e7",
   "metadata": {},
   "outputs": [
    {
     "ename": "NameError",
     "evalue": "name 'substr' is not defined",
     "output_type": "error",
     "traceback": [
      "\u001b[1;31m---------------------------------------------------------------------------\u001b[0m",
      "\u001b[1;31mNameError\u001b[0m                                 Traceback (most recent call last)",
      "Cell \u001b[1;32mIn[102], line 1\u001b[0m\n\u001b[1;32m----> 1\u001b[0m \u001b[43msubstr\u001b[49m\u001b[38;5;241m.\u001b[39ms1()\n",
      "\u001b[1;31mNameError\u001b[0m: name 'substr' is not defined"
     ]
    }
   ],
   "source": [
    "substr.s1()"
   ]
  },
  {
   "cell_type": "code",
   "execution_count": 111,
   "id": "5e4576e2-7512-485e-8a3c-3bfa0ddfc556",
   "metadata": {},
   "outputs": [
    {
     "data": {
      "text/plain": [
       "{'phone no': 7318682738}"
      ]
     },
     "execution_count": 111,
     "metadata": {},
     "output_type": "execute_result"
    }
   ],
   "source": [
    "d2"
   ]
  },
  {
   "cell_type": "code",
   "execution_count": 109,
   "id": "8049aa93-1afa-43ab-a957-323e39956c1d",
   "metadata": {},
   "outputs": [],
   "source": [
    "d2={\"phone no\":7318682738}"
   ]
  },
  {
   "cell_type": "code",
   "execution_count": 113,
   "id": "9dcacf8b-9a80-4ef9-b344-bc33cad46329",
   "metadata": {},
   "outputs": [
    {
     "data": {
      "text/plain": [
       "{'names': 'Ani', 'name': 'PWskills'}"
      ]
     },
     "execution_count": 113,
     "metadata": {},
     "output_type": "execute_result"
    }
   ],
   "source": [
    "d2"
   ]
  },
  {
   "cell_type": "code",
   "execution_count": 114,
   "id": "6dea38fd-9c83-4e8d-9acb-0cc7910a5eab",
   "metadata": {},
   "outputs": [],
   "source": [
    "d2[\"phone no\"]=7318682738"
   ]
  },
  {
   "cell_type": "code",
   "execution_count": 115,
   "id": "cd8484f5-fed6-48ca-8452-e20d660de978",
   "metadata": {},
   "outputs": [
    {
     "data": {
      "text/plain": [
       "{'names': 'Ani', 'name': 'PWskills', 'phone no': 7318682738}"
      ]
     },
     "execution_count": 115,
     "metadata": {},
     "output_type": "execute_result"
    }
   ],
   "source": [
    "d2"
   ]
  },
  {
   "cell_type": "code",
   "execution_count": 116,
   "id": "97a464bb-6444-45cf-80e9-aa619d46a1c0",
   "metadata": {},
   "outputs": [],
   "source": [
    "d2['name']=\"jeet\""
   ]
  },
  {
   "cell_type": "code",
   "execution_count": 117,
   "id": "9f49026b-7128-4e36-90f8-9c728b6ebb04",
   "metadata": {},
   "outputs": [
    {
     "data": {
      "text/plain": [
       "{'names': 'Ani', 'name': 'jeet', 'phone no': 7318682738}"
      ]
     },
     "execution_count": 117,
     "metadata": {},
     "output_type": "execute_result"
    }
   ],
   "source": [
    "d2"
   ]
  },
  {
   "cell_type": "code",
   "execution_count": 118,
   "id": "49691f4e-608e-486d-be85-f25a42a6ea01",
   "metadata": {},
   "outputs": [],
   "source": [
    "string=\"anirudha\""
   ]
  },
  {
   "cell_type": "code",
   "execution_count": 119,
   "id": "f3a7f737-1095-4c54-bd0f-156a97d03b63",
   "metadata": {},
   "outputs": [
    {
     "data": {
      "text/plain": [
       "'ahdurina'"
      ]
     },
     "execution_count": 119,
     "metadata": {},
     "output_type": "execute_result"
    }
   ],
   "source": [
    "string[::-1]"
   ]
  },
  {
   "cell_type": "code",
   "execution_count": 120,
   "id": "5fce0e65-b44d-413e-b71b-5971ddc25f8e",
   "metadata": {},
   "outputs": [],
   "source": [
    "s1={\"pwskills\"}"
   ]
  },
  {
   "cell_type": "code",
   "execution_count": 121,
   "id": "4604c6a3-51a0-4a5c-b942-294dca5ac876",
   "metadata": {},
   "outputs": [
    {
     "ename": "AttributeError",
     "evalue": "'set' object has no attribute 'count'",
     "output_type": "error",
     "traceback": [
      "\u001b[1;31m---------------------------------------------------------------------------\u001b[0m",
      "\u001b[1;31mAttributeError\u001b[0m                            Traceback (most recent call last)",
      "Cell \u001b[1;32mIn[121], line 1\u001b[0m\n\u001b[1;32m----> 1\u001b[0m \u001b[43ms1\u001b[49m\u001b[38;5;241;43m.\u001b[39;49m\u001b[43mcount\u001b[49m(\u001b[38;5;124m'\u001b[39m\u001b[38;5;124ml\u001b[39m\u001b[38;5;124m'\u001b[39m)\n",
      "\u001b[1;31mAttributeError\u001b[0m: 'set' object has no attribute 'count'"
     ]
    }
   ],
   "source": [
    "s1.count('l')"
   ]
  },
  {
   "cell_type": "code",
   "execution_count": 2,
   "id": "480a0b78-ed6b-4857-b1e4-cf14cb603c19",
   "metadata": {},
   "outputs": [],
   "source": [
    "l1=[300,4,5,'anirudha',56]"
   ]
  },
  {
   "cell_type": "code",
   "execution_count": 3,
   "id": "97203cae",
   "metadata": {},
   "outputs": [],
   "source": [
    "l1.extend('anirudha')"
   ]
  },
  {
   "cell_type": "code",
   "execution_count": 4,
   "id": "697baf16",
   "metadata": {},
   "outputs": [
    {
     "data": {
      "text/plain": [
       "[300, 4, 5, 'anirudha', 56, 'a', 'n', 'i', 'r', 'u', 'd', 'h', 'a']"
      ]
     },
     "execution_count": 4,
     "metadata": {},
     "output_type": "execute_result"
    }
   ],
   "source": [
    "l1"
   ]
  },
  {
   "cell_type": "code",
   "execution_count": 5,
   "id": "e7fb50a6",
   "metadata": {},
   "outputs": [],
   "source": [
    "l2 =[1,3,1,4575,8785498,121542314,]"
   ]
  },
  {
   "cell_type": "code",
   "execution_count": 6,
   "id": "409c4f6b",
   "metadata": {},
   "outputs": [],
   "source": [
    "l2.append([1,2,3])"
   ]
  },
  {
   "cell_type": "code",
   "execution_count": 7,
   "id": "cdef0b99",
   "metadata": {},
   "outputs": [
    {
     "data": {
      "text/plain": [
       "[1, 3, 1, 4575, 8785498, 121542314, [1, 2, 3]]"
      ]
     },
     "execution_count": 7,
     "metadata": {},
     "output_type": "execute_result"
    }
   ],
   "source": [
    "l2"
   ]
  },
  {
   "cell_type": "code",
   "execution_count": 8,
   "id": "77a56de7",
   "metadata": {},
   "outputs": [],
   "source": [
    "l2.insert(1,[1,23,45,21])"
   ]
  },
  {
   "cell_type": "code",
   "execution_count": 9,
   "id": "f9c4e007",
   "metadata": {},
   "outputs": [],
   "source": [
    "l2.extend([1,23,45,21])"
   ]
  },
  {
   "cell_type": "code",
   "execution_count": 10,
   "id": "d9caf6e0",
   "metadata": {},
   "outputs": [
    {
     "data": {
      "text/plain": [
       "[1, [1, 23, 45, 21], 3, 1, 4575, 8785498, 121542314, [1, 2, 3], 1, 23, 45, 21]"
      ]
     },
     "execution_count": 10,
     "metadata": {},
     "output_type": "execute_result"
    }
   ],
   "source": [
    "l2"
   ]
  },
  {
   "cell_type": "code",
   "execution_count": 11,
   "id": "cfbf798e",
   "metadata": {},
   "outputs": [
    {
     "data": {
      "text/plain": [
       "21"
      ]
     },
     "execution_count": 11,
     "metadata": {},
     "output_type": "execute_result"
    }
   ],
   "source": [
    "l2.pop()"
   ]
  },
  {
   "cell_type": "code",
   "execution_count": 12,
   "id": "cf572a45",
   "metadata": {},
   "outputs": [
    {
     "data": {
      "text/plain": [
       "[1, [1, 23, 45, 21], 3, 1, 4575, 8785498, 121542314, [1, 2, 3], 1, 23, 45]"
      ]
     },
     "execution_count": 12,
     "metadata": {},
     "output_type": "execute_result"
    }
   ],
   "source": [
    "l2"
   ]
  },
  {
   "cell_type": "code",
   "execution_count": 14,
   "id": "4d6c72d6",
   "metadata": {},
   "outputs": [
    {
     "data": {
      "text/plain": [
       "[1, 23, 45, 21]"
      ]
     },
     "execution_count": 14,
     "metadata": {},
     "output_type": "execute_result"
    }
   ],
   "source": [
    "l2.pop(1)"
   ]
  },
  {
   "cell_type": "code",
   "execution_count": 15,
   "id": "e462bfed",
   "metadata": {},
   "outputs": [
    {
     "ename": "SyntaxError",
     "evalue": "incomplete input (3477860531.py, line 1)",
     "output_type": "error",
     "traceback": [
      "\u001b[1;36m  Cell \u001b[1;32mIn[15], line 1\u001b[1;36m\u001b[0m\n\u001b[1;33m    \\\u001b[0m\n\u001b[1;37m     ^\u001b[0m\n\u001b[1;31mSyntaxError\u001b[0m\u001b[1;31m:\u001b[0m incomplete input\n"
     ]
    }
   ],
   "source": [
    "\\"
   ]
  },
  {
   "cell_type": "code",
   "execution_count": 16,
   "id": "10cee1c2",
   "metadata": {},
   "outputs": [],
   "source": [
    "del l2"
   ]
  },
  {
   "cell_type": "code",
   "execution_count": 17,
   "id": "ce694981",
   "metadata": {},
   "outputs": [
    {
     "ename": "NameError",
     "evalue": "name 'l2' is not defined",
     "output_type": "error",
     "traceback": [
      "\u001b[1;31m---------------------------------------------------------------------------\u001b[0m",
      "\u001b[1;31mNameError\u001b[0m                                 Traceback (most recent call last)",
      "Cell \u001b[1;32mIn[17], line 1\u001b[0m\n\u001b[1;32m----> 1\u001b[0m \u001b[43ml2\u001b[49m\n",
      "\u001b[1;31mNameError\u001b[0m: name 'l2' is not defined"
     ]
    }
   ],
   "source": [
    "l2"
   ]
  },
  {
   "cell_type": "code",
   "execution_count": 19,
   "id": "32fe227c",
   "metadata": {},
   "outputs": [
    {
     "ename": "ValueError",
     "evalue": "list.remove(x): x not in list",
     "output_type": "error",
     "traceback": [
      "\u001b[1;31m---------------------------------------------------------------------------\u001b[0m",
      "\u001b[1;31mValueError\u001b[0m                                Traceback (most recent call last)",
      "Cell \u001b[1;32mIn[19], line 1\u001b[0m\n\u001b[1;32m----> 1\u001b[0m \u001b[43ml1\u001b[49m\u001b[38;5;241;43m.\u001b[39;49m\u001b[43mremove\u001b[49m\u001b[43m(\u001b[49m\u001b[38;5;124;43m\"\u001b[39;49m\u001b[38;5;124;43ms\u001b[39;49m\u001b[38;5;124;43m\"\u001b[39;49m\u001b[43m)\u001b[49m\n",
      "\u001b[1;31mValueError\u001b[0m: list.remove(x): x not in list"
     ]
    }
   ],
   "source": [
    "l1.remove(\"s\")"
   ]
  },
  {
   "cell_type": "code",
   "execution_count": 20,
   "id": "6e84e201",
   "metadata": {},
   "outputs": [
    {
     "data": {
      "text/plain": [
       "[300, 4, 5, 'anirudha', 56, 'a', 'n', 'i', 'r', 'u', 'd', 'h', 'a']"
      ]
     },
     "execution_count": 20,
     "metadata": {},
     "output_type": "execute_result"
    }
   ],
   "source": [
    "l1"
   ]
  },
  {
   "cell_type": "code",
   "execution_count": 21,
   "id": "ab9cade2",
   "metadata": {},
   "outputs": [],
   "source": [
    "l1.remove('a')"
   ]
  },
  {
   "cell_type": "code",
   "execution_count": 22,
   "id": "11f54fab",
   "metadata": {},
   "outputs": [
    {
     "data": {
      "text/plain": [
       "[300, 4, 5, 'anirudha', 56, 'n', 'i', 'r', 'u', 'd', 'h', 'a']"
      ]
     },
     "execution_count": 22,
     "metadata": {},
     "output_type": "execute_result"
    }
   ],
   "source": [
    "l1"
   ]
  },
  {
   "cell_type": "code",
   "execution_count": 23,
   "id": "1f037448",
   "metadata": {},
   "outputs": [
    {
     "ename": "NameError",
     "evalue": "name 's1' is not defined",
     "output_type": "error",
     "traceback": [
      "\u001b[1;31m---------------------------------------------------------------------------\u001b[0m",
      "\u001b[1;31mNameError\u001b[0m                                 Traceback (most recent call last)",
      "Cell \u001b[1;32mIn[23], line 1\u001b[0m\n\u001b[1;32m----> 1\u001b[0m \u001b[38;5;28;01mdel\u001b[39;00m \u001b[43ms1\u001b[49m\n",
      "\u001b[1;31mNameError\u001b[0m: name 's1' is not defined"
     ]
    }
   ],
   "source": [
    "del s1"
   ]
  },
  {
   "cell_type": "code",
   "execution_count": 24,
   "id": "62a171ab",
   "metadata": {},
   "outputs": [],
   "source": [
    "s1=\"anirudha\""
   ]
  },
  {
   "cell_type": "code",
   "execution_count": 25,
   "id": "a1616dbe",
   "metadata": {},
   "outputs": [],
   "source": [
    "del s1"
   ]
  },
  {
   "cell_type": "code",
   "execution_count": 28,
   "id": "8704ce04",
   "metadata": {},
   "outputs": [],
   "source": [
    "s1=\"ani\""
   ]
  },
  {
   "cell_type": "code",
   "execution_count": 29,
   "id": "884eda7a",
   "metadata": {},
   "outputs": [
    {
     "ename": "AttributeError",
     "evalue": "'str' object has no attribute 'clear'",
     "output_type": "error",
     "traceback": [
      "\u001b[1;31m---------------------------------------------------------------------------\u001b[0m",
      "\u001b[1;31mAttributeError\u001b[0m                            Traceback (most recent call last)",
      "Cell \u001b[1;32mIn[29], line 1\u001b[0m\n\u001b[1;32m----> 1\u001b[0m \u001b[43ms1\u001b[49m\u001b[38;5;241;43m.\u001b[39;49m\u001b[43mclear\u001b[49m()\n",
      "\u001b[1;31mAttributeError\u001b[0m: 'str' object has no attribute 'clear'"
     ]
    }
   ],
   "source": [
    "s1.clear()"
   ]
  },
  {
   "cell_type": "code",
   "execution_count": 30,
   "id": "fdcdf9b2",
   "metadata": {},
   "outputs": [],
   "source": [
    "l1.clear()"
   ]
  },
  {
   "cell_type": "code",
   "execution_count": 31,
   "id": "204a2171",
   "metadata": {},
   "outputs": [
    {
     "data": {
      "text/plain": [
       "[]"
      ]
     },
     "execution_count": 31,
     "metadata": {},
     "output_type": "execute_result"
    }
   ],
   "source": [
    "l1"
   ]
  },
  {
   "cell_type": "code",
   "execution_count": 32,
   "id": "162d198c",
   "metadata": {},
   "outputs": [],
   "source": [
    "l1=[1,3,2,147,788,41,5,4,7]"
   ]
  },
  {
   "cell_type": "code",
   "execution_count": 34,
   "id": "9d64db08",
   "metadata": {},
   "outputs": [
    {
     "data": {
      "text/plain": [
       "0"
      ]
     },
     "execution_count": 34,
     "metadata": {},
     "output_type": "execute_result"
    }
   ],
   "source": [
    "l1.count('3')"
   ]
  },
  {
   "cell_type": "code",
   "execution_count": 35,
   "id": "3fc6a27c",
   "metadata": {},
   "outputs": [],
   "source": [
    "l1.reverse()"
   ]
  },
  {
   "cell_type": "code",
   "execution_count": 36,
   "id": "b9636c0a",
   "metadata": {},
   "outputs": [
    {
     "data": {
      "text/plain": [
       "[7, 4, 5, 41, 788, 147, 2, 3, 1]"
      ]
     },
     "execution_count": 36,
     "metadata": {},
     "output_type": "execute_result"
    }
   ],
   "source": [
    "l1"
   ]
  },
  {
   "cell_type": "code",
   "execution_count": 37,
   "id": "1d596f53",
   "metadata": {},
   "outputs": [],
   "source": [
    "l1.sort()"
   ]
  },
  {
   "cell_type": "code",
   "execution_count": 38,
   "id": "0d0245e1",
   "metadata": {},
   "outputs": [
    {
     "data": {
      "text/plain": [
       "[1, 2, 3, 4, 5, 7, 41, 147, 788]"
      ]
     },
     "execution_count": 38,
     "metadata": {},
     "output_type": "execute_result"
    }
   ],
   "source": [
    "l1"
   ]
  },
  {
   "cell_type": "code",
   "execution_count": 39,
   "id": "ab402f82",
   "metadata": {},
   "outputs": [],
   "source": [
    "l2=[\"anirudha\",'jeet','gupta']"
   ]
  },
  {
   "cell_type": "code",
   "execution_count": 40,
   "id": "4f483146",
   "metadata": {},
   "outputs": [],
   "source": [
    "l2.sort(reverse=True)"
   ]
  },
  {
   "cell_type": "code",
   "execution_count": 41,
   "id": "1ecd9eff",
   "metadata": {},
   "outputs": [
    {
     "data": {
      "text/plain": [
       "['jeet', 'gupta', 'anirudha']"
      ]
     },
     "execution_count": 41,
     "metadata": {},
     "output_type": "execute_result"
    }
   ],
   "source": [
    "l2"
   ]
  },
  {
   "cell_type": "code",
   "execution_count": 42,
   "id": "6c5b79b1",
   "metadata": {},
   "outputs": [],
   "source": [
    "l0=[2,3,4,5,6]"
   ]
  },
  {
   "cell_type": "code",
   "execution_count": 43,
   "id": "739eb1a7",
   "metadata": {},
   "outputs": [],
   "source": [
    "l1=l0"
   ]
  },
  {
   "cell_type": "code",
   "execution_count": 44,
   "id": "0b59dd5d",
   "metadata": {},
   "outputs": [
    {
     "data": {
      "text/plain": [
       "[2, 3, 4, 5, 6]"
      ]
     },
     "execution_count": 44,
     "metadata": {},
     "output_type": "execute_result"
    }
   ],
   "source": [
    "l1"
   ]
  },
  {
   "cell_type": "code",
   "execution_count": 45,
   "id": "1fc73a2f",
   "metadata": {},
   "outputs": [
    {
     "data": {
      "text/plain": [
       "[2, 3, 4, 5, 6]"
      ]
     },
     "execution_count": 45,
     "metadata": {},
     "output_type": "execute_result"
    }
   ],
   "source": [
    "l0"
   ]
  },
  {
   "cell_type": "code",
   "execution_count": 46,
   "id": "ae20e98c",
   "metadata": {},
   "outputs": [],
   "source": [
    "l0[0]=200"
   ]
  },
  {
   "cell_type": "code",
   "execution_count": 47,
   "id": "67e7c977",
   "metadata": {},
   "outputs": [
    {
     "data": {
      "text/plain": [
       "[200, 3, 4, 5, 6]"
      ]
     },
     "execution_count": 47,
     "metadata": {},
     "output_type": "execute_result"
    }
   ],
   "source": [
    "l1"
   ]
  },
  {
   "cell_type": "code",
   "execution_count": 48,
   "id": "5174654f",
   "metadata": {},
   "outputs": [
    {
     "data": {
      "text/plain": [
       "[200, 3, 4, 5, 6]"
      ]
     },
     "execution_count": 48,
     "metadata": {},
     "output_type": "execute_result"
    }
   ],
   "source": [
    "l0"
   ]
  },
  {
   "cell_type": "code",
   "execution_count": 50,
   "id": "b9bde575",
   "metadata": {},
   "outputs": [
    {
     "data": {
      "text/plain": [
       "[200, 3, 4, 5, 6]"
      ]
     },
     "execution_count": 50,
     "metadata": {},
     "output_type": "execute_result"
    }
   ],
   "source": [
    "l0.copy()"
   ]
  },
  {
   "cell_type": "code",
   "execution_count": 51,
   "id": "b6f4c523",
   "metadata": {},
   "outputs": [
    {
     "data": {
      "text/plain": [
       "[200, 3, 4, 5, 6]"
      ]
     },
     "execution_count": 51,
     "metadata": {},
     "output_type": "execute_result"
    }
   ],
   "source": [
    "l1"
   ]
  },
  {
   "cell_type": "code",
   "execution_count": 52,
   "id": "84600bd1",
   "metadata": {},
   "outputs": [],
   "source": [
    "l1[0]=201"
   ]
  },
  {
   "cell_type": "code",
   "execution_count": 53,
   "id": "90a25ef3",
   "metadata": {},
   "outputs": [
    {
     "data": {
      "text/plain": [
       "[201, 3, 4, 5, 6]"
      ]
     },
     "execution_count": 53,
     "metadata": {},
     "output_type": "execute_result"
    }
   ],
   "source": [
    "l0"
   ]
  },
  {
   "cell_type": "code",
   "execution_count": 54,
   "id": "148ef799",
   "metadata": {},
   "outputs": [],
   "source": [
    "l2 = l0.copy()"
   ]
  },
  {
   "cell_type": "code",
   "execution_count": 55,
   "id": "7a977a34",
   "metadata": {},
   "outputs": [
    {
     "data": {
      "text/plain": [
       "[201, 3, 4, 5, 6]"
      ]
     },
     "execution_count": 55,
     "metadata": {},
     "output_type": "execute_result"
    }
   ],
   "source": [
    "l2"
   ]
  },
  {
   "cell_type": "code",
   "execution_count": 56,
   "id": "67289767",
   "metadata": {},
   "outputs": [],
   "source": [
    "l0[0]= 2007"
   ]
  },
  {
   "cell_type": "code",
   "execution_count": 57,
   "id": "0b3d6bd0",
   "metadata": {},
   "outputs": [
    {
     "data": {
      "text/plain": [
       "[2007, 3, 4, 5, 6]"
      ]
     },
     "execution_count": 57,
     "metadata": {},
     "output_type": "execute_result"
    }
   ],
   "source": [
    "l1"
   ]
  },
  {
   "cell_type": "code",
   "execution_count": 58,
   "id": "5feb5af0",
   "metadata": {},
   "outputs": [
    {
     "data": {
      "text/plain": [
       "[201, 3, 4, 5, 6]"
      ]
     },
     "execution_count": 58,
     "metadata": {},
     "output_type": "execute_result"
    }
   ],
   "source": [
    "l2"
   ]
  },
  {
   "cell_type": "code",
   "execution_count": null,
   "id": "8596617a",
   "metadata": {},
   "outputs": [],
   "source": []
  }
 ],
 "metadata": {
  "kernelspec": {
   "display_name": "Python 3 (ipykernel)",
   "language": "python",
   "name": "python3"
  },
  "language_info": {
   "codemirror_mode": {
    "name": "ipython",
    "version": 3
   },
   "file_extension": ".py",
   "mimetype": "text/x-python",
   "name": "python",
   "nbconvert_exporter": "python",
   "pygments_lexer": "ipython3",
   "version": "3.12.2"
  }
 },
 "nbformat": 4,
 "nbformat_minor": 5
}
