{
 "cells": [
  {
   "cell_type": "code",
   "execution_count": 5,
   "id": "8df6d666-c97d-4872-8680-aa3cf82701e6",
   "metadata": {},
   "outputs": [],
   "source": [
    "range=(2,14,1)"
   ]
  },
  {
   "cell_type": "code",
   "execution_count": 6,
   "id": "d4d0e90f-4d66-42b2-a473-b4410db86d2a",
   "metadata": {},
   "outputs": [
    {
     "data": {
      "text/plain": [
       "(2, 14, 1)"
      ]
     },
     "execution_count": 6,
     "metadata": {},
     "output_type": "execute_result"
    }
   ],
   "source": [
    "range"
   ]
  },
  {
   "cell_type": "code",
   "execution_count": 7,
   "id": "cd666bab-16c6-4d95-b84d-7d4eb0481e4e",
   "metadata": {},
   "outputs": [
    {
     "data": {
      "text/plain": [
       "tuple"
      ]
     },
     "execution_count": 7,
     "metadata": {},
     "output_type": "execute_result"
    }
   ],
   "source": [
    "type(range)"
   ]
  },
  {
   "cell_type": "code",
   "execution_count": 11,
   "id": "ba65762f-689a-4a97-ba83-65e07c6138e2",
   "metadata": {},
   "outputs": [],
   "source": [
    "x=10"
   ]
  },
  {
   "cell_type": "code",
   "execution_count": 9,
   "id": "32076fee-9f72-4ef6-83aa-f1f0d34fab92",
   "metadata": {},
   "outputs": [],
   "source": [
    "x=1.74"
   ]
  },
  {
   "cell_type": "code",
   "execution_count": 13,
   "id": "d3a04b44-f5b6-40de-83a3-67af7e603888",
   "metadata": {},
   "outputs": [],
   "source": [
    "x=\"Ani\""
   ]
  },
  {
   "cell_type": "code",
   "execution_count": 14,
   "id": "0dbdb72a-58d5-49d1-b09f-f05afb0910ae",
   "metadata": {},
   "outputs": [
    {
     "data": {
      "text/plain": [
       "str"
      ]
     },
     "execution_count": 14,
     "metadata": {},
     "output_type": "execute_result"
    }
   ],
   "source": [
    "type(x)"
   ]
  },
  {
   "cell_type": "code",
   "execution_count": 15,
   "id": "84335ea8-cd0c-4d3a-b5ea-1948855736b1",
   "metadata": {},
   "outputs": [],
   "source": [
    "x=['hi',4,4,2,1]"
   ]
  },
  {
   "cell_type": "code",
   "execution_count": 16,
   "id": "0ed0c99e-3d50-4aa3-a458-e763692afff9",
   "metadata": {},
   "outputs": [
    {
     "data": {
      "text/plain": [
       "list"
      ]
     },
     "execution_count": 16,
     "metadata": {},
     "output_type": "execute_result"
    }
   ],
   "source": [
    "type(x)"
   ]
  },
  {
   "cell_type": "code",
   "execution_count": 17,
   "id": "6f57cbb5-af35-49e3-8bcc-d990e0db0a2a",
   "metadata": {},
   "outputs": [],
   "source": [
    "x=(\"hi\",1,12,123,4)\n"
   ]
  },
  {
   "cell_type": "code",
   "execution_count": 18,
   "id": "476f2a61-0c87-4d51-8728-87ec11dc18d9",
   "metadata": {},
   "outputs": [
    {
     "data": {
      "text/plain": [
       "tuple"
      ]
     },
     "execution_count": 18,
     "metadata": {},
     "output_type": "execute_result"
    }
   ],
   "source": [
    "type(x)"
   ]
  },
  {
   "cell_type": "code",
   "execution_count": 19,
   "id": "d9d1d9ee-9c26-4abe-b96d-644e9fbb0939",
   "metadata": {},
   "outputs": [],
   "source": [
    "x={\"ani\",1,2,3,4}"
   ]
  },
  {
   "cell_type": "code",
   "execution_count": 20,
   "id": "cb3a5ae4-8b7e-4a8c-91ae-461f035f26ef",
   "metadata": {},
   "outputs": [
    {
     "data": {
      "text/plain": [
       "set"
      ]
     },
     "execution_count": 20,
     "metadata": {},
     "output_type": "execute_result"
    }
   ],
   "source": [
    "type(x)"
   ]
  },
  {
   "cell_type": "code",
   "execution_count": 21,
   "id": "9df86455-e245-4d3e-bd71-b4363f6a08d6",
   "metadata": {},
   "outputs": [],
   "source": [
    "x={\"name\":\"jeet\"}"
   ]
  },
  {
   "cell_type": "code",
   "execution_count": 22,
   "id": "dcd8c828-419a-4895-b830-497b58ffd6fc",
   "metadata": {},
   "outputs": [
    {
     "data": {
      "text/plain": [
       "dict"
      ]
     },
     "execution_count": 22,
     "metadata": {},
     "output_type": "execute_result"
    }
   ],
   "source": [
    "type(x)"
   ]
  },
  {
   "cell_type": "code",
   "execution_count": 42,
   "id": "98729bc3-daed-4a8b-b2d4-c871d4d89af4",
   "metadata": {},
   "outputs": [
    {
     "name": "stdout",
     "output_type": "stream",
     "text": [
      "enter a number {1,2,3}\n"
     ]
    }
   ],
   "source": [
    "a=list(input(\"enter a number\"))"
   ]
  },
  {
   "cell_type": "code",
   "execution_count": 43,
   "id": "582db4c4-4871-45b8-bd92-f4d9b0cd5096",
   "metadata": {},
   "outputs": [
    {
     "data": {
      "text/plain": [
       "['{', '1', ',', '2', ',', '3', '}']"
      ]
     },
     "execution_count": 43,
     "metadata": {},
     "output_type": "execute_result"
    }
   ],
   "source": [
    "a"
   ]
  },
  {
   "cell_type": "code",
   "execution_count": 8,
   "id": "182f5402-0d21-49ee-a3c0-6f34ab62a557",
   "metadata": {},
   "outputs": [
    {
     "name": "stdout",
     "output_type": "stream",
     "text": [
      "enter any no to check prime or not -33\n"
     ]
    },
    {
     "name": "stdout",
     "output_type": "stream",
     "text": [
      "not prime\n"
     ]
    }
   ],
   "source": [
    "x=int(input(\"enter any no to check prime or not\"))\n",
    "temp=0\n",
    "if x == 1:\n",
    "    print(x, \"is not a prime number\")\n",
    "elif x > 1:\n",
    "    for i in range(1,x):\n",
    "        if(x%i)==0:\n",
    "            temp+=1\n",
    "    if(temp>2):\n",
    "        print(\"not prime\")\n",
    "    else:\n",
    "        print(\"prime\")\n",
    "else:\n",
    "    print(\"not prime\")"
   ]
  },
  {
   "cell_type": "code",
   "execution_count": 9,
   "id": "32b1ffe9-f0e7-4969-9dc3-649176cbe878",
   "metadata": {},
   "outputs": [
    {
     "name": "stdout",
     "output_type": "stream",
     "text": [
      " 56\n"
     ]
    }
   ],
   "source": [
    "x=input()"
   ]
  },
  {
   "cell_type": "code",
   "execution_count": 10,
   "id": "4820b20c-d8d1-446c-821b-385a02b147dd",
   "metadata": {},
   "outputs": [
    {
     "data": {
      "text/plain": [
       "str"
      ]
     },
     "execution_count": 10,
     "metadata": {},
     "output_type": "execute_result"
    }
   ],
   "source": [
    "type(x)"
   ]
  },
  {
   "cell_type": "code",
   "execution_count": 11,
   "id": "660f5601-26eb-44a6-a367-a869a1e4f669",
   "metadata": {},
   "outputs": [
    {
     "data": {
      "text/plain": [
       "'56'"
      ]
     },
     "execution_count": 11,
     "metadata": {},
     "output_type": "execute_result"
    }
   ],
   "source": [
    "x\n"
   ]
  },
  {
   "cell_type": "code",
   "execution_count": 12,
   "id": "f13f219c-dd5c-4adf-8518-bc4f5f1a88c6",
   "metadata": {},
   "outputs": [
    {
     "name": "stdout",
     "output_type": "stream",
     "text": [
      "Enter your name Anirudha\n"
     ]
    }
   ],
   "source": [
    "w=input(\"Enter your name\")"
   ]
  },
  {
   "cell_type": "code",
   "execution_count": 13,
   "id": "9070eb9c-38f6-4194-919d-cb7489859487",
   "metadata": {},
   "outputs": [
    {
     "data": {
      "text/plain": [
       "'Anirudha'"
      ]
     },
     "execution_count": 13,
     "metadata": {},
     "output_type": "execute_result"
    }
   ],
   "source": [
    "w\n"
   ]
  },
  {
   "cell_type": "code",
   "execution_count": 16,
   "id": "79a7f5d2-65e0-40d3-a33a-394ac4ca31ed",
   "metadata": {},
   "outputs": [
    {
     "name": "stdout",
     "output_type": "stream",
     "text": [
      "Enter your name: ani\n"
     ]
    },
    {
     "name": "stdout",
     "output_type": "stream",
     "text": [
      "my name is ani\n"
     ]
    }
   ],
   "source": [
    "x=input(\"Enter your name:\")\n",
    "print(\"my name is \"+x)\n"
   ]
  },
  {
   "cell_type": "code",
   "execution_count": 12,
   "id": "9a0fed82-3dc8-46a4-ba1f-3d25f9947c5c",
   "metadata": {},
   "outputs": [
    {
     "name": "stdout",
     "output_type": "stream",
     "text": [
      "Enter your name Anirudha\n"
     ]
    }
   ],
   "source": [
    "w=input(\"Enter your name\")"
   ]
  },
  {
   "cell_type": "code",
   "execution_count": 19,
   "id": "ae7b4873-4331-4b6e-9b32-621765a2e8c5",
   "metadata": {},
   "outputs": [
    {
     "name": "stdout",
     "output_type": "stream",
     "text": [
      "ani is my age\n"
     ]
    }
   ],
   "source": [
    "print(x+\" is my age\")"
   ]
  },
  {
   "cell_type": "code",
   "execution_count": 21,
   "id": "ded0944b-9ee7-486d-84c9-d75bb23d2a31",
   "metadata": {},
   "outputs": [
    {
     "name": "stdout",
     "output_type": "stream",
     "text": [
      "50\n"
     ]
    }
   ],
   "source": [
    "y=30\n",
    "w=20\n",
    "print(w+y)"
   ]
  },
  {
   "cell_type": "code",
   "execution_count": 24,
   "id": "4894e116-0f8f-4532-bfda-9955aa8dad62",
   "metadata": {},
   "outputs": [
    {
     "name": "stdout",
     "output_type": "stream",
     "text": [
      "Enter the first value : 20\n",
      "enter the second value: 30\n"
     ]
    },
    {
     "name": "stdout",
     "output_type": "stream",
     "text": [
      "50\n"
     ]
    }
   ],
   "source": [
    "x=int(input(\"Enter the first value :\"))\n",
    "y=int(input(\"enter the second value:\"))\n",
    "w=x+y\n",
    "print(w)"
   ]
  },
  {
   "cell_type": "code",
   "execution_count": 27,
   "id": "bb7587d4-c304-4e20-9980-0c44f959ea42",
   "metadata": {},
   "outputs": [
    {
     "name": "stdout",
     "output_type": "stream",
     "text": [
      "hi ok pwskills\n"
     ]
    }
   ],
   "source": [
    "x=\"hi\"\n",
    "y=\"pwskills\"\n",
    "print(f\"{x} ok {y}\")"
   ]
  },
  {
   "cell_type": "code",
   "execution_count": 33,
   "id": "a9aa1a54-f3ec-4d42-ad82-d1196588a6a5",
   "metadata": {},
   "outputs": [
    {
     "name": "stdout",
     "output_type": "stream",
     "text": [
      "skills and pw\n"
     ]
    }
   ],
   "source": [
    "print('{1} and {0}'.format(\"pw\",\"skills\"))"
   ]
  },
  {
   "cell_type": "code",
   "execution_count": 36,
   "id": "a22c3927-9790-4515-8004-52bca21e5510",
   "metadata": {},
   "outputs": [
    {
     "name": "stdout",
     "output_type": "stream",
     "text": [
      "coding in skills pw\n"
     ]
    }
   ],
   "source": [
    "print('{2} in {1} {0}'.format(\"pw\",\"skills\",\"coding\"))"
   ]
  },
  {
   "cell_type": "code",
   "execution_count": 39,
   "id": "af8ed2d5-fae5-4fa0-aaef-1c9c44df3bcf",
   "metadata": {},
   "outputs": [
    {
     "name": "stdout",
     "output_type": "stream",
     "text": [
      "89074562\n",
      "HIII!\n",
      "$$Howareyou??\n",
      "10*10 =100\n",
      "(12>10 and True\n",
      "I am here to learn python\n"
     ]
    }
   ],
   "source": [
    "print('''89074562\n",
    "HIII!\n",
    "$$Howareyou??\n",
    "10*10 =100\n",
    "(12>10 and True\n",
    "I am here to learn python''')"
   ]
  },
  {
   "cell_type": "code",
   "execution_count": 40,
   "id": "4aa47675-dcbf-4285-a339-6781d8a9d19e",
   "metadata": {},
   "outputs": [
    {
     "name": "stdout",
     "output_type": "stream",
     "text": [
      "$\n",
      "$$\n",
      "$$$\n",
      "$$$$\n",
      "$$$$$\n"
     ]
    }
   ],
   "source": [
    "print(\"$\\n$$\\n$$$\\n$$$$\\n$$$$$\")"
   ]
  },
  {
   "cell_type": "code",
   "execution_count": 45,
   "id": "5bab2021-e891-4ec2-bf9b-37a9a7f0267f",
   "metadata": {},
   "outputs": [
    {
     "name": "stdout",
     "output_type": "stream",
     "text": [
      "enter a string ani\n"
     ]
    },
    {
     "name": "stdout",
     "output_type": "stream",
     "text": [
      "!ani!\n",
      "ani\n"
     ]
    }
   ],
   "source": [
    "x=input(\"enter a string\")\n",
    "y=x\n",
    "print(\"!\"+x+\"!\")\n",
    "print(y)"
   ]
  },
  {
   "cell_type": "code",
   "execution_count": 1,
   "id": "46dc1acc-e89b-4704-a09b-b420e61e50d0",
   "metadata": {},
   "outputs": [],
   "source": [
    "a=10\n",
    "b=20"
   ]
  },
  {
   "cell_type": "code",
   "execution_count": 2,
   "id": "0207d9fa-fdf8-4f23-967c-7a5111729fd7",
   "metadata": {},
   "outputs": [
    {
     "data": {
      "text/plain": [
       "30"
      ]
     },
     "execution_count": 2,
     "metadata": {},
     "output_type": "execute_result"
    }
   ],
   "source": [
    "a+b\n"
   ]
  },
  {
   "cell_type": "code",
   "execution_count": 6,
   "id": "7d19ca68-9250-4eb0-be4b-dd1dd90583df",
   "metadata": {},
   "outputs": [
    {
     "data": {
      "text/plain": [
       "0.5"
      ]
     },
     "execution_count": 6,
     "metadata": {},
     "output_type": "execute_result"
    }
   ],
   "source": [
    "a/b"
   ]
  },
  {
   "cell_type": "code",
   "execution_count": 7,
   "id": "505c6626-20a6-4094-9b92-0faa56465ec8",
   "metadata": {},
   "outputs": [
    {
     "data": {
      "text/plain": [
       "0"
      ]
     },
     "execution_count": 7,
     "metadata": {},
     "output_type": "execute_result"
    }
   ],
   "source": [
    "a//b"
   ]
  },
  {
   "cell_type": "code",
   "execution_count": 5,
   "id": "fadb8cde-ab6d-4a54-9788-bdb0204d68b2",
   "metadata": {},
   "outputs": [
    {
     "data": {
      "text/plain": [
       "0"
      ]
     },
     "execution_count": 5,
     "metadata": {},
     "output_type": "execute_result"
    }
   ],
   "source": [
    "b%a"
   ]
  },
  {
   "cell_type": "code",
   "execution_count": 8,
   "id": "0e75125a-b10e-4178-b35e-d75bacb81fe3",
   "metadata": {},
   "outputs": [
    {
     "data": {
      "text/plain": [
       "False"
      ]
     },
     "execution_count": 8,
     "metadata": {},
     "output_type": "execute_result"
    }
   ],
   "source": [
    "a == b"
   ]
  },
  {
   "cell_type": "code",
   "execution_count": 9,
   "id": "211d689c-13ef-47f4-b84d-e4687f226b4e",
   "metadata": {},
   "outputs": [],
   "source": [
    "a=10\n",
    "b=10"
   ]
  },
  {
   "cell_type": "code",
   "execution_count": 10,
   "id": "c0dfe4b0-ecf2-4a84-b408-6bec616e1500",
   "metadata": {},
   "outputs": [
    {
     "data": {
      "text/plain": [
       "True"
      ]
     },
     "execution_count": 10,
     "metadata": {},
     "output_type": "execute_result"
    }
   ],
   "source": [
    "a==b"
   ]
  },
  {
   "cell_type": "code",
   "execution_count": 11,
   "id": "41072278-2100-426c-bb3c-102c5903d2d3",
   "metadata": {},
   "outputs": [
    {
     "data": {
      "text/plain": [
       "False"
      ]
     },
     "execution_count": 11,
     "metadata": {},
     "output_type": "execute_result"
    }
   ],
   "source": [
    "a is b # 'is' is a idenity operator"
   ]
  },
  {
   "cell_type": "code",
   "execution_count": 22,
   "id": "2a5c60b0-c32b-4914-a581-4e8c0eb877e2",
   "metadata": {},
   "outputs": [
    {
     "data": {
      "text/plain": [
       "1354193655936"
      ]
     },
     "execution_count": 22,
     "metadata": {},
     "output_type": "execute_result"
    }
   ],
   "source": [
    "id(a)"
   ]
  },
  {
   "cell_type": "code",
   "execution_count": 21,
   "id": "c7bcf86a-fa0b-4e80-afe8-cc6a1a902485",
   "metadata": {},
   "outputs": [
    {
     "data": {
      "text/plain": [
       "1354193662208"
      ]
     },
     "execution_count": 21,
     "metadata": {},
     "output_type": "execute_result"
    }
   ],
   "source": [
    "id(b)"
   ]
  },
  {
   "cell_type": "code",
   "execution_count": 14,
   "id": "a202bd2b-74a9-4e12-bab1-ca5b327af230",
   "metadata": {},
   "outputs": [
    {
     "data": {
      "text/plain": [
       "False"
      ]
     },
     "execution_count": 14,
     "metadata": {},
     "output_type": "execute_result"
    }
   ],
   "source": [
    "id(a) is id(b)"
   ]
  },
  {
   "cell_type": "code",
   "execution_count": 15,
   "id": "eb4397b4-a48c-41a4-bc8e-d847a05af9a1",
   "metadata": {},
   "outputs": [],
   "source": [
    "a=[1,2,3]"
   ]
  },
  {
   "cell_type": "code",
   "execution_count": 16,
   "id": "5308653f-aaa8-4aa3-937c-bb5b275f8c29",
   "metadata": {},
   "outputs": [],
   "source": [
    "b=[1,2,3]"
   ]
  },
  {
   "cell_type": "code",
   "execution_count": 17,
   "id": "cc7078f1-73c1-4eff-abb5-2bba57c0c187",
   "metadata": {},
   "outputs": [
    {
     "data": {
      "text/plain": [
       "True"
      ]
     },
     "execution_count": 17,
     "metadata": {},
     "output_type": "execute_result"
    }
   ],
   "source": [
    "a==b"
   ]
  },
  {
   "cell_type": "code",
   "execution_count": 18,
   "id": "28122474-7808-412e-b2e9-88dd2721508e",
   "metadata": {},
   "outputs": [
    {
     "data": {
      "text/plain": [
       "False"
      ]
     },
     "execution_count": 18,
     "metadata": {},
     "output_type": "execute_result"
    }
   ],
   "source": [
    "a is b\n"
   ]
  },
  {
   "cell_type": "code",
   "execution_count": 19,
   "id": "4e1bd182-9e18-436a-874d-1334c0a7b28a",
   "metadata": {},
   "outputs": [
    {
     "data": {
      "text/plain": [
       "1354193655936"
      ]
     },
     "execution_count": 19,
     "metadata": {},
     "output_type": "execute_result"
    }
   ],
   "source": [
    "id(a)"
   ]
  },
  {
   "cell_type": "code",
   "execution_count": 20,
   "id": "2f018dc0-b4ea-48b8-94db-a63fad1da260",
   "metadata": {},
   "outputs": [
    {
     "data": {
      "text/plain": [
       "1354193662208"
      ]
     },
     "execution_count": 20,
     "metadata": {},
     "output_type": "execute_result"
    }
   ],
   "source": [
    "id(b)"
   ]
  },
  {
   "cell_type": "code",
   "execution_count": 23,
   "id": "fb336f6f-a403-458a-ad0d-5e0ea9d6620d",
   "metadata": {},
   "outputs": [],
   "source": [
    "b=a"
   ]
  },
  {
   "cell_type": "code",
   "execution_count": 24,
   "id": "9dd7c7f7-c433-4cae-9223-701627e8e60d",
   "metadata": {},
   "outputs": [
    {
     "data": {
      "text/plain": [
       "True"
      ]
     },
     "execution_count": 24,
     "metadata": {},
     "output_type": "execute_result"
    }
   ],
   "source": [
    "a == b"
   ]
  },
  {
   "cell_type": "code",
   "execution_count": 25,
   "id": "2abed5be-d758-4fed-9a01-744644daae55",
   "metadata": {},
   "outputs": [
    {
     "data": {
      "text/plain": [
       "True"
      ]
     },
     "execution_count": 25,
     "metadata": {},
     "output_type": "execute_result"
    }
   ],
   "source": [
    "a is b"
   ]
  },
  {
   "cell_type": "code",
   "execution_count": 40,
   "id": "ebdb1e46-fefd-4ad2-8889-05701c475b02",
   "metadata": {},
   "outputs": [
    {
     "name": "stdout",
     "output_type": "stream",
     "text": [
      "Enter a integer 10\n"
     ]
    },
    {
     "name": "stdout",
     "output_type": "stream",
     "text": [
      "5003154509899970\n"
     ]
    }
   ],
   "source": [
    "x=int(input(\"Enter a integer\"))\n",
    "y=(3**35//x)\n",
    "print(y)"
   ]
  },
  {
   "cell_type": "code",
   "execution_count": 33,
   "id": "dd073baa-6433-4ebf-98b9-374cd60e4038",
   "metadata": {},
   "outputs": [
    {
     "data": {
      "text/plain": [
       "4"
      ]
     },
     "execution_count": 33,
     "metadata": {},
     "output_type": "execute_result"
    }
   ],
   "source": [
    "2**2"
   ]
  },
  {
   "cell_type": "code",
   "execution_count": 36,
   "id": "15af3288-5268-42a2-b10e-d400edffaaa4",
   "metadata": {},
   "outputs": [
    {
     "data": {
      "text/plain": [
       "3.0"
      ]
     },
     "execution_count": 36,
     "metadata": {},
     "output_type": "execute_result"
    }
   ],
   "source": [
    "import math\n",
    "math.sqrt(9)"
   ]
  },
  {
   "cell_type": "code",
   "execution_count": 46,
   "id": "503a004a-6d80-4613-9e95-e839e0328d30",
   "metadata": {},
   "outputs": [
    {
     "data": {
      "text/plain": [
       "True"
      ]
     },
     "execution_count": 46,
     "metadata": {},
     "output_type": "execute_result"
    }
   ],
   "source": [
    "a>=b"
   ]
  },
  {
   "cell_type": "code",
   "execution_count": 44,
   "id": "e96c74f6-868b-4209-8fda-77542655ae39",
   "metadata": {},
   "outputs": [
    {
     "data": {
      "text/plain": [
       "True"
      ]
     },
     "execution_count": 44,
     "metadata": {},
     "output_type": "execute_result"
    }
   ],
   "source": [
    "a<=b"
   ]
  },
  {
   "cell_type": "code",
   "execution_count": 43,
   "id": "02474e3b-bc54-4359-b25b-a762a97f6c12",
   "metadata": {},
   "outputs": [
    {
     "data": {
      "text/plain": [
       "True"
      ]
     },
     "execution_count": 43,
     "metadata": {},
     "output_type": "execute_result"
    }
   ],
   "source": [
    "a==b"
   ]
  },
  {
   "cell_type": "code",
   "execution_count": 50,
   "id": "5b000609-7b17-4d9e-bf36-fc0a24d3120d",
   "metadata": {},
   "outputs": [
    {
     "data": {
      "text/plain": [
       "3"
      ]
     },
     "execution_count": 50,
     "metadata": {},
     "output_type": "execute_result"
    }
   ],
   "source": [
    "5%3\n",
    "3%5"
   ]
  },
  {
   "cell_type": "code",
   "execution_count": 51,
   "id": "51264a3e-2984-4ec9-b3af-3474ac7eea21",
   "metadata": {},
   "outputs": [
    {
     "data": {
      "text/plain": [
       "3"
      ]
     },
     "execution_count": 51,
     "metadata": {},
     "output_type": "execute_result"
    }
   ],
   "source": [
    "3%5"
   ]
  },
  {
   "cell_type": "code",
   "execution_count": 1,
   "id": "2c5c454f-d2b1-47f2-ae3b-9545289776f7",
   "metadata": {},
   "outputs": [
    {
     "name": "stdout",
     "output_type": "stream",
     "text": [
      "enter a no: 153\n"
     ]
    },
    {
     "name": "stdout",
     "output_type": "stream",
     "text": [
      "not a armstrong\n"
     ]
    }
   ],
   "source": [
    "x=int(input(\"enter a no:\"))\n",
    "s=0\n",
    "temp=x\n",
    "for i in range(x):\n",
    "    rem=temp%10\n",
    "    cube=s+rem**3\n",
    "    fd=temp/10\n",
    "if(x==s):\n",
    "    print(\"armstrong\")\n",
    "else:\n",
    "    print(\"not a armstrong\")"
   ]
  },
  {
   "cell_type": "code",
   "execution_count": 8,
   "id": "2e847803-2d01-4ef3-89db-c0f4ebca4f75",
   "metadata": {},
   "outputs": [
    {
     "ename": "NameError",
     "evalue": "name 'a' is not defined",
     "output_type": "error",
     "traceback": [
      "\u001b[1;31m---------------------------------------------------------------------------\u001b[0m",
      "\u001b[1;31mNameError\u001b[0m                                 Traceback (most recent call last)",
      "Cell \u001b[1;32mIn[8], line 1\u001b[0m\n\u001b[1;32m----> 1\u001b[0m \u001b[38;5;28mbin\u001b[39m(\u001b[43ma\u001b[49m)\n",
      "\u001b[1;31mNameError\u001b[0m: name 'a' is not defined"
     ]
    }
   ],
   "source": [
    "bin(a)"
   ]
  },
  {
   "cell_type": "code",
   "execution_count": 9,
   "id": "7c0f885d-762b-43c6-bdc5-1e5f3485af9c",
   "metadata": {},
   "outputs": [],
   "source": [
    "a=10"
   ]
  },
  {
   "cell_type": "code",
   "execution_count": 10,
   "id": "c674d16f-7383-4a1e-93a1-e3951939ad5e",
   "metadata": {},
   "outputs": [],
   "source": [
    "b=4"
   ]
  },
  {
   "cell_type": "code",
   "execution_count": 11,
   "id": "449fd21f-fc71-44de-b62a-d752f46b6cd3",
   "metadata": {},
   "outputs": [
    {
     "data": {
      "text/plain": [
       "0"
      ]
     },
     "execution_count": 11,
     "metadata": {},
     "output_type": "execute_result"
    }
   ],
   "source": [
    "a & b"
   ]
  },
  {
   "cell_type": "code",
   "execution_count": 14,
   "id": "4e643414-cbc1-489a-a02a-2cb55fed1f6a",
   "metadata": {},
   "outputs": [
    {
     "ename": "SyntaxError",
     "evalue": "invalid syntax (2641698863.py, line 1)",
     "output_type": "error",
     "traceback": [
      "\u001b[1;36m  Cell \u001b[1;32mIn[14], line 1\u001b[1;36m\u001b[0m\n\u001b[1;33m    (a).(b)\u001b[0m\n\u001b[1;37m        ^\u001b[0m\n\u001b[1;31mSyntaxError\u001b[0m\u001b[1;31m:\u001b[0m invalid syntax\n"
     ]
    }
   ],
   "source": [
    "(a).(b)"
   ]
  },
  {
   "cell_type": "code",
   "execution_count": 17,
   "id": "7f43a72b-b183-4568-8c61-c7b5cd3202c0",
   "metadata": {},
   "outputs": [
    {
     "data": {
      "text/plain": [
       "14"
      ]
     },
     "execution_count": 17,
     "metadata": {},
     "output_type": "execute_result"
    }
   ],
   "source": [
    "b | a"
   ]
  },
  {
   "cell_type": "code",
   "execution_count": 18,
   "id": "0f58dc9a-f039-4afb-b005-6595c284d4e6",
   "metadata": {},
   "outputs": [
    {
     "data": {
      "text/plain": [
       "4"
      ]
     },
     "execution_count": 18,
     "metadata": {},
     "output_type": "execute_result"
    }
   ],
   "source": [
    "a and b"
   ]
  },
  {
   "cell_type": "code",
   "execution_count": 21,
   "id": "9389f3ef-9b10-4d60-968a-5433059dd066",
   "metadata": {},
   "outputs": [
    {
     "data": {
      "text/plain": [
       "-5"
      ]
     },
     "execution_count": 21,
     "metadata": {},
     "output_type": "execute_result"
    }
   ],
   "source": [
    "~b"
   ]
  },
  {
   "cell_type": "code",
   "execution_count": 22,
   "id": "20ba5066-1a83-440b-8d42-bea198d50f12",
   "metadata": {},
   "outputs": [
    {
     "data": {
      "text/plain": [
       "-11"
      ]
     },
     "execution_count": 22,
     "metadata": {},
     "output_type": "execute_result"
    }
   ],
   "source": [
    "~a"
   ]
  },
  {
   "cell_type": "code",
   "execution_count": 23,
   "id": "95a3fe2b-76ae-4e99-a154-42cd04af361e",
   "metadata": {},
   "outputs": [
    {
     "data": {
      "text/plain": [
       "14"
      ]
     },
     "execution_count": 23,
     "metadata": {},
     "output_type": "execute_result"
    }
   ],
   "source": [
    "a^b"
   ]
  },
  {
   "cell_type": "code",
   "execution_count": 8,
   "id": "5c151887-2063-4aae-92d8-30405b8ec83e",
   "metadata": {},
   "outputs": [
    {
     "name": "stdout",
     "output_type": "stream",
     "text": [
      "Enter a number 153\n"
     ]
    },
    {
     "name": "stdout",
     "output_type": "stream",
     "text": [
      "Armstrong\n"
     ]
    }
   ],
   "source": [
    "a=int(input(\"Enter a number\"))\n",
    "temp=x\n",
    "s=0\n",
    "while temp > 0:\n",
    "    rem=temp%10\n",
    "    s=s+rem**3\n",
    "    temp=temp/10\n",
    "if(x==s):\n",
    "    print(\"Armstrong\")\n",
    "else:\n",
    "    print(\"Not a Armstrong\")"
   ]
  },
  {
   "cell_type": "code",
   "execution_count": 11,
   "id": "5ee10b2c-a843-400c-9abc-b8e00738e6f2",
   "metadata": {},
   "outputs": [
    {
     "name": "stdout",
     "output_type": "stream",
     "text": [
      "Enter a number 153\n"
     ]
    },
    {
     "name": "stdout",
     "output_type": "stream",
     "text": [
      "Armstrong\n"
     ]
    }
   ],
   "source": [
    "a=int(input(\"Enter a number\"))\n",
    "sum=0\n",
    "temp=a\n",
    "for i in range(a):\n",
    "    rem=temp%10\n",
    "    sum=sum+rem**3\n",
    "    temp//=10\n",
    "if(a==sum):\n",
    "    print(\"Armstrong\")\n",
    "else:\n",
    "    print(\"Not a armstrong\")"
   ]
  },
  {
   "cell_type": "code",
   "execution_count": 20,
   "id": "571b7064-ad75-40c3-9933-748610887ade",
   "metadata": {},
   "outputs": [
    {
     "name": "stdout",
     "output_type": "stream",
     "text": [
      "Enter a number 1\n"
     ]
    },
    {
     "name": "stdout",
     "output_type": "stream",
     "text": [
      "composite\n"
     ]
    }
   ],
   "source": [
    "a=int(input(\"Enter a number\"))\n",
    "temp=0\n",
    "if(a==1):\n",
    "    print(\"composite\")\n",
    "else:\n",
    "    for i in range(1,a):\n",
    "        if(a%i==0):\n",
    "            temp=temp+1\n",
    "    if(temp>2):\n",
    "        print(\"not prime\")\n",
    "    else:\n",
    "        print(\"prime\")"
   ]
  },
  {
   "cell_type": "code",
   "execution_count": 1,
   "id": "50dc5160-20c6-4317-b8bc-12a3b3ed6f8c",
   "metadata": {},
   "outputs": [
    {
     "data": {
      "text/plain": [
       "3"
      ]
     },
     "execution_count": 1,
     "metadata": {},
     "output_type": "execute_result"
    }
   ],
   "source": [
    "3%5"
   ]
  },
  {
   "cell_type": "code",
   "execution_count": 4,
   "id": "83e83bc4-a019-4f7f-b22c-317197d25565",
   "metadata": {},
   "outputs": [
    {
     "data": {
      "text/plain": [
       "2"
      ]
     },
     "execution_count": 4,
     "metadata": {},
     "output_type": "execute_result"
    }
   ],
   "source": [
    "3%5\n",
    "5%3"
   ]
  },
  {
   "cell_type": "code",
   "execution_count": 5,
   "id": "22e1f87f-b85b-4f42-bfe3-065b24f34a0d",
   "metadata": {},
   "outputs": [],
   "source": [
    "a=10"
   ]
  },
  {
   "cell_type": "code",
   "execution_count": 6,
   "id": "e07981e4-d93d-44a5-bec6-4c467b570c17",
   "metadata": {},
   "outputs": [
    {
     "data": {
      "text/plain": [
       "'0b1010'"
      ]
     },
     "execution_count": 6,
     "metadata": {},
     "output_type": "execute_result"
    }
   ],
   "source": [
    "bin(a)"
   ]
  },
  {
   "cell_type": "code",
   "execution_count": 7,
   "id": "59ceed6f-8a01-4fb5-a726-ea3ec8043cad",
   "metadata": {},
   "outputs": [],
   "source": [
    "b=4"
   ]
  },
  {
   "cell_type": "code",
   "execution_count": 8,
   "id": "b9d1dd54-c914-4f8c-8636-4972fd0c7672",
   "metadata": {},
   "outputs": [
    {
     "data": {
      "text/plain": [
       "0"
      ]
     },
     "execution_count": 8,
     "metadata": {},
     "output_type": "execute_result"
    }
   ],
   "source": [
    "a & b"
   ]
  },
  {
   "cell_type": "code",
   "execution_count": 13,
   "id": "0256dc7e-1416-4579-b3d8-f129d817a9be",
   "metadata": {},
   "outputs": [
    {
     "data": {
      "text/plain": [
       "10"
      ]
     },
     "execution_count": 13,
     "metadata": {},
     "output_type": "execute_result"
    }
   ],
   "source": [
    "a or b"
   ]
  },
  {
   "cell_type": "code",
   "execution_count": 14,
   "id": "ccf2e0ff-f148-4be2-8bbe-de6a2d2a71c1",
   "metadata": {},
   "outputs": [
    {
     "data": {
      "text/plain": [
       "14"
      ]
     },
     "execution_count": 14,
     "metadata": {},
     "output_type": "execute_result"
    }
   ],
   "source": [
    "a | b"
   ]
  },
  {
   "cell_type": "code",
   "execution_count": 19,
   "id": "27ee7e93-969d-49c1-8174-4817626fe8de",
   "metadata": {},
   "outputs": [
    {
     "data": {
      "text/plain": [
       "True"
      ]
     },
     "execution_count": 19,
     "metadata": {},
     "output_type": "execute_result"
    }
   ],
   "source": [
    "a>76 or b>1"
   ]
  },
  {
   "cell_type": "code",
   "execution_count": 21,
   "id": "e49f5931-176a-4d6a-a665-341f439fb4b0",
   "metadata": {},
   "outputs": [
    {
     "data": {
      "text/plain": [
       "14"
      ]
     },
     "execution_count": 21,
     "metadata": {},
     "output_type": "execute_result"
    }
   ],
   "source": [
    "a ^ b"
   ]
  },
  {
   "cell_type": "code",
   "execution_count": 24,
   "id": "d7c22e86-7def-4a80-9ab8-8c8c18be5823",
   "metadata": {},
   "outputs": [
    {
     "data": {
      "text/plain": [
       "-11"
      ]
     },
     "execution_count": 24,
     "metadata": {},
     "output_type": "execute_result"
    }
   ],
   "source": [
    "~a"
   ]
  },
  {
   "cell_type": "code",
   "execution_count": 25,
   "id": "00ca4b9a-926c-4ade-85ef-97df22077240",
   "metadata": {},
   "outputs": [
    {
     "data": {
      "text/plain": [
       "-5"
      ]
     },
     "execution_count": 25,
     "metadata": {},
     "output_type": "execute_result"
    }
   ],
   "source": [
    "~b\n"
   ]
  },
  {
   "cell_type": "code",
   "execution_count": 26,
   "id": "e1075baa-df15-46f7-97f0-e8156ae71214",
   "metadata": {},
   "outputs": [
    {
     "data": {
      "text/plain": [
       "False"
      ]
     },
     "execution_count": 26,
     "metadata": {},
     "output_type": "execute_result"
    }
   ],
   "source": [
    "a is b"
   ]
  },
  {
   "cell_type": "code",
   "execution_count": 27,
   "id": "9c267174-3c86-4110-a13b-e2e2358df474",
   "metadata": {},
   "outputs": [
    {
     "data": {
      "text/plain": [
       "True"
      ]
     },
     "execution_count": 27,
     "metadata": {},
     "output_type": "execute_result"
    }
   ],
   "source": [
    "a is a"
   ]
  },
  {
   "cell_type": "code",
   "execution_count": 28,
   "id": "a9eb7f6a-814d-43d5-bb70-5d689b5b4024",
   "metadata": {},
   "outputs": [
    {
     "data": {
      "text/plain": [
       "5"
      ]
     },
     "execution_count": 28,
     "metadata": {},
     "output_type": "execute_result"
    }
   ],
   "source": [
    "a >> 1"
   ]
  },
  {
   "cell_type": "code",
   "execution_count": 29,
   "id": "03a3dc0d-4b53-498d-8832-158da7cef178",
   "metadata": {},
   "outputs": [
    {
     "data": {
      "text/plain": [
       "20"
      ]
     },
     "execution_count": 29,
     "metadata": {},
     "output_type": "execute_result"
    }
   ],
   "source": [
    "a << 1"
   ]
  },
  {
   "cell_type": "code",
   "execution_count": 38,
   "id": "06d24d18-1625-462f-867e-aeaf6c48f75b",
   "metadata": {},
   "outputs": [
    {
     "name": "stdout",
     "output_type": "stream",
     "text": [
      "3.3333333333333335\n"
     ]
    }
   ],
   "source": [
    "a=10\n",
    "a/=3\n",
    "print(a)"
   ]
  },
  {
   "cell_type": "code",
   "execution_count": 34,
   "id": "0ca73270-d6c5-4a90-a304-228aa6733763",
   "metadata": {},
   "outputs": [
    {
     "data": {
      "text/plain": [
       "0"
      ]
     },
     "execution_count": 34,
     "metadata": {},
     "output_type": "execute_result"
    }
   ],
   "source": [
    "a"
   ]
  },
  {
   "cell_type": "code",
   "execution_count": 40,
   "id": "cdd41d7d-5978-4c25-bd0b-86ca27326867",
   "metadata": {},
   "outputs": [
    {
     "name": "stdout",
     "output_type": "stream",
     "text": [
      "1\n"
     ]
    }
   ],
   "source": [
    "a=10\n",
    "a%=3\n",
    "print(a)"
   ]
  },
  {
   "cell_type": "code",
   "execution_count": 44,
   "id": "427eb5fa-8097-46a2-9693-9d45b366c8e8",
   "metadata": {},
   "outputs": [],
   "source": [
    "a=20\n"
   ]
  },
  {
   "cell_type": "code",
   "execution_count": 49,
   "id": "44e2e606-472b-41bc-b095-57ae44d83894",
   "metadata": {},
   "outputs": [
    {
     "name": "stdout",
     "output_type": "stream",
     "text": [
      "False\n"
     ]
    }
   ],
   "source": [
    "print(True ^ True)\n"
   ]
  },
  {
   "cell_type": "code",
   "execution_count": 50,
   "id": "0201fe50-df23-4070-8674-47a5b76ef21f",
   "metadata": {},
   "outputs": [
    {
     "data": {
      "text/plain": [
       "False"
      ]
     },
     "execution_count": 50,
     "metadata": {},
     "output_type": "execute_result"
    }
   ],
   "source": [
    "not(True)"
   ]
  },
  {
   "cell_type": "code",
   "execution_count": 51,
   "id": "6d6d0b3c-ea1b-48db-926f-a4799c791ff1",
   "metadata": {},
   "outputs": [],
   "source": [
    "a = True"
   ]
  },
  {
   "cell_type": "code",
   "execution_count": 53,
   "id": "e2402e4e-a9f1-455b-a39f-34a419366476",
   "metadata": {},
   "outputs": [
    {
     "data": {
      "text/plain": [
       "False"
      ]
     },
     "execution_count": 53,
     "metadata": {},
     "output_type": "execute_result"
    }
   ],
   "source": [
    "not(a)"
   ]
  },
  {
   "cell_type": "code",
   "execution_count": 54,
   "id": "5ddecedb-983c-437a-9144-81e79e096fab",
   "metadata": {},
   "outputs": [],
   "source": [
    "a=10\n",
    "b=4"
   ]
  },
  {
   "cell_type": "code",
   "execution_count": 55,
   "id": "128914d6-f50e-4a0d-b80e-9854f1540733",
   "metadata": {},
   "outputs": [
    {
     "data": {
      "text/plain": [
       "'0b1010'"
      ]
     },
     "execution_count": 55,
     "metadata": {},
     "output_type": "execute_result"
    }
   ],
   "source": [
    "bin(a)"
   ]
  },
  {
   "cell_type": "code",
   "execution_count": 57,
   "id": "72853a27-03c6-4796-807e-97f8abaf73b4",
   "metadata": {},
   "outputs": [
    {
     "data": {
      "text/plain": [
       "'0x4'"
      ]
     },
     "execution_count": 57,
     "metadata": {},
     "output_type": "execute_result"
    }
   ],
   "source": [
    "hex(b)"
   ]
  },
  {
   "cell_type": "code",
   "execution_count": 58,
   "id": "eb5693f3-e3fd-4a60-84e3-8411b5e59667",
   "metadata": {},
   "outputs": [
    {
     "ename": "NameError",
     "evalue": "name 'deci' is not defined",
     "output_type": "error",
     "traceback": [
      "\u001b[1;31m---------------------------------------------------------------------------\u001b[0m",
      "\u001b[1;31mNameError\u001b[0m                                 Traceback (most recent call last)",
      "Cell \u001b[1;32mIn[58], line 1\u001b[0m\n\u001b[1;32m----> 1\u001b[0m \u001b[43mdeci\u001b[49m(\u001b[38;5;124m'\u001b[39m\u001b[38;5;124m0x4\u001b[39m\u001b[38;5;124m'\u001b[39m)\n",
      "\u001b[1;31mNameError\u001b[0m: name 'deci' is not defined"
     ]
    }
   ],
   "source": [
    "deci('0x4')"
   ]
  },
  {
   "cell_type": "code",
   "execution_count": 66,
   "id": "1c4aada3-4407-48d4-8cdd-ac627e223b8b",
   "metadata": {},
   "outputs": [
    {
     "name": "stdout",
     "output_type": "stream",
     "text": [
      "111\n"
     ]
    }
   ],
   "source": [
    "n = 7\n",
    "binary = format(n,'b')\n",
    "print(binary)  # Output: '100'"
   ]
  },
  {
   "cell_type": "code",
   "execution_count": null,
   "id": "e8feac60-01cd-4e0a-b7cb-c891206c806e",
   "metadata": {},
   "outputs": [],
   "source": [
    "# Function calculates the decimal equivalent\n",
    "# to given binary number\n",
    "\n",
    "\n",
    "def binaryToDecimal(binary):\n",
    "\n",
    "\tdecimal, i = 0, 0\n",
    "\twhile(binary != 0):\n",
    "\t\tdec = binary % 10\n",
    "\t\tdecimal = decimal + dec * pow(2, i)\n",
    "\t\tbinary = binary//10\n",
    "\t\ti += 1\n",
    "\tprint(decimal)\n",
    "\n",
    "\n",
    "# Driver code\n",
    "if __name__ == '__main__':\n",
    "\tbinaryToDecimal(100)\n",
    "\tbinaryToDecimal(101)\n",
    "\tbinaryToDecimal(1001)\n"
   ]
  },
  {
   "cell_type": "code",
   "execution_count": null,
   "id": "1f26cbee-7f49-4d61-ae37-e3ce19d820f3",
   "metadata": {},
   "outputs": [],
   "source": [
    "decimal\n"
   ]
  },
  {
   "cell_type": "code",
   "execution_count": 1,
   "id": "246507ce-438b-4cdc-a358-c713da5d4e9d",
   "metadata": {},
   "outputs": [],
   "source": [
    "a=11"
   ]
  },
  {
   "cell_type": "code",
   "execution_count": 2,
   "id": "d598a25d-32ae-45ad-8e0a-d4c6be6c6935",
   "metadata": {},
   "outputs": [
    {
     "data": {
      "text/plain": [
       "22"
      ]
     },
     "execution_count": 2,
     "metadata": {},
     "output_type": "execute_result"
    }
   ],
   "source": [
    "a<<1"
   ]
  },
  {
   "cell_type": "code",
   "execution_count": 3,
   "id": "769f6806-7140-4c24-a76b-e6265d6fec0b",
   "metadata": {},
   "outputs": [
    {
     "data": {
      "text/plain": [
       "44"
      ]
     },
     "execution_count": 3,
     "metadata": {},
     "output_type": "execute_result"
    }
   ],
   "source": [
    "a<<2"
   ]
  },
  {
   "cell_type": "code",
   "execution_count": 4,
   "id": "e0c8db1a-353c-46d2-8521-1d278e474a8c",
   "metadata": {},
   "outputs": [
    {
     "data": {
      "text/plain": [
       "88"
      ]
     },
     "execution_count": 4,
     "metadata": {},
     "output_type": "execute_result"
    }
   ],
   "source": [
    "a<<3"
   ]
  },
  {
   "cell_type": "code",
   "execution_count": 5,
   "id": "e4576220-7577-42ae-98f3-bc4585e2cea8",
   "metadata": {},
   "outputs": [
    {
     "data": {
      "text/plain": [
       "176"
      ]
     },
     "execution_count": 5,
     "metadata": {},
     "output_type": "execute_result"
    }
   ],
   "source": [
    "a<<4"
   ]
  },
  {
   "cell_type": "code",
   "execution_count": 11,
   "id": "ef802cfc-ed2e-40cd-9892-ca9c9bad87de",
   "metadata": {},
   "outputs": [
    {
     "ename": "TypeError",
     "evalue": "'int' object is not subscriptable",
     "output_type": "error",
     "traceback": [
      "\u001b[1;31m---------------------------------------------------------------------------\u001b[0m",
      "\u001b[1;31mTypeError\u001b[0m                                 Traceback (most recent call last)",
      "Cell \u001b[1;32mIn[11], line 3\u001b[0m\n\u001b[0;32m      1\u001b[0m i\u001b[38;5;241m=\u001b[39m\u001b[38;5;241m0\u001b[39m\n\u001b[0;32m      2\u001b[0m n\u001b[38;5;241m=\u001b[39m\u001b[38;5;241m7\u001b[39m\n\u001b[1;32m----> 3\u001b[0m x\u001b[38;5;241m=\u001b[39m\u001b[43ma\u001b[49m\u001b[43m[\u001b[49m\u001b[38;5;241;43m0\u001b[39;49m\u001b[43m]\u001b[49m\n\u001b[0;32m      4\u001b[0m \u001b[38;5;28;01mfor\u001b[39;00m i \u001b[38;5;129;01min\u001b[39;00m \u001b[38;5;28mrange\u001b[39m(n):\n\u001b[0;32m      5\u001b[0m     x\u001b[38;5;241m.\u001b[39mappend(a[i])\n",
      "\u001b[1;31mTypeError\u001b[0m: 'int' object is not subscriptable"
     ]
    }
   ],
   "source": [
    "i=0\n",
    "n=7\n",
    "x=a[0]\n",
    "for i in range(n):\n",
    "    x.append(a[i])\n",
    "    i+=1\n",
    "print(a[i])"
   ]
  },
  {
   "cell_type": "code",
   "execution_count": 14,
   "id": "4c0570f3-9796-40b7-afac-99dc40404151",
   "metadata": {},
   "outputs": [
    {
     "name": "stdout",
     "output_type": "stream",
     "text": [
      "Enter the time -9\n"
     ]
    },
    {
     "name": "stdout",
     "output_type": "stream",
     "text": [
      "Invalid!\n"
     ]
    }
   ],
   "source": [
    "t=int(input(\"Enter the time\"))\n",
    "if(t<0):\n",
    "    print(\"Invalid!\")\n",
    "else:\n",
    "    if(0<=t<=5):\n",
    "        print(\"Night\")\n",
    "    elif(6<=t<=11):\n",
    "        print(\"Morning\")\n",
    "    elif(12<=t<=17):\n",
    "        print(\"Afternoon\")\n",
    "    elif(18<=t<=23):\n",
    "        print(\"Evening\")\n",
    "    else:\n",
    "        print(\"Invalid\")\n"
   ]
  },
  {
   "cell_type": "code",
   "execution_count": 17,
   "id": "2c8bbe88-cf9b-459e-ae9f-f565b2bb6c0a",
   "metadata": {},
   "outputs": [
    {
     "data": {
      "text/plain": [
       "[1, 2, 3, 4]"
      ]
     },
     "execution_count": 17,
     "metadata": {},
     "output_type": "execute_result"
    }
   ],
   "source": [
    "list(range(1,5))"
   ]
  },
  {
   "cell_type": "code",
   "execution_count": 22,
   "id": "9823f9d9-3340-4370-a38c-365cceae81d9",
   "metadata": {},
   "outputs": [
    {
     "data": {
      "text/plain": [
       "[1, 2, 3]"
      ]
     },
     "execution_count": 22,
     "metadata": {},
     "output_type": "execute_result"
    }
   ],
   "source": [
    "list(range(1,4))"
   ]
  },
  {
   "cell_type": "code",
   "execution_count": 23,
   "id": "45df446f-54d3-44b1-9ec4-4c1ff81f5d7c",
   "metadata": {},
   "outputs": [
    {
     "data": {
      "text/plain": [
       "[1, 3]"
      ]
     },
     "execution_count": 23,
     "metadata": {},
     "output_type": "execute_result"
    }
   ],
   "source": [
    "list(range(1,4,2))"
   ]
  },
  {
   "cell_type": "code",
   "execution_count": null,
   "id": "e1a7e0d2-d04a-4dbb-9722-c4da4f70fa59",
   "metadata": {},
   "outputs": [],
   "source": []
  }
 ],
 "metadata": {
  "kernelspec": {
   "display_name": "Python 3 (ipykernel)",
   "language": "python",
   "name": "python3"
  },
  "language_info": {
   "codemirror_mode": {
    "name": "ipython",
    "version": 3
   },
   "file_extension": ".py",
   "mimetype": "text/x-python",
   "name": "python",
   "nbconvert_exporter": "python",
   "pygments_lexer": "ipython3",
   "version": "3.12.2"
  },
  "widgets": {
   "application/vnd.jupyter.widget-state+json": {
    "state": {},
    "version_major": 2,
    "version_minor": 0
   }
  }
 },
 "nbformat": 4,
 "nbformat_minor": 5
}
